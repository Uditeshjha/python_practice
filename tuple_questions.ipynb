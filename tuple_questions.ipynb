{
 "cells": [
  {
   "cell_type": "code",
   "execution_count": 1,
   "id": "58328aa3",
   "metadata": {},
   "outputs": [
    {
     "name": "stdout",
     "output_type": "stream",
     "text": [
      "Question 1: Create a tuple of first 10 natural numbers\n",
      "(1, 2, 3, 4, 5, 6, 7, 8, 9, 10)\n"
     ]
    }
   ],
   "source": [
    "# Question 1: Create a tuple of first 10 natural numbers\n",
    "print(\"Question 1: Create a tuple of first 10 natural numbers\")\n",
    "numbers = tuple(range(1,11))\n",
    "print(numbers)"
   ]
  },
  {
   "cell_type": "code",
   "execution_count": 3,
   "id": "c1d0b941",
   "metadata": {},
   "outputs": [
    {
     "name": "stdout",
     "output_type": "stream",
     "text": [
      "\n",
      "Question 2: Find the length of tuple (1, 2, 3, 4, 5, 6, 7, 8, 9, 10)\n",
      "10\n"
     ]
    }
   ],
   "source": [
    "# Question 2: Find the length of tuple (1, 2, 3, 4, 5, 6, 7, 8, 9, 10)\n",
    "print(\"\\nQuestion 2: Find the length of tuple (1, 2, 3, 4, 5, 6, 7, 8, 9, 10)\")\n",
    "t = (1, 2, 3, 4, 5, 6, 7, 8, 9, 10)\n",
    "print(len(t))"
   ]
  },
  {
   "cell_type": "code",
   "execution_count": 4,
   "id": "0c2b9386",
   "metadata": {},
   "outputs": [
    {
     "name": "stdout",
     "output_type": "stream",
     "text": [
      "\n",
      "Question 3: Access the 3rd element from tuple ('a', 'b', 'c', 'd', 'e')\n",
      "c\n"
     ]
    }
   ],
   "source": [
    "# Question 3: Access the 3rd element from tuple ('a', 'b', 'c', 'd', 'e')\n",
    "print(\"\\nQuestion 3: Access the 3rd element from tuple ('a', 'b', 'c', 'd', 'e')\")\n",
    "letters = ('a', 'b', 'c', 'd', 'e')\n",
    "print(letters[2]) "
   ]
  },
  {
   "cell_type": "code",
   "execution_count": 5,
   "id": "a2a7fe33",
   "metadata": {},
   "outputs": [
    {
     "name": "stdout",
     "output_type": "stream",
     "text": [
      "\n",
      "Question 4: Find the maximum value in tuple (23, 45, 12, 67, 34, 89, 56)\n",
      "89\n"
     ]
    }
   ],
   "source": [
    "# Question 4: Find the maximum value in tuple (23, 45, 12, 67, 34, 89, 56)\n",
    "print(\"\\nQuestion 4: Find the maximum value in tuple (23, 45, 12, 67, 34, 89, 56)\")\n",
    "nums = (23, 45, 12, 67, 34, 89, 56)\n",
    "print(max(nums))"
   ]
  },
  {
   "cell_type": "code",
   "execution_count": 6,
   "id": "73f12fa3",
   "metadata": {},
   "outputs": [
    {
     "name": "stdout",
     "output_type": "stream",
     "text": [
      "\n",
      "Question 5: Count how many times 5 appears in (1, 5, 2, 5, 3, 5, 4, 5, 6)\n",
      "4\n"
     ]
    }
   ],
   "source": [
    "# Question 5: Count how many times 5 appears in (1, 5, 2, 5, 3, 5, 4, 5, 6)\n",
    "print(\"\\nQuestion 5: Count how many times 5 appears in (1, 5, 2, 5, 3, 5, 4, 5, 6)\")\n",
    "tuple_data = (1, 5, 2, 5, 3, 5, 4, 5, 6)\n",
    "print(tuple_data.count(5))"
   ]
  },
  {
   "cell_type": "code",
   "execution_count": 7,
   "id": "f1e91e7b",
   "metadata": {},
   "outputs": [
    {
     "name": "stdout",
     "output_type": "stream",
     "text": [
      "\n",
      "Question 6: Create a tuple of mixed data types (integer, float, string, boolean)\n",
      "(10, 3.14, 'hello', True)\n"
     ]
    }
   ],
   "source": [
    "# Question 6: Create a tuple of mixed data types (integer, float, string, boolean)\n",
    "print(\"\\nQuestion 6: Create a tuple of mixed data types (integer, float, string, boolean)\")\n",
    "mixed = (10, 3.14, \"hello\", True)\n",
    "print(mixed)"
   ]
  },
  {
   "cell_type": "code",
   "execution_count": 8,
   "id": "1d7b3fcd",
   "metadata": {},
   "outputs": [
    {
     "name": "stdout",
     "output_type": "stream",
     "text": [
      "\n",
      "Question 7: Find the index of element 'python' in ('java', 'python', 'c++', 'javascript')\n",
      "1\n"
     ]
    }
   ],
   "source": [
    "# Question 7: Find the index of element 'python' in ('java', 'python', 'c++', 'javascript')\n",
    "print(\"\\nQuestion 7: Find the index of element 'python' in ('java', 'python', 'c++', 'javascript')\")\n",
    "langs = ('java', 'python', 'c++', 'javascript')\n",
    "print(langs.index('python'))"
   ]
  },
  {
   "cell_type": "code",
   "execution_count": 9,
   "id": "1dad7487",
   "metadata": {},
   "outputs": [
    {
     "name": "stdout",
     "output_type": "stream",
     "text": [
      "\n",
      "Question 8: Check if 25 exists in tuple (10, 20, 30, 40, 50)\n",
      "False\n"
     ]
    }
   ],
   "source": [
    "# Question 8: Check if 25 exists in tuple (10, 20, 30, 40, 50)\n",
    "print(\"\\nQuestion 8: Check if 25 exists in tuple (10, 20, 30, 40, 50)\")\n",
    "nums = (10, 20, 30, 40, 50)\n",
    "\n",
    "print(25 in nums)"
   ]
  },
  {
   "cell_type": "code",
   "execution_count": 10,
   "id": "4e2584b0",
   "metadata": {},
   "outputs": [
    {
     "name": "stdout",
     "output_type": "stream",
     "text": [
      "\n",
      "Question 9: Create a tuple of first 5 even numbers\n",
      "(2, 4, 6, 8, 10)\n"
     ]
    }
   ],
   "source": [
    "# Question 9: Create a tuple of first 5 even numbers\n",
    "print(\"\\nQuestion 9: Create a tuple of first 5 even numbers\")\n",
    "even_numbers = tuple(range(2,11,2))\n",
    "print(even_numbers)"
   ]
  },
  {
   "cell_type": "code",
   "execution_count": 11,
   "id": "be518b56",
   "metadata": {},
   "outputs": [
    {
     "name": "stdout",
     "output_type": "stream",
     "text": [
      "\n",
      "Question 10: Find the average of numbers in tuple (15, 23, 31, 42, 56, 78)\n",
      "40.833333333333336\n"
     ]
    }
   ],
   "source": [
    "# Question 10: Find the average of numbers in tuple (15, 23, 31, 42, 56, 78)\n",
    "print(\"\\nQuestion 10: Find the average of numbers in tuple (15, 23, 31, 42, 56, 78)\")\n",
    "nums = (15, 23, 31, 42, 56, 78)\n",
    "avg = sum(nums) / len(nums)\n",
    "print(avg)"
   ]
  },
  {
   "cell_type": "code",
   "execution_count": null,
   "id": "58707942",
   "metadata": {},
   "outputs": [],
   "source": []
  }
 ],
 "metadata": {
  "kernelspec": {
   "display_name": "Python 3",
   "language": "python",
   "name": "python3"
  },
  "language_info": {
   "codemirror_mode": {
    "name": "ipython",
    "version": 3
   },
   "file_extension": ".py",
   "mimetype": "text/x-python",
   "name": "python",
   "nbconvert_exporter": "python",
   "pygments_lexer": "ipython3",
   "version": "3.13.2"
  }
 },
 "nbformat": 4,
 "nbformat_minor": 5
}
