{
 "cells": [
  {
   "cell_type": "markdown",
   "id": "b6656f8f",
   "metadata": {},
   "source": [
    "# INTEGER DATATYPE ASSIGNMENT\n",
    "# ===========================\n",
    "\n",
    "# SOLVED EXAMPLE\n",
    "# --------------\n",
    "# Question: Calculate the sum of first 5 even numbers\n",
    "print(\"SOLVED EXAMPLE:\")\n",
    "print(\"Calculate the sum of first 5 even numbers\")\n",
    "first_5_even = [2, 4, 6, 8, 10]\n",
    "sum_even = sum(first_5_even)\n",
    "print(f\"First 5 even numbers: {first_5_even}\")\n",
    "print(f\"Sum: {sum_even}\")\n",
    "print(\"-\" * 50)\n",
    "\n",
    "# ASSIGNMENT QUESTIONS\n",
    "# ===================\n",
    "\n",
    "# Question 1: Calculate the product of first 10 natural numbers\n",
    "print(\"Question 1: Calculate the product of first 10 natural numbers\")\n",
    "# Your code here\n",
    "\n",
    "# Question 2: Find the remainder when 156 is divided by 7\n",
    "print(\"\\nQuestion 2: Find the remainder when 156 is divided by 7\")\n",
    "# Your code here\n",
    "\n",
    "# Question 3: Calculate the square of 25\n",
    "print(\"\\nQuestion 3: Calculate the square of 25\")\n",
    "# Your code here\n",
    "\n",
    "# Question 4: Find the cube root of 125\n",
    "print(\"\\nQuestion 4: Find the cube root of 125\")\n",
    "# Your code here\n",
    "\n",
    "# Question 5: Calculate the sum of digits in number 12345\n",
    "print(\"\\nQuestion 5: Calculate the sum of digits in number 12345\")\n",
    "# Your code here\n",
    "\n",
    "# Question 6: Check if 97 is a prime number\n",
    "print(\"\\nQuestion 6: Check if 97 is a prime number\")\n",
    "# Your code here\n",
    "\n",
    "# Question 7: Find the factorial of 8\n",
    "print(\"\\nQuestion 7: Find the factorial of 8\")\n",
    "# Your code here\n",
    "\n",
    "# Question 8: Calculate the average of numbers: 15, 23, 31, 42, 56\n",
    "print(\"\\nQuestion 8: Calculate the average of numbers: 15, 23, 31, 42, 56\")\n",
    "# Your code here\n",
    "\n",
    "# Question 9: Find the greatest common divisor (GCD) of 48 and 36\n",
    "print(\"\\nQuestion 9: Find the greatest common divisor (GCD) of 48 and 36\")\n",
    "# Your code here\n",
    "\n",
    "# Question 10: Calculate the sum of first 20 odd numbers\n",
    "print(\"\\nQuestion 10: Calculate the sum of first 20 odd numbers\")\n",
    "# Your code here "
   ]
  },
  {
   "cell_type": "code",
   "execution_count": null,
   "id": "acb412dc",
   "metadata": {},
   "outputs": [
    {
     "name": "stdout",
     "output_type": "stream",
     "text": [
      "Question 1: Calculate the product of first 10 natural numbers\n",
      "Product is: 3628800\n"
     ]
    }
   ],
   "source": [
    "# Question 1: Calculate the product of first 10 natural numbers\n",
    "print(\"Question 1: Calculate the product of first 10 natural numbers\")\n",
    "# Your code here\n",
    "product = 1\n",
    "for i in range(1,11):\n",
    "    product*=i\n",
    "print(f\"Product is: {product}\")"
   ]
  },
  {
   "cell_type": "code",
   "execution_count": 2,
   "id": "98e0ae78",
   "metadata": {},
   "outputs": [
    {
     "name": "stdout",
     "output_type": "stream",
     "text": [
      "\n",
      "Question 2: Find the remainder when 156 is divided by 7\n",
      "remainder is: 2\n"
     ]
    }
   ],
   "source": [
    "# Question 2: Find the remainder when 156 is divided by 7\n",
    "print(\"\\nQuestion 2: Find the remainder when 156 is divided by 7\")\n",
    "# Your code here\n",
    "remainder =  156 % 7\n",
    "print(f\"remainder is: {remainder}\")"
   ]
  },
  {
   "cell_type": "code",
   "execution_count": 3,
   "id": "c8394ab7",
   "metadata": {},
   "outputs": [
    {
     "name": "stdout",
     "output_type": "stream",
     "text": [
      "\n",
      "Question 3: Calculate the square of 25\n",
      "square is: 625\n"
     ]
    }
   ],
   "source": [
    "# Question 3: Calculate the square of 25\n",
    "print(\"\\nQuestion 3: Calculate the square of 25\")\n",
    "# Your code here\n",
    "square = 25 **2\n",
    "print(f\"square is: {square}\")"
   ]
  },
  {
   "cell_type": "code",
   "execution_count": 5,
   "id": "e4173db4",
   "metadata": {},
   "outputs": [
    {
     "name": "stdout",
     "output_type": "stream",
     "text": [
      "\n",
      "Question 4: Find the cube root of 125\n",
      "Cube root of 125 is: 5\n"
     ]
    }
   ],
   "source": [
    "# Question 4: Find the cube root of 125\n",
    "print(\"\\nQuestion 4: Find the cube root of 125\")\n",
    "# Your code here\n",
    "\n",
    "cube_root = 125 ** (1/3)\n",
    "print(\"Cube root of 125 is:\", round(cube_root))"
   ]
  },
  {
   "cell_type": "code",
   "execution_count": 7,
   "id": "63375fc2",
   "metadata": {},
   "outputs": [
    {
     "name": "stdout",
     "output_type": "stream",
     "text": [
      "\n",
      "Question 5: Calculate the sum of digits in number 12345\n",
      "digit sum is : 15\n"
     ]
    }
   ],
   "source": [
    "# Question 5: Calculate the sum of digits in number 12345\n",
    "print(\"\\nQuestion 5: Calculate the sum of digits in number 12345\")\n",
    "# Your code here\n",
    "number = 12345\n",
    "digit_sum = 0\n",
    "for digit in str(number):\n",
    "    digit_sum += int (digit)\n",
    "\n",
    "print(f\"digit sum is : {sum}\")"
   ]
  },
  {
   "cell_type": "code",
   "execution_count": 11,
   "id": "d2964365",
   "metadata": {},
   "outputs": [
    {
     "name": "stdout",
     "output_type": "stream",
     "text": [
      "\n",
      "Question 6: Check if 97 is a prime number\n",
      "97 is a prime number.\n"
     ]
    }
   ],
   "source": [
    "# Question 6: Check if 97 is a prime number\n",
    "print(\"\\nQuestion 6: Check if 97 is a prime number\")\n",
    "# Your code here\n",
    "num = 97\n",
    "isPrime = True\n",
    "for i in range(2,int(num ** 0.5) + 1):\n",
    "    if(num % i == 0):\n",
    "        isPrime = False\n",
    "        break\n",
    "if(isPrime):\n",
    "    print(f\"{num} is a prime number.\")\n",
    "else:\n",
    "    print(f\"{num} is not a prime number.\")"
   ]
  },
  {
   "cell_type": "code",
   "execution_count": 12,
   "id": "90fca042",
   "metadata": {},
   "outputs": [
    {
     "name": "stdout",
     "output_type": "stream",
     "text": [
      "\n",
      "Question 7: Find the factorial of 8\n",
      "Factorial of 8 is: 40320\n"
     ]
    }
   ],
   "source": [
    "# Question 7: Find the factorial of 8\n",
    "print(\"\\nQuestion 7: Find the factorial of 8\")\n",
    "# Your code here\n",
    "factorial = 1\n",
    "for i in range(1, 9):  # 1 to 8 inclusive\n",
    "    factorial *= i\n",
    "\n",
    "print(\"Factorial of 8 is:\", factorial)"
   ]
  },
  {
   "cell_type": "code",
   "execution_count": 15,
   "id": "9d64d232",
   "metadata": {},
   "outputs": [
    {
     "name": "stdout",
     "output_type": "stream",
     "text": [
      "\n",
      "Question 8: Calculate the average of numbers: 15, 23, 31, 42, 56\n",
      "avg is : 33.4\n"
     ]
    }
   ],
   "source": [
    "# Question 8: Calculate the average of numbers: 15, 23, 31, 42, 56\n",
    "print(\"\\nQuestion 8: Calculate the average of numbers: 15, 23, 31, 42, 56\")\n",
    "# Your code here\n",
    "numbers = [15, 23, 31, 42, 56]\n",
    "total = 0\n",
    "for i in numbers:\n",
    "    total +=i\n",
    "    avg = total / len(numbers)\n",
    "print(f\"avg is : {avg}\")"
   ]
  },
  {
   "cell_type": "code",
   "execution_count": 1,
   "id": "28d1aca4",
   "metadata": {},
   "outputs": [
    {
     "name": "stdout",
     "output_type": "stream",
     "text": [
      "\n",
      "Question 9: Find the greatest common divisor (GCD) of 48 and 36\n",
      "GCD is 12\n"
     ]
    }
   ],
   "source": [
    "# Question 9: Find the greatest common divisor (GCD) of 48 and 36\n",
    "print(\"\\nQuestion 9: Find the greatest common divisor (GCD) of 48 and 36\")\n",
    "# Your code here\n",
    "a = 48\n",
    "b = 36\n",
    "while(b!=0):\n",
    "    a , b = b , a % b \n",
    "print(f\"GCD is {a}\") "
   ]
  },
  {
   "cell_type": "code",
   "execution_count": 2,
   "id": "a3329d8e",
   "metadata": {},
   "outputs": [
    {
     "name": "stdout",
     "output_type": "stream",
     "text": [
      "\n",
      "Question 10: Calculate the sum of first 20 odd numbers\n",
      "total of first 20 odd numbers is 400.\n"
     ]
    }
   ],
   "source": [
    "# Question 10: Calculate the sum of first 20 odd numbers\n",
    "print(\"\\nQuestion 10: Calculate the sum of first 20 odd numbers\")\n",
    "# Your code here \n",
    "count = 0\n",
    "num = 1\n",
    "total_odd_sum = 0\n",
    "while (count < 20):\n",
    "    total_odd_sum += num\n",
    "    num += 2\n",
    "    count += 1\n",
    "\n",
    "print(f\"total of first 20 odd numbers is {total_odd_sum}.\")\n"
   ]
  },
  {
   "cell_type": "code",
   "execution_count": null,
   "id": "e3d29d01",
   "metadata": {},
   "outputs": [],
   "source": []
  }
 ],
 "metadata": {
  "kernelspec": {
   "display_name": "Python 3",
   "language": "python",
   "name": "python3"
  },
  "language_info": {
   "codemirror_mode": {
    "name": "ipython",
    "version": 3
   },
   "file_extension": ".py",
   "mimetype": "text/x-python",
   "name": "python",
   "nbconvert_exporter": "python",
   "pygments_lexer": "ipython3",
   "version": "3.13.2"
  }
 },
 "nbformat": 4,
 "nbformat_minor": 5
}
