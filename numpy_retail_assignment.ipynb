{
 "cells": [
  {
   "cell_type": "markdown",
   "id": "ab11be58",
   "metadata": {},
   "source": [
    "[Store ID, Sales, Customers, Inventory, Returns]\n",
    "\n",
    "array([[    1, 25000,   300,  1200,    10],\n",
    "       [    2, 32000,   450,  1500,    15],\n",
    "       [    3, 28000,   380,  1100,     8],\n",
    "       [    4, 41000,   500,  1600,    20],\n",
    "       [    5, 35000,   420,  1400,    12],\n",
    "       [    6, 27000,   360,  1300,     9],\n",
    "       [    7, 39000,   480,  1700,    18],\n",
    "       [    8, 30000,   400,  1250,    14],\n",
    "       [    9, 45000,   550,  1800,    25],\n",
    "       [   10, 33000,   410,  1450,    11]])\n",
    "\n",
    "\n",
    "# Retail Data – Business Questions (for `retail_data`)\n",
    "\n",
    "**Assumed columns:** `[StoreID, Sales, Customers, Inventory, Returns]`\n",
    "\n",
    "## Basic Performance Analysis\n",
    "1. What is the **total revenue** generated across all stores?\n",
    "2. Which store recorded the **highest sales**?\n",
    "3. Which store recorded the **lowest sales**?\n",
    "4. What is the **average daily sales** per store?\n",
    "5. How many stores achieved sales **above ₹35,000**?\n",
    "\n",
    "## Customer Insights\n",
    "6. Which store had the **highest customer footfall**?\n",
    "7. What is the **average number of customers** per store?\n",
    "8. How many stores have **more than 450 customers**?\n",
    "9. Which store has the **lowest customer count**?\n",
    "10. Is there any store where **high sales do not correspond to high customers**?\n",
    "\n",
    "## Inventory & Returns Analysis\n",
    "11. What is the **total inventory** across all stores?\n",
    "12. Which store has the **highest inventory stock**?\n",
    "13. How many stores have **inventory less than 1300 units**?\n",
    "14. Which store has the **highest return rate** (returns ÷ inventory)?\n",
    "15. Which stores have **returns greater than 15 units**?\n",
    "\n",
    "## Sales & Customer Correlation\n",
    "16. Is there a **positive correlation** between sales and customers?\n",
    "17. Which store has **high customer visits but low sales**?\n",
    "18. Which store has **low customers but high sales**?\n",
    "19. How many stores have **sales per customer above ₹90**?\n",
    "20. Which stores could **benefit from customer acquisition campaigns** (low customers, high inventory)?\n",
    "\n",
    "## Profitability & Growth\n",
    "21. If profit margin is **20% of sales**, what is the **profit per store**?\n",
    "22. Which store has the **highest profit**?\n",
    "23. Which store has the **lowest profit**?\n",
    "24. If sales increase by **10% next month**, what are the **new sales figures**?\n",
    "25. How will **total profit** change with the 10% sales increase?\n",
    "\n",
    "## Operational Strategy\n",
    "26. Which stores need **inventory restocking** based on sales and current stock?\n",
    "27. Which stores show **high returns percentage** and might require **quality checks**?\n",
    "28. Which store is the **best performer overall** (sales, customers, inventory turnover)?\n",
    "29. Which store is the **worst performer overall**?\n",
    "30. Which stores can be considered for **expansion** based on strong sales and customer metrics?"
   ]
  },
  {
   "cell_type": "code",
   "execution_count": 2,
   "id": "1226a25f",
   "metadata": {},
   "outputs": [
    {
     "name": "stdout",
     "output_type": "stream",
     "text": [
      "[[    1 25000   300  1200    10]\n",
      " [    2 32000   450  1500    15]\n",
      " [    3 28000   380  1100     8]\n",
      " [    4 41000   500  1600    20]\n",
      " [    5 35000   420  1400    12]\n",
      " [    6 27000   360  1300     9]\n",
      " [    7 39000   480  1700    18]\n",
      " [    8 30000   400  1250    14]\n",
      " [    9 45000   550  1800    25]\n",
      " [   10 33000   410  1450    11]]\n"
     ]
    }
   ],
   "source": [
    "import numpy as np\n",
    "\n",
    "retail_data = np.array([\n",
    "    [1, 25000, 300, 1200, 10],\n",
    "    [2, 32000, 450, 1500, 15],\n",
    "    [3, 28000, 380, 1100, 8],\n",
    "    [4, 41000, 500, 1600, 20],\n",
    "    [5, 35000, 420, 1400, 12],\n",
    "    [6, 27000, 360, 1300, 9],\n",
    "    [7, 39000, 480, 1700, 18],\n",
    "    [8, 30000, 400, 1250, 14],\n",
    "    [9, 45000, 550, 1800, 25],\n",
    "    [10, 33000, 410, 1450, 11]\n",
    "])\n",
    "\n",
    "print(retail_data)\n",
    "\n",
    "# 1. What is the **total revenue** generated across all stores?\n",
    "\n"
   ]
  },
  {
   "cell_type": "code",
   "execution_count": 3,
   "id": "881e9ec1",
   "metadata": {},
   "outputs": [
    {
     "data": {
      "text/plain": [
       "np.int64(335000)"
      ]
     },
     "execution_count": 3,
     "metadata": {},
     "output_type": "execute_result"
    }
   ],
   "source": [
    "retail_data[:,1].sum()"
   ]
  },
  {
   "cell_type": "code",
   "execution_count": 5,
   "id": "fa17c010",
   "metadata": {},
   "outputs": [
    {
     "data": {
      "text/plain": [
       "np.int64(9)"
      ]
     },
     "execution_count": 5,
     "metadata": {},
     "output_type": "execute_result"
    }
   ],
   "source": [
    "# 2. Which store recorded the **highest sales**?\n",
    "\n",
    "retail_data[:,1].argmax()+1"
   ]
  },
  {
   "cell_type": "code",
   "execution_count": 6,
   "id": "89beef13",
   "metadata": {},
   "outputs": [
    {
     "data": {
      "text/plain": [
       "np.int64(1)"
      ]
     },
     "execution_count": 6,
     "metadata": {},
     "output_type": "execute_result"
    }
   ],
   "source": [
    "# 3. Which store recorded the **lowest sales**?\n",
    "retail_data[:,1].argmin()+1"
   ]
  },
  {
   "cell_type": "code",
   "execution_count": 7,
   "id": "537c9200",
   "metadata": {},
   "outputs": [
    {
     "data": {
      "text/plain": [
       "np.float64(33500.0)"
      ]
     },
     "execution_count": 7,
     "metadata": {},
     "output_type": "execute_result"
    }
   ],
   "source": [
    "# 4. What is the **average daily sales** per store?\n",
    "\n",
    "retail_data[:,1].mean()"
   ]
  },
  {
   "cell_type": "code",
   "execution_count": 8,
   "id": "e360978a",
   "metadata": {},
   "outputs": [
    {
     "data": {
      "text/plain": [
       "np.int64(3)"
      ]
     },
     "execution_count": 8,
     "metadata": {},
     "output_type": "execute_result"
    }
   ],
   "source": [
    "# 5. How many stores achieved sales **above ₹35,000**?\n",
    "\n",
    "sum(retail_data[:,1] > 35000)"
   ]
  },
  {
   "cell_type": "code",
   "execution_count": null,
   "id": "c01c3eae",
   "metadata": {},
   "outputs": [
    {
     "data": {
      "text/plain": [
       "np.int64(9)"
      ]
     },
     "execution_count": 11,
     "metadata": {},
     "output_type": "execute_result"
    }
   ],
   "source": [
    "# 6. Which store had the **highest customer footfall**?\n",
    "\n",
    "retail_data[:, 2].argmax() + 1"
   ]
  },
  {
   "cell_type": "code",
   "execution_count": 12,
   "id": "2d98db41",
   "metadata": {},
   "outputs": [
    {
     "data": {
      "text/plain": [
       "np.float64(425.0)"
      ]
     },
     "execution_count": 12,
     "metadata": {},
     "output_type": "execute_result"
    }
   ],
   "source": [
    "#  7. What is the **average number of customers** per store?\n",
    "\n",
    "retail_data[:, 2].mean()"
   ]
  },
  {
   "cell_type": "code",
   "execution_count": 13,
   "id": "2a3c89e3",
   "metadata": {},
   "outputs": [
    {
     "data": {
      "text/plain": [
       "np.int64(3)"
      ]
     },
     "execution_count": 13,
     "metadata": {},
     "output_type": "execute_result"
    }
   ],
   "source": [
    "# 8. How many stores have **more than 450 customers**?\n",
    "\n",
    "sum(retail_data[:,2] > 450)"
   ]
  },
  {
   "cell_type": "code",
   "execution_count": 14,
   "id": "feed84b3",
   "metadata": {},
   "outputs": [
    {
     "data": {
      "text/plain": [
       "np.int64(1)"
      ]
     },
     "execution_count": 14,
     "metadata": {},
     "output_type": "execute_result"
    }
   ],
   "source": [
    "# 9. Which store has the **lowest customer count**?\n",
    "retail_data[:, 2].argmin() + 1"
   ]
  },
  {
   "cell_type": "code",
   "execution_count": 15,
   "id": "4248dc06",
   "metadata": {},
   "outputs": [
    {
     "name": "stdout",
     "output_type": "stream",
     "text": [
      "[5]\n"
     ]
    }
   ],
   "source": [
    "# 10. Is there any store where **high sales do not correspond to high customers**?\n",
    "\n",
    "sales = retail_data[:, 1]\n",
    "customers = retail_data[:, 2]\n",
    "\n",
    "avg_sales = np.mean(sales)\n",
    "avg_customers = np.mean(customers)\n",
    "\n",
    "# Find stores with high sales but low customers\n",
    "stores = retail_data[(sales > avg_sales) & (customers < avg_customers), 0]\n",
    "print(stores)"
   ]
  },
  {
   "cell_type": "code",
   "execution_count": 16,
   "id": "fcd561f9",
   "metadata": {},
   "outputs": [
    {
     "data": {
      "text/plain": [
       "np.int64(14300)"
      ]
     },
     "execution_count": 16,
     "metadata": {},
     "output_type": "execute_result"
    }
   ],
   "source": [
    "# 11. What is the **total inventory** across all stores?\n",
    "\n",
    "sum(retail_data[:,3])"
   ]
  },
  {
   "cell_type": "code",
   "execution_count": 17,
   "id": "569473c2",
   "metadata": {},
   "outputs": [
    {
     "data": {
      "text/plain": [
       "np.int64(9)"
      ]
     },
     "execution_count": 17,
     "metadata": {},
     "output_type": "execute_result"
    }
   ],
   "source": [
    "# 12. Which store has the **highest inventory stock**?\n",
    "retail_data[:, 3].argmax() + 1"
   ]
  },
  {
   "cell_type": "code",
   "execution_count": 18,
   "id": "ba7f0c5d",
   "metadata": {},
   "outputs": [
    {
     "data": {
      "text/plain": [
       "np.int64(3)"
      ]
     },
     "execution_count": 18,
     "metadata": {},
     "output_type": "execute_result"
    }
   ],
   "source": [
    "# 13. How many stores have **inventory less than 1300 units**?\n",
    "sum(retail_data[:,3] < 1300)"
   ]
  },
  {
   "cell_type": "code",
   "execution_count": 22,
   "id": "ed2fcb4b",
   "metadata": {},
   "outputs": [
    {
     "data": {
      "text/plain": [
       "np.int64(9)"
      ]
     },
     "execution_count": 22,
     "metadata": {},
     "output_type": "execute_result"
    }
   ],
   "source": [
    "# 14. Which store has the **highest return rate** (returns ÷ inventory)?\n",
    "# retail_data[:, 4].argmax() + 1\n",
    "returns = retail_data[:, 4]\n",
    "inventory = retail_data[:, 3]\n",
    "\n",
    "return_rates = returns / inventory\n",
    "np.argmax(return_rates) + 1"
   ]
  },
  {
   "cell_type": "code",
   "execution_count": 24,
   "id": "bf519f61",
   "metadata": {},
   "outputs": [
    {
     "data": {
      "text/plain": [
       "array([4, 7, 9])"
      ]
     },
     "execution_count": 24,
     "metadata": {},
     "output_type": "execute_result"
    }
   ],
   "source": [
    "# 15. Which stores have **returns greater than 15 units**?\n",
    "\n",
    "retail_data[retail_data[:,4] > 15 , 0]"
   ]
  },
  {
   "cell_type": "code",
   "execution_count": 33,
   "id": "a19654f8",
   "metadata": {},
   "outputs": [
    {
     "name": "stdout",
     "output_type": "stream",
     "text": [
      "[[1.         0.95936369]\n",
      " [0.95936369 1.        ]]\n",
      "Correlation between sales and customers: 0.96\n",
      "There is a positive correlation.\n"
     ]
    }
   ],
   "source": [
    "# 16. Is there a **positive correlation** between sales and customers?\n",
    "\n",
    "# Positive correlation means that when one variable increases, the other also tends to increase.\n",
    "\n",
    "sales = retail_data[:,1]\n",
    "customers = retail_data[:,2]\n",
    "\n",
    "corr_matrix = np.corrcoef(sales,customers)\n",
    "print(corr_matrix)\n",
    "\n",
    "# Extract the correlation value (off-diagonal) bcz diagnol are alwyas 1\n",
    "\n",
    "# [ correlation(sales, sales)     correlation(sales, customers) ]\n",
    "# [ correlation(customers, sales) correlation(customers, customers) ]\n",
    "correlation = corr_matrix[0, 1]\n",
    "\n",
    "print(f\"Correlation between sales and customers: {correlation:.2f}\")\n",
    "\n",
    "if(correlation>0):\n",
    "    print(\"There is a positive correlation.\")\n",
    "elif correlation < 0:\n",
    "    print(\"There is a negative correlation.\")\n",
    "else:\n",
    "    print(\"No correlation.\")"
   ]
  },
  {
   "cell_type": "code",
   "execution_count": 37,
   "id": "d56972b2",
   "metadata": {},
   "outputs": [
    {
     "name": "stdout",
     "output_type": "stream",
     "text": [
      "[2]\n"
     ]
    }
   ],
   "source": [
    "# 17. Which store has **high customer visits but low sales**?\n",
    "\n",
    "customers = retail_data[:,2]\n",
    "sales = retail_data[:,1]\n",
    "\n",
    "avg_customers = customers.mean()\n",
    "avg_sales = sales.mean()\n",
    "\n",
    "stores_with_highCustomer_And_lowSales = retail_data[(customers > avg_customers) & (sales < avg_sales),0 ]\n",
    "print(stores_with_highCustomer_And_lowSales)"
   ]
  },
  {
   "cell_type": "code",
   "execution_count": 38,
   "id": "bf89999c",
   "metadata": {},
   "outputs": [
    {
     "name": "stdout",
     "output_type": "stream",
     "text": [
      "[5]\n"
     ]
    }
   ],
   "source": [
    "# 18. Which store has **low customers but high sales**?\n",
    "\n",
    "sales = retail_data[:, 1]\n",
    "customers = retail_data[:, 2]\n",
    "\n",
    "avg_sales = np.mean(sales)\n",
    "avg_customers = np.mean(customers)\n",
    "\n",
    "# Find stores with high sales but low customers\n",
    "stores_with_highSales_And_lowCustomers = retail_data[(sales > avg_sales) & (customers < avg_customers), 0]\n",
    "print(stores)"
   ]
  },
  {
   "cell_type": "code",
   "execution_count": 41,
   "id": "f6a11c72",
   "metadata": {},
   "outputs": [
    {
     "data": {
      "text/plain": [
       "np.int64(0)"
      ]
     },
     "execution_count": 41,
     "metadata": {},
     "output_type": "execute_result"
    }
   ],
   "source": [
    "# 19. How many stores have **sales per customer above ₹90**?\n",
    "\n",
    "sum((retail_data[:,1] / retail_data[:,2]) > 90)\n"
   ]
  },
  {
   "cell_type": "code",
   "execution_count": 44,
   "id": "a9189287",
   "metadata": {},
   "outputs": [
    {
     "name": "stdout",
     "output_type": "stream",
     "text": [
      "[10]\n"
     ]
    }
   ],
   "source": [
    "# 20. Which stores could **benefit from customer acquisition campaigns** (low customers, high inventory)?\n",
    "\n",
    "customers = retail_data[:,2]\n",
    "inventory = retail_data[:,3]\n",
    "\n",
    "avg_customers = customers.mean()\n",
    "avg_inventory = inventory.mean()\n",
    "\n",
    "stores_with_lowCustomers_highInventory = retail_data[(customers < avg_customers) & (inventory > avg_inventory),0]\n",
    "print(stores_with_lowCustomers_highInventory)"
   ]
  },
  {
   "cell_type": "code",
   "execution_count": 47,
   "id": "37555ef2",
   "metadata": {},
   "outputs": [
    {
     "name": "stdout",
     "output_type": "stream",
     "text": [
      "[5000. 6400. 5600. 8200. 7000. 5400. 7800. 6000. 9000. 6600.]\n"
     ]
    }
   ],
   "source": [
    "# 21. If profit margin is **20% of sales**, what is the **profit per store**?\n",
    "profits = retail_data[:,1] * 0.2\n",
    "print(profits)"
   ]
  },
  {
   "cell_type": "code",
   "execution_count": 49,
   "id": "ab843345",
   "metadata": {},
   "outputs": [
    {
     "data": {
      "text/plain": [
       "np.int64(9)"
      ]
     },
     "execution_count": 49,
     "metadata": {},
     "output_type": "execute_result"
    }
   ],
   "source": [
    "# 22. Which store has the **highest profit**?\n",
    "\n",
    "np.argmax(profits)+1"
   ]
  },
  {
   "cell_type": "code",
   "execution_count": 50,
   "id": "f748f62a",
   "metadata": {},
   "outputs": [
    {
     "data": {
      "text/plain": [
       "np.int64(1)"
      ]
     },
     "execution_count": 50,
     "metadata": {},
     "output_type": "execute_result"
    }
   ],
   "source": [
    "# 23. Which store has the **lowest profit**?\n",
    "np.argmin(profits)+1"
   ]
  },
  {
   "cell_type": "code",
   "execution_count": null,
   "id": "4a8a7eb5",
   "metadata": {},
   "outputs": [
    {
     "name": "stdout",
     "output_type": "stream",
     "text": [
      "[27500. 35200. 30800. 45100. 38500. 29700. 42900. 33000. 49500. 36300.]\n"
     ]
    }
   ],
   "source": [
    "# 24. If sales increase by **10% next month**, what are the **new sales figures**?\n",
    "\n",
    "\n",
    "new_sales = retail_data[:,1] + retail_data[:,1] * 0.1\n",
    "print(new_sales)"
   ]
  },
  {
   "cell_type": "code",
   "execution_count": 55,
   "id": "6634229c",
   "metadata": {},
   "outputs": [
    {
     "name": "stdout",
     "output_type": "stream",
     "text": [
      "old profit: 67000.0\n",
      "new profit: 73700.0\n",
      "Profit Change: 6700.0\n"
     ]
    }
   ],
   "source": [
    "# 25. How will **total profit** change with the 10% sales increase?\n",
    "old_profit = retail_data[:, 1].sum() * 0.20\n",
    "print(f\"old profit: {old_profit}\")\n",
    "\n",
    "new_profit = new_sales.sum() * 0.20\n",
    "print(f\"new profit: {new_profit}\")\n",
    "\n",
    "profit_change = new_profit - old_profit\n",
    "print(\"Profit Change:\", profit_change)\n"
   ]
  },
  {
   "cell_type": "code",
   "execution_count": 57,
   "id": "de35d029",
   "metadata": {},
   "outputs": [
    {
     "name": "stdout",
     "output_type": "stream",
     "text": [
      "[20.83333333 21.33333333 25.45454545 25.625      25.         20.76923077\n",
      " 22.94117647 24.         25.         22.75862069]\n",
      "25.0\n",
      "Stores needing urgent restock: [3 4]\n"
     ]
    }
   ],
   "source": [
    "# 26. Which stores need **inventory restocking** based on sales and current stock?\n",
    "# Not Clear!!!\n",
    "\n",
    "sales = retail_data[:, 1]\n",
    "inventory = retail_data[:, 3]\n",
    "\n",
    "sales_per_unit = sales / inventory\n",
    "print(sales_per_unit)\n",
    "threshold = np.percentile(sales_per_unit, 75)  # top 25% in ratio\n",
    "print(threshold)\n",
    "restock_stores = retail_data[sales_per_unit > threshold, 0]\n",
    "\n",
    "print(\"Stores needing urgent restock:\", restock_stores)"
   ]
  },
  {
   "cell_type": "code",
   "execution_count": 60,
   "id": "b2c91372",
   "metadata": {},
   "outputs": [
    {
     "name": "stdout",
     "output_type": "stream",
     "text": [
      "[0.0004     0.00046875 0.00028571 0.0004878  0.00034286 0.00033333\n",
      " 0.00046154 0.00046667 0.00055556 0.00033333]\n",
      "0.00046822916666666665\n",
      "[2 4 9]\n"
     ]
    }
   ],
   "source": [
    "# 27. Which stores show **high returns percentage** and might require **quality checks**?\n",
    "\n",
    "# return percentage = returns per sales into 100\n",
    "\n",
    "sales = retail_data[:, 1]\n",
    "returns = retail_data[:, 4]\n",
    "\n",
    "return_percentage = returns/sales\n",
    "print(return_percentage)\n",
    "\n",
    "threshold = np.percentile(return_percentage,75)\n",
    "print(threshold)\n",
    "\n",
    "quality_checks_store = retail_data[return_percentage > threshold,0]\n",
    "print(quality_checks_store)"
   ]
  },
  {
   "cell_type": "code",
   "execution_count": 62,
   "id": "7c944aa7",
   "metadata": {},
   "outputs": [
    {
     "name": "stdout",
     "output_type": "stream",
     "text": [
      "[0.01320132 1.06617162 1.43489649 2.6        1.85128713 0.34\n",
      " 1.86729179 1.31534653 2.87128713 1.24969614]\n"
     ]
    },
    {
     "data": {
      "text/plain": [
       "np.int64(9)"
      ]
     },
     "execution_count": 62,
     "metadata": {},
     "output_type": "execute_result"
    }
   ],
   "source": [
    "# 28. Which store is the **best performer overall** (sales, customers, inventory turnover)?\n",
    "\n",
    "# Using Min-Max normalization, where min value becomes 0, and max value becomes 1\n",
    "\n",
    "# formula -> (X - Xmin) / (Xmax - Xmin)\n",
    "\n",
    "sales = retail_data[:,1]\n",
    "\n",
    "customers = retail_data[:,2]\n",
    "\n",
    "inventory = retail_data[:,3]\n",
    "\n",
    "inventory_turnover = sales / inventory\n",
    "\n",
    "# Normalize all metrics (0–1 range)\n",
    "sales_norm = (sales - sales.min()) / (sales.max() - sales.min())\n",
    "customers_norm = (customers - customers.min()) / (customers.max() - customers.min())\n",
    "turnover_norm = (inventory_turnover - inventory_turnover.min()) / (inventory_turnover.max() - inventory_turnover.min())\n",
    "\n",
    "overall_score = sales_norm + customers_norm + turnover_norm\n",
    "print(overall_score)\n",
    "\n",
    "retail_data[np.argmax(overall_score),0]\n"
   ]
  },
  {
   "cell_type": "code",
   "execution_count": 63,
   "id": "4cf2e1e9",
   "metadata": {},
   "outputs": [
    {
     "data": {
      "text/plain": [
       "np.int64(1)"
      ]
     },
     "execution_count": 63,
     "metadata": {},
     "output_type": "execute_result"
    }
   ],
   "source": [
    "# 29. Which store is the **worst performer overall**?\n",
    "\n",
    "retail_data[np.argmin(overall_score),0]"
   ]
  },
  {
   "cell_type": "code",
   "execution_count": 65,
   "id": "d2470a36",
   "metadata": {},
   "outputs": [
    {
     "name": "stdout",
     "output_type": "stream",
     "text": [
      "[25000 32000 28000 41000 35000 27000 39000 30000 45000 33000]\n",
      "[300 450 380 500 420 360 480 400 550 410]\n",
      "33500.0\n",
      "425.0\n"
     ]
    },
    {
     "data": {
      "text/plain": [
       "array([4, 7, 9])"
      ]
     },
     "execution_count": 65,
     "metadata": {},
     "output_type": "execute_result"
    }
   ],
   "source": [
    "# 30. Which stores can be considered for **expansion** based on strong sales and customer metrics?\n",
    "\n",
    "sales = retail_data[:, 1]\n",
    "customers = retail_data[:, 2]\n",
    "print(sales)\n",
    "print(customers)\n",
    "\n",
    "avg_sales = np.mean(sales)\n",
    "avg_customers = np.mean(customers)\n",
    "print(avg_sales)\n",
    "print(avg_customers)\n",
    "\n",
    "retail_data[(sales > avg_sales) & (customers > avg_customers),0]\n",
    "\n"
   ]
  },
  {
   "cell_type": "code",
   "execution_count": null,
   "id": "5ebbe116",
   "metadata": {},
   "outputs": [],
   "source": []
  }
 ],
 "metadata": {
  "kernelspec": {
   "display_name": "Python 3",
   "language": "python",
   "name": "python3"
  },
  "language_info": {
   "codemirror_mode": {
    "name": "ipython",
    "version": 3
   },
   "file_extension": ".py",
   "mimetype": "text/x-python",
   "name": "python",
   "nbconvert_exporter": "python",
   "pygments_lexer": "ipython3",
   "version": "3.13.2"
  }
 },
 "nbformat": 4,
 "nbformat_minor": 5
}
