{
 "cells": [
  {
   "cell_type": "code",
   "execution_count": 3,
   "id": "2796420f",
   "metadata": {},
   "outputs": [],
   "source": [
    "import pandas as pd"
   ]
  },
  {
   "cell_type": "code",
   "execution_count": 4,
   "id": "12030f9c",
   "metadata": {},
   "outputs": [],
   "source": [
    "import numpy as np"
   ]
  },
  {
   "cell_type": "code",
   "execution_count": 8,
   "id": "d17a099f",
   "metadata": {},
   "outputs": [],
   "source": [
    "ran_arr = np.random.randint(1,10,(5,5))"
   ]
  },
  {
   "cell_type": "code",
   "execution_count": 9,
   "id": "2bc2147f",
   "metadata": {},
   "outputs": [
    {
     "data": {
      "text/plain": [
       "array([[3, 2, 7, 5, 9],\n",
       "       [1, 5, 2, 3, 9],\n",
       "       [7, 5, 9, 7, 8],\n",
       "       [5, 5, 9, 2, 4],\n",
       "       [4, 8, 5, 6, 8]], dtype=int32)"
      ]
     },
     "execution_count": 9,
     "metadata": {},
     "output_type": "execute_result"
    }
   ],
   "source": [
    "ran_arr"
   ]
  },
  {
   "cell_type": "code",
   "execution_count": 12,
   "id": "597ef6f4",
   "metadata": {},
   "outputs": [
    {
     "data": {
      "text/plain": [
       "dtype('int32')"
      ]
     },
     "execution_count": 12,
     "metadata": {},
     "output_type": "execute_result"
    }
   ],
   "source": [
    "ran_arr.dtype"
   ]
  },
  {
   "cell_type": "code",
   "execution_count": 14,
   "id": "c984bbbb",
   "metadata": {},
   "outputs": [
    {
     "name": "stdout",
     "output_type": "stream",
     "text": [
      "[[1. 0. 0.]\n",
      " [0. 1. 0.]\n",
      " [0. 0. 1.]]\n"
     ]
    }
   ],
   "source": [
    "identity_matrix  = np.eye(3)\n",
    "print(identity_matrix)"
   ]
  },
  {
   "cell_type": "code",
   "execution_count": 15,
   "id": "dca0a7d7",
   "metadata": {},
   "outputs": [
    {
     "data": {
      "text/plain": [
       "array([0., 0., 0., 0., 0., 0., 0., 0., 0., 0.])"
      ]
     },
     "execution_count": 15,
     "metadata": {},
     "output_type": "execute_result"
    }
   ],
   "source": [
    "np.zeros(10)"
   ]
  },
  {
   "cell_type": "code",
   "execution_count": 16,
   "id": "4ea95503",
   "metadata": {},
   "outputs": [
    {
     "data": {
      "text/plain": [
       "array([1., 1., 1., 1., 1.])"
      ]
     },
     "execution_count": 16,
     "metadata": {},
     "output_type": "execute_result"
    }
   ],
   "source": [
    "np.ones(5)"
   ]
  },
  {
   "cell_type": "code",
   "execution_count": 17,
   "id": "a94c7f57",
   "metadata": {},
   "outputs": [
    {
     "data": {
      "text/plain": [
       "array([0, 1, 2, 3, 4, 5, 6, 7, 8, 9])"
      ]
     },
     "execution_count": 17,
     "metadata": {},
     "output_type": "execute_result"
    }
   ],
   "source": [
    "np.arange(10)"
   ]
  },
  {
   "cell_type": "code",
   "execution_count": 18,
   "id": "83c0d8ff",
   "metadata": {},
   "outputs": [
    {
     "data": {
      "text/plain": [
       "array([ 0.,  2.,  4.,  6.,  8., 10.])"
      ]
     },
     "execution_count": 18,
     "metadata": {},
     "output_type": "execute_result"
    }
   ],
   "source": [
    "np.linspace(0,10,6)"
   ]
  },
  {
   "cell_type": "code",
   "execution_count": null,
   "id": "a173bdf8",
   "metadata": {},
   "outputs": [
    {
     "name": "stdout",
     "output_type": "stream",
     "text": [
      "Size: 50\n",
      "Dimention: 2\n",
      "Memory size: 400\n"
     ]
    }
   ],
   "source": [
    "retail_data = np.array([\n",
    "    [1001, 29.99, 45, 4.2, 15],\n",
    "    [1002, 49.99, 32, 4.5, 8],\n",
    "    [1003, 19.99, 78, 3.8, 22],\n",
    "    [1004, 89.99, 12, 4.7, 5],\n",
    "    [1005, 15.99, 95, 4.0, 18],\n",
    "    [1006, 69.99, 28, 4.3, 12],\n",
    "    [1007, 39.99, 56, 3.9, 20],\n",
    "    [1008, 79.99, 18, 4.6, 7],\n",
    "    [1009, 25.99, 67, 4.1, 16],\n",
    "    [1010, 59.99, 34, 4.4, 10]\n",
    "])\n",
    "# Columns: Product_ID, Price, Quantity_Sold, Customer_Rating, Days_in_Stock\n",
    "\n",
    "print(f\"Size: {retail_data.size}\")\n",
    "print(f\"Dimention: {retail_data.ndim}\")\n",
    "print(f\"Memory size: {retail_data.nbytes}\")"
   ]
  },
  {
   "cell_type": "code",
   "execution_count": 22,
   "id": "12f0f733",
   "metadata": {},
   "outputs": [
    {
     "data": {
      "text/plain": [
       "array([1001.  ,   29.99,   45.  ,    4.2 ,   15.  ])"
      ]
     },
     "execution_count": 22,
     "metadata": {},
     "output_type": "execute_result"
    }
   ],
   "source": [
    "retail_data[0,:]"
   ]
  },
  {
   "cell_type": "code",
   "execution_count": 25,
   "id": "5e6e4497",
   "metadata": {},
   "outputs": [
    {
     "data": {
      "text/plain": [
       "array([1010.  ,   59.99,   34.  ,    4.4 ,   10.  ])"
      ]
     },
     "execution_count": 25,
     "metadata": {},
     "output_type": "execute_result"
    }
   ],
   "source": [
    "retail_data[-1]"
   ]
  },
  {
   "cell_type": "code",
   "execution_count": 24,
   "id": "369d9cdd",
   "metadata": {},
   "outputs": [
    {
     "data": {
      "text/plain": [
       "array([29.99, 49.99, 19.99, 89.99, 15.99, 69.99, 39.99, 79.99, 25.99,\n",
       "       59.99])"
      ]
     },
     "execution_count": 24,
     "metadata": {},
     "output_type": "execute_result"
    }
   ],
   "source": [
    "retail_data[:,1]"
   ]
  },
  {
   "cell_type": "code",
   "execution_count": 29,
   "id": "073c7847",
   "metadata": {},
   "outputs": [
    {
     "name": "stdout",
     "output_type": "stream",
     "text": [
      "Correlation: -0.9291\n"
     ]
    }
   ],
   "source": [
    "correlation = np.corrcoef(retail_data[:, 1], retail_data[:, 2])[0][1]\n",
    "print(f\"Correlation: {correlation:.4f}\")"
   ]
  },
  {
   "cell_type": "code",
   "execution_count": 31,
   "id": "862183d7",
   "metadata": {},
   "outputs": [
    {
     "name": "stdout",
     "output_type": "stream",
     "text": [
      "[[1001.     29.99   45.      4.2    15.  ]\n",
      " [1002.     49.99   32.      4.5     8.  ]\n",
      " [1003.     19.99   78.      3.8    22.  ]\n",
      " [1004.     89.99   12.      4.7     5.  ]\n",
      " [1005.     15.99   95.      4.     18.  ]\n",
      " [1006.     69.99   28.      4.3    12.  ]\n",
      " [1007.     39.99   56.      3.9    20.  ]\n",
      " [1008.     79.99   18.      4.6     7.  ]\n",
      " [1009.     25.99   67.      4.1    16.  ]\n",
      " [1010.     59.99   34.      4.4    10.  ]]\n"
     ]
    }
   ],
   "source": [
    "reshaped_5x10 = retail_data.reshape(10, 5)\n",
    "print(reshaped_5x10)"
   ]
  },
  {
   "cell_type": "code",
   "execution_count": 32,
   "id": "ca2bb00e",
   "metadata": {},
   "outputs": [
    {
     "data": {
      "text/plain": [
       "array([[1001.  , 1002.  , 1003.  , 1004.  , 1005.  , 1006.  , 1007.  ,\n",
       "        1008.  , 1009.  , 1010.  ],\n",
       "       [  29.99,   49.99,   19.99,   89.99,   15.99,   69.99,   39.99,\n",
       "          79.99,   25.99,   59.99],\n",
       "       [  45.  ,   32.  ,   78.  ,   12.  ,   95.  ,   28.  ,   56.  ,\n",
       "          18.  ,   67.  ,   34.  ],\n",
       "       [   4.2 ,    4.5 ,    3.8 ,    4.7 ,    4.  ,    4.3 ,    3.9 ,\n",
       "           4.6 ,    4.1 ,    4.4 ],\n",
       "       [  15.  ,    8.  ,   22.  ,    5.  ,   18.  ,   12.  ,   20.  ,\n",
       "           7.  ,   16.  ,   10.  ]])"
      ]
     },
     "execution_count": 32,
     "metadata": {},
     "output_type": "execute_result"
    }
   ],
   "source": [
    "retail_data.T"
   ]
  },
  {
   "cell_type": "code",
   "execution_count": 33,
   "id": "21775e8e",
   "metadata": {},
   "outputs": [
    {
     "name": "stdout",
     "output_type": "stream",
     "text": [
      "First part:\n",
      "[[1001.     29.99   45.      4.2    15.  ]\n",
      " [1002.     49.99   32.      4.5     8.  ]\n",
      " [1003.     19.99   78.      3.8    22.  ]\n",
      " [1004.     89.99   12.      4.7     5.  ]\n",
      " [1005.     15.99   95.      4.     18.  ]]\n",
      "\n",
      "Second part:\n",
      "[[1006.     69.99   28.      4.3    12.  ]\n",
      " [1007.     39.99   56.      3.9    20.  ]\n",
      " [1008.     79.99   18.      4.6     7.  ]\n",
      " [1009.     25.99   67.      4.1    16.  ]\n",
      " [1010.     59.99   34.      4.4    10.  ]]\n"
     ]
    }
   ],
   "source": [
    "split_vertical = np.vsplit(retail_data, 2)\n",
    "print(\"First part:\")\n",
    "print(split_vertical[0])\n",
    "print(\"\\nSecond part:\")\n",
    "print(split_vertical[1])"
   ]
  },
  {
   "cell_type": "code",
   "execution_count": 34,
   "id": "b2afa2ab",
   "metadata": {},
   "outputs": [
    {
     "ename": "ValueError",
     "evalue": "array split does not result in an equal division",
     "output_type": "error",
     "traceback": [
      "\u001b[31m---------------------------------------------------------------------------\u001b[39m",
      "\u001b[31mValueError\u001b[39m                                Traceback (most recent call last)",
      "\u001b[36mCell\u001b[39m\u001b[36m \u001b[39m\u001b[32mIn[34]\u001b[39m\u001b[32m, line 1\u001b[39m\n\u001b[32m----> \u001b[39m\u001b[32m1\u001b[39m split_horizontal = \u001b[43mnp\u001b[49m\u001b[43m.\u001b[49m\u001b[43mhsplit\u001b[49m\u001b[43m(\u001b[49m\u001b[43mretail_data\u001b[49m\u001b[43m,\u001b[49m\u001b[43m \u001b[49m\u001b[32;43m2\u001b[39;49m\u001b[43m)\u001b[49m\n\u001b[32m      2\u001b[39m \u001b[38;5;28mprint\u001b[39m(\u001b[33m\"\u001b[39m\u001b[33mFirst part:\u001b[39m\u001b[33m\"\u001b[39m)\n\u001b[32m      3\u001b[39m \u001b[38;5;28mprint\u001b[39m(split_horizontal[\u001b[32m0\u001b[39m])\n",
      "\u001b[36mFile \u001b[39m\u001b[32mc:\\Users\\udite\\AppData\\Local\\Programs\\Python\\Python313\\Lib\\site-packages\\numpy\\lib\\_shape_base_impl.py:959\u001b[39m, in \u001b[36mhsplit\u001b[39m\u001b[34m(ary, indices_or_sections)\u001b[39m\n\u001b[32m    957\u001b[39m     \u001b[38;5;28;01mraise\u001b[39;00m \u001b[38;5;167;01mValueError\u001b[39;00m(\u001b[33m'\u001b[39m\u001b[33mhsplit only works on arrays of 1 or more dimensions\u001b[39m\u001b[33m'\u001b[39m)\n\u001b[32m    958\u001b[39m \u001b[38;5;28;01mif\u001b[39;00m ary.ndim > \u001b[32m1\u001b[39m:\n\u001b[32m--> \u001b[39m\u001b[32m959\u001b[39m     \u001b[38;5;28;01mreturn\u001b[39;00m \u001b[43msplit\u001b[49m\u001b[43m(\u001b[49m\u001b[43mary\u001b[49m\u001b[43m,\u001b[49m\u001b[43m \u001b[49m\u001b[43mindices_or_sections\u001b[49m\u001b[43m,\u001b[49m\u001b[43m \u001b[49m\u001b[32;43m1\u001b[39;49m\u001b[43m)\u001b[49m\n\u001b[32m    960\u001b[39m \u001b[38;5;28;01melse\u001b[39;00m:\n\u001b[32m    961\u001b[39m     \u001b[38;5;28;01mreturn\u001b[39;00m split(ary, indices_or_sections, \u001b[32m0\u001b[39m)\n",
      "\u001b[36mFile \u001b[39m\u001b[32mc:\\Users\\udite\\AppData\\Local\\Programs\\Python\\Python313\\Lib\\site-packages\\numpy\\lib\\_shape_base_impl.py:884\u001b[39m, in \u001b[36msplit\u001b[39m\u001b[34m(ary, indices_or_sections, axis)\u001b[39m\n\u001b[32m    882\u001b[39m     N = ary.shape[axis]\n\u001b[32m    883\u001b[39m     \u001b[38;5;28;01mif\u001b[39;00m N % sections:\n\u001b[32m--> \u001b[39m\u001b[32m884\u001b[39m         \u001b[38;5;28;01mraise\u001b[39;00m \u001b[38;5;167;01mValueError\u001b[39;00m(\n\u001b[32m    885\u001b[39m             \u001b[33m'\u001b[39m\u001b[33marray split does not result in an equal division\u001b[39m\u001b[33m'\u001b[39m) \u001b[38;5;28;01mfrom\u001b[39;00m\u001b[38;5;250m \u001b[39m\u001b[38;5;28;01mNone\u001b[39;00m\n\u001b[32m    886\u001b[39m \u001b[38;5;28;01mreturn\u001b[39;00m array_split(ary, indices_or_sections, axis)\n",
      "\u001b[31mValueError\u001b[39m: array split does not result in an equal division"
     ]
    }
   ],
   "source": [
    "split_horizontal = np.hsplit(retail_data, 2)\n",
    "print(\"First part:\")\n",
    "print(split_horizontal[0])\n",
    "print(\"\\nSecond part:\")\n",
    "print(split_horizontal[1])"
   ]
  },
  {
   "cell_type": "code",
   "execution_count": 37,
   "id": "8cdf4b8a",
   "metadata": {},
   "outputs": [
    {
     "name": "stdout",
     "output_type": "stream",
     "text": [
      "[[1003.     19.99   78.      3.8    22.  ]\n",
      " [1005.     15.99   95.      4.     18.  ]\n",
      " [1007.     39.99   56.      3.9    20.  ]\n",
      " [1009.     25.99   67.      4.1    16.  ]]\n"
     ]
    }
   ],
   "source": [
    "popular_affordable = retail_data[(retail_data[:, 2] > 50) & (retail_data[:, 1] < 40)]\n",
    "print(popular_affordable)"
   ]
  },
  {
   "cell_type": "code",
   "execution_count": null,
   "id": "85104e9b",
   "metadata": {},
   "outputs": [],
   "source": []
  }
 ],
 "metadata": {
  "kernelspec": {
   "display_name": "Python 3",
   "language": "python",
   "name": "python3"
  },
  "language_info": {
   "codemirror_mode": {
    "name": "ipython",
    "version": 3
   },
   "file_extension": ".py",
   "mimetype": "text/x-python",
   "name": "python",
   "nbconvert_exporter": "python",
   "pygments_lexer": "ipython3",
   "version": "3.13.2"
  }
 },
 "nbformat": 4,
 "nbformat_minor": 5
}
