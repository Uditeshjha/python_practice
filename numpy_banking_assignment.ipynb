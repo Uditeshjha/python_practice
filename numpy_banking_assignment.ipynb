{
 "cells": [
  {
   "cell_type": "code",
   "execution_count": 1,
   "id": "a48e6020",
   "metadata": {},
   "outputs": [],
   "source": [
    "import numpy as np"
   ]
  },
  {
   "cell_type": "code",
   "execution_count": 2,
   "id": "9cdb8871",
   "metadata": {},
   "outputs": [
    {
     "data": {
      "text/plain": [
       "array([[1., 0., 0., 0.],\n",
       "       [0., 1., 0., 0.],\n",
       "       [0., 0., 1., 0.],\n",
       "       [0., 0., 0., 1.]])"
      ]
     },
     "execution_count": 2,
     "metadata": {},
     "output_type": "execute_result"
    }
   ],
   "source": [
    "# Question 1: Array Creation and Manipulation\n",
    "# Q1.1: Create a 4x4 identity matrix using np.eye()\n",
    "\n",
    "np.eye(4)"
   ]
  },
  {
   "cell_type": "code",
   "execution_count": 3,
   "id": "32192663",
   "metadata": {},
   "outputs": [
    {
     "data": {
      "text/plain": [
       "array([[1, 0, 0, 0],\n",
       "       [0, 1, 0, 0],\n",
       "       [0, 0, 1, 0],\n",
       "       [0, 0, 0, 1]])"
      ]
     },
     "execution_count": 3,
     "metadata": {},
     "output_type": "execute_result"
    }
   ],
   "source": [
    "# By default it is float, if we want in int then.... \n",
    "np.eye(4,dtype=int)"
   ]
  },
  {
   "cell_type": "code",
   "execution_count": 4,
   "id": "ec41a6d5",
   "metadata": {},
   "outputs": [
    {
     "data": {
      "text/plain": [
       "array([0., 0., 0., 0., 0., 0., 0., 0.])"
      ]
     },
     "execution_count": 4,
     "metadata": {},
     "output_type": "execute_result"
    }
   ],
   "source": [
    "# Q1.2: Create an array of 8 zeros using np.zeros()\n",
    "np.zeros(8)"
   ]
  },
  {
   "cell_type": "code",
   "execution_count": 5,
   "id": "820a5965",
   "metadata": {},
   "outputs": [
    {
     "name": "stdout",
     "output_type": "stream",
     "text": [
      "shape: (8,)\n",
      "shape: float64\n"
     ]
    }
   ],
   "source": [
    "# To check shape and data type \n",
    "print(f\"shape: {np.zeros(8).shape}\")\n",
    "print(f\"shape: {np.zeros(8).dtype}\")"
   ]
  },
  {
   "cell_type": "code",
   "execution_count": 6,
   "id": "97373129",
   "metadata": {},
   "outputs": [
    {
     "data": {
      "text/plain": [
       "array([0, 0, 0, 0, 0, 0, 0, 0])"
      ]
     },
     "execution_count": 6,
     "metadata": {},
     "output_type": "execute_result"
    }
   ],
   "source": [
    "np.zeros(8,dtype=int)"
   ]
  },
  {
   "cell_type": "code",
   "execution_count": 7,
   "id": "1fbd6edb",
   "metadata": {},
   "outputs": [
    {
     "data": {
      "text/plain": [
       "array([1., 1., 1., 1., 1., 1.])"
      ]
     },
     "execution_count": 7,
     "metadata": {},
     "output_type": "execute_result"
    }
   ],
   "source": [
    "# Q1.3: Create an array of 6 ones using np.ones()\n",
    "np.ones(6)"
   ]
  },
  {
   "cell_type": "code",
   "execution_count": 8,
   "id": "b66fc2f2",
   "metadata": {},
   "outputs": [
    {
     "data": {
      "text/plain": [
       "array([ 0,  1,  2,  3,  4,  5,  6,  7,  8,  9, 10, 11, 12, 13, 14])"
      ]
     },
     "execution_count": 8,
     "metadata": {},
     "output_type": "execute_result"
    }
   ],
   "source": [
    "# Q1.4: Create an array with values from 0 to 15 using np.arange()\n",
    "\n",
    "# NOTE: I typed as \"arrange\" but it's \"arange\"! Remember this. \n",
    "\n",
    "# General form: np.arange(start, stop, step), where stop is exclusive.\n",
    "np.arange(15)"
   ]
  },
  {
   "cell_type": "code",
   "execution_count": 9,
   "id": "751d1064",
   "metadata": {},
   "outputs": [
    {
     "data": {
      "text/plain": [
       "array([  0.        ,  14.28571429,  28.57142857,  42.85714286,\n",
       "        57.14285714,  71.42857143,  85.71428571, 100.        ])"
      ]
     },
     "execution_count": 9,
     "metadata": {},
     "output_type": "execute_result"
    }
   ],
   "source": [
    "# Q1.5: Create an array with 8 evenly spaced values from 0 to 100 using np.linspace()\n",
    "\n",
    "np.linspace(0,100,8)"
   ]
  },
  {
   "cell_type": "code",
   "execution_count": null,
   "id": "aec1e8ec",
   "metadata": {},
   "outputs": [
    {
     "name": "stdout",
     "output_type": "stream",
     "text": [
      "[ 0.    7.14 14.29 21.43 28.57 35.71 42.86 50.  ]\n",
      "['0.00', '8.57', '17.14', '25.71', '34.29', '42.86', '51.43', '60.00']\n"
     ]
    }
   ],
   "source": [
    "# NOTES to self: \n",
    "\n",
    "# Use linspace when you know how many points you want between two values (endpoints included by default).\n",
    "# Use arange when you know the step size and don’t need the endpoint included.\n",
    "\n",
    "# If we don’t want to include the endpoint with linspace, use endpoint=False.\n",
    "\n",
    "# pretty-print NumPy arrays to two decimal places\n",
    "arr = np.linspace(0, 50, 8)\n",
    "pretty_arr = np.round(arr, 2)\n",
    "print(pretty_arr)\n",
    "\n",
    "# OR using list comprehension & string formatting\n",
    "arr = np.linspace(0, 60, 8)\n",
    "pretty_list = [f\"{x:.2f}\" for x in arr]\n",
    "print(pretty_list) # it will give o/p in string because of f string"
   ]
  },
  {
   "cell_type": "code",
   "execution_count": null,
   "id": "15e08d62",
   "metadata": {},
   "outputs": [
    {
     "name": "stdout",
     "output_type": "stream",
     "text": [
      "[[  101  5000   720    45     5]\n",
      " [  102  1500   680    20     2]\n",
      " [  103  2500   700    30     3]\n",
      " [  104  8000   750    60     8]\n",
      " [  105  3000   710    25     4]\n",
      " [  106 10000   780    80    10]\n",
      " [  107  1200   650    15     1]\n",
      " [  108  4000   730    40     6]\n",
      " [  109  3500   690    28     3]\n",
      " [  110  9000   770    75     9]]\n"
     ]
    }
   ],
   "source": [
    "# creating banking data array first\n",
    "\n",
    "# np.random.randint(101,10000,(10,5))\n",
    "\n",
    "banking_data = np.array([\n",
    "     [101, 5000, 720, 45, 5],\n",
    "    [102, 1500, 680, 20, 2],\n",
    "    [103, 2500, 700, 30, 3],\n",
    "    [104, 8000, 750, 60, 8],\n",
    "    [105, 3000, 710, 25, 4],\n",
    "    [106, 10000, 780, 80, 10],\n",
    "    [107, 1200, 650, 15, 1],\n",
    "    [108, 4000, 730, 40, 6],\n",
    "    [109, 3500, 690, 28, 3],\n",
    "    [110, 9000, 770, 75, 9]\n",
    "])\n",
    "# (Customer_ID, Account_Balance, Credit_Score, Transaction_Count, Years_Active)\n",
    "print(banking_data)"
   ]
  },
  {
   "cell_type": "code",
   "execution_count": 15,
   "id": "f361068b",
   "metadata": {},
   "outputs": [
    {
     "name": "stdout",
     "output_type": "stream",
     "text": [
      "(10, 5)\n"
     ]
    }
   ],
   "source": [
    "# Question 2: Array Attributes and Information\n",
    "\n",
    "# Q2.1: What is the shape of the banking_data array?\n",
    "banking_data_shape = banking_data.shape\n",
    "print(banking_data_shape)"
   ]
  },
  {
   "cell_type": "code",
   "execution_count": 16,
   "id": "8aea8ec3",
   "metadata": {},
   "outputs": [
    {
     "name": "stdout",
     "output_type": "stream",
     "text": [
      "int64\n"
     ]
    }
   ],
   "source": [
    "# Q2.2: What is the data type of the banking_data array?\n",
    "banking_data_datatype = banking_data.dtype\n",
    "print(banking_data_datatype)"
   ]
  },
  {
   "cell_type": "code",
   "execution_count": 17,
   "id": "907d4f0d",
   "metadata": {},
   "outputs": [
    {
     "name": "stdout",
     "output_type": "stream",
     "text": [
      "50\n"
     ]
    }
   ],
   "source": [
    "# Q2.3: What is the size (total number of elements) of the banking_data array?\n",
    "banking_data_size = banking_data.size\n",
    "print(banking_data_size)"
   ]
  },
  {
   "cell_type": "code",
   "execution_count": 18,
   "id": "beca54f6",
   "metadata": {},
   "outputs": [
    {
     "name": "stdout",
     "output_type": "stream",
     "text": [
      "2\n"
     ]
    }
   ],
   "source": [
    "# Q2.4: What is the number of dimensions of the banking_data array?\n",
    "banking_data_dim = banking_data.ndim\n",
    "print(banking_data_dim)"
   ]
  },
  {
   "cell_type": "code",
   "execution_count": 21,
   "id": "3b4f2b38",
   "metadata": {},
   "outputs": [
    {
     "name": "stdout",
     "output_type": "stream",
     "text": [
      "400\n"
     ]
    }
   ],
   "source": [
    "# Q2.5: What is the memory size of the banking_data array in bytes?\n",
    "banking_data_bytes = banking_data.nbytes\n",
    "print(banking_data_bytes)"
   ]
  },
  {
   "cell_type": "code",
   "execution_count": null,
   "id": "e6d36184",
   "metadata": {},
   "outputs": [],
   "source": [
    "# NOTES to self :\n",
    "\n",
    "# In Python, things that describe an object (properties) are usually implemented as attributes, not functions.\n",
    "\n",
    "# so shape, dtype, ndim, nbytes don't have parethesis as they are attributes not methods. \n",
    "\n",
    "# to check if its method or attribute -> use callable method\n",
    "# ex. print(callable(arr.shape)) , print(callable(arr.reshape)) \n",
    "# if True then method, False then attr\n",
    "\n",
    "# OR use type() to see what it actually is"
   ]
  },
  {
   "cell_type": "code",
   "execution_count": null,
   "id": "bb7f0e4f",
   "metadata": {},
   "outputs": [
    {
     "name": "stdout",
     "output_type": "stream",
     "text": [
      "[ 101 5000  720   45    5]\n"
     ]
    }
   ],
   "source": [
    "# Question 3: Indexing and Slicing\n",
    "# (Customer_ID, Account_Balance, Credit_Score, Transaction_Count, Years_Active)\n",
    "\n",
    "# Q3.1: Extract the first row of banking_data\n",
    "\n",
    "banking_data_first_row = banking_data[0] # banking_data[0,:]\n",
    "print(banking_data_first_row)"
   ]
  },
  {
   "cell_type": "code",
   "execution_count": 24,
   "id": "96225725",
   "metadata": {},
   "outputs": [
    {
     "name": "stdout",
     "output_type": "stream",
     "text": [
      "[ 110 9000  770   75    9]\n"
     ]
    }
   ],
   "source": [
    "# Q3.2: Extract the last row of banking_data\n",
    "banking_data_last_row = banking_data[-1]\n",
    "print(banking_data_last_row)\n"
   ]
  },
  {
   "cell_type": "code",
   "execution_count": 25,
   "id": "a39afedb",
   "metadata": {},
   "outputs": [
    {
     "name": "stdout",
     "output_type": "stream",
     "text": [
      "[ 5000  1500  2500  8000  3000 10000  1200  4000  3500  9000]\n"
     ]
    }
   ],
   "source": [
    "# Q3.3: Extract the Account_Balance column (column index 1)\n",
    "banking_data_Account_Balance = banking_data[:,1]\n",
    "print(banking_data_Account_Balance)\n"
   ]
  },
  {
   "cell_type": "code",
   "execution_count": null,
   "id": "dbf523d6",
   "metadata": {},
   "outputs": [
    {
     "name": "stdout",
     "output_type": "stream",
     "text": [
      "[[ 101 5000  720]\n",
      " [ 102 1500  680]\n",
      " [ 103 2500  700]\n",
      " [ 104 8000  750]]\n"
     ]
    }
   ],
   "source": [
    "# Q3.4: Extract the first 4 rows and first 3 columns\n",
    "banking_data_r4_c3 = banking_data[:4,:3] # banking_data[0:4, 0:3]\n",
    "print(banking_data_r4_c3)"
   ]
  },
  {
   "cell_type": "code",
   "execution_count": 29,
   "id": "4d34be61",
   "metadata": {},
   "outputs": [
    {
     "name": "stdout",
     "output_type": "stream",
     "text": [
      "[[  104  8000   750    60     8]\n",
      " [  105  3000   710    25     4]\n",
      " [  106 10000   780    80    10]\n",
      " [  107  1200   650    15     1]\n",
      " [  108  4000   730    40     6]]\n"
     ]
    }
   ],
   "source": [
    "# Q3.5: Extract rows 3 to 7 (inclusive)\n",
    "banking_data_r3_7 = banking_data[3:8,:]\n",
    "print(banking_data_r3_7)"
   ]
  },
  {
   "cell_type": "code",
   "execution_count": 30,
   "id": "e3fc1774",
   "metadata": {},
   "outputs": [
    {
     "name": "stdout",
     "output_type": "stream",
     "text": [
      "47700\n"
     ]
    }
   ],
   "source": [
    "# (Customer_ID, Account_Balance, Credit_Score, Transaction_Count, Years_Active)\n",
    "# [[  101  5000   720    45     5]\n",
    "#  [  102  1500   680    20     2]\n",
    "#  [  103  2500   700    30     3]\n",
    "#  [  104  8000   750    60     8]\n",
    "#  [  105  3000   710    25     4]\n",
    "#  [  106 10000   780    80    10]\n",
    "#  [  107  1200   650    15     1]\n",
    "#  [  108  4000   730    40     6]\n",
    "#  [  109  3500   690    28     3]\n",
    "#  [  110  9000   770    75     9]]\n",
    "\n",
    "# Question 4: Mathematical Operations\n",
    "\n",
    "# Q4.1: Calculate the sum of all account balances\n",
    "\n",
    "sum_acc_balance = banking_data[:,1].sum()\n",
    "print(sum_acc_balance)\n"
   ]
  },
  {
   "cell_type": "code",
   "execution_count": 31,
   "id": "6a103e31",
   "metadata": {},
   "outputs": [
    {
     "name": "stdout",
     "output_type": "stream",
     "text": [
      "4770.0\n"
     ]
    }
   ],
   "source": [
    "# Q4.2: Calculate the mean account balance\n",
    "mean_acc_balance = banking_data[:,1].mean()\n",
    "print(mean_acc_balance)"
   ]
  },
  {
   "cell_type": "code",
   "execution_count": null,
   "id": "94bfae15",
   "metadata": {},
   "outputs": [
    {
     "name": "stdout",
     "output_type": "stream",
     "text": [
      "2994.3446695395637\n"
     ]
    }
   ],
   "source": [
    "# Q4.3: Calculate the standard deviation of account balances\n",
    "\n",
    "# NOTES: \n",
    "# Standard deviation measures how spread out the values are from the mean.\n",
    "# High std → more spread; low std → values are closer to mean.\n",
    "\n",
    "std_acc_balance = banking_data[:,1].std()\n",
    "print(std_acc_balance)"
   ]
  },
  {
   "cell_type": "code",
   "execution_count": 36,
   "id": "f36e7291",
   "metadata": {},
   "outputs": [
    {
     "name": "stdout",
     "output_type": "stream",
     "text": [
      "8966100.0\n"
     ]
    }
   ],
   "source": [
    "# Q4.4: Calculate the variance of account balances\n",
    "\n",
    "# NOTES  :\n",
    "# Variance = square of standard deviation.\n",
    "# Measures spread in squared units.\n",
    "\n",
    "variance_acc_balance = banking_data[:,1].var()\n",
    "print(variance_acc_balance)"
   ]
  },
  {
   "cell_type": "code",
   "execution_count": null,
   "id": "aafe3968",
   "metadata": {},
   "outputs": [
    {
     "name": "stdout",
     "output_type": "stream",
     "text": [
      "3750.0\n"
     ]
    }
   ],
   "source": [
    "# Q4.5: Calculate the median account balance\n",
    "\n",
    "# median isn’t an instance method — it’s a standalone NumPy function.\n",
    "\n",
    "# So this code gives error -> 'numpy.ndarray' object has no attribute 'median'\n",
    "# median_acc_balance = banking_data[:,1].median()\n",
    "\n",
    "# NOTES: \n",
    "# Median = middle value when data is sorted.\n",
    "# If even number of values → average of the two middle numbers.\n",
    "\n",
    "median_acc_balance = np.median(banking_data[:,1])\n",
    "print(median_acc_balance)"
   ]
  },
  {
   "cell_type": "code",
   "execution_count": 40,
   "id": "0a4d95c4",
   "metadata": {},
   "outputs": [
    {
     "name": "stdout",
     "output_type": "stream",
     "text": [
      "1200\n",
      "10000\n"
     ]
    }
   ],
   "source": [
    "# (Customer_ID, Account_Balance, Credit_Score, Transaction_Count, Years_Active)\n",
    "# [[  101  5000   720    45     5]\n",
    "#  [  102  1500   680    20     2]\n",
    "#  [  103  2500   700    30     3]\n",
    "#  [  104  8000   750    60     8]\n",
    "#  [  105  3000   710    25     4]\n",
    "#  [  106 10000   780    80    10]\n",
    "#  [  107  1200   650    15     1]\n",
    "#  [  108  4000   730    40     6]\n",
    "#  [  109  3500   690    28     3]\n",
    "#  [  110  9000   770    75     9]]\n",
    "\n",
    "# Question 5: Statistical Functions\n",
    "\n",
    "# Q5.1: Find the minimum and maximum account balances\n",
    "min_acc_bal = banking_data[:,1].min()\n",
    "print(min_acc_bal)\n",
    "max_acc_bal = banking_data[:,1].max()\n",
    "print(max_acc_bal)"
   ]
  },
  {
   "cell_type": "code",
   "execution_count": 42,
   "id": "404ef510",
   "metadata": {},
   "outputs": [
    {
     "name": "stdout",
     "output_type": "stream",
     "text": [
      "650\n",
      "780\n"
     ]
    }
   ],
   "source": [
    "#Q5.2: Find the minimum and maximum credit scores\n",
    "min_credit_score = banking_data[:,2].min()\n",
    "print(min_credit_score)\n",
    "max_credit_score = banking_data[:,2].max()\n",
    "print(max_credit_score)"
   ]
  },
  {
   "cell_type": "code",
   "execution_count": 43,
   "id": "b054b233",
   "metadata": {},
   "outputs": [
    {
     "name": "stdout",
     "output_type": "stream",
     "text": [
      "[2625. 3750. 7250.]\n"
     ]
    }
   ],
   "source": [
    "# Q5.3: Calculate the percentile values for account balances (25th, 50th, 75th)\n",
    "perc_value_acc_bal = np.percentile(banking_data[:,1],[25,50,75])\n",
    "print(perc_value_acc_bal)"
   ]
  },
  {
   "cell_type": "code",
   "execution_count": 48,
   "id": "93c7b21e",
   "metadata": {},
   "outputs": [
    {
     "data": {
      "text/plain": [
       "np.float64(0.9466761610274407)"
      ]
     },
     "execution_count": 48,
     "metadata": {},
     "output_type": "execute_result"
    }
   ],
   "source": [
    "# Q5.4: Calculate the correlation between account balance and credit score\n",
    "acc_bal_data = banking_data[:,1] \n",
    "cred_score_data = banking_data[:,2]\n",
    "\n",
    "# np.corrcoef returns a 2x2 matrix; the [0, 1] value is the actual correlation coefficient.\n",
    "np.corrcoef(acc_bal_data,cred_score_data)[0,1]"
   ]
  },
  {
   "cell_type": "code",
   "execution_count": 51,
   "id": "27f2978a",
   "metadata": {},
   "outputs": [
    {
     "data": {
      "text/plain": [
       "np.float64(121822.22)"
      ]
     },
     "execution_count": 51,
     "metadata": {},
     "output_type": "execute_result"
    }
   ],
   "source": [
    "# Q5.5: Calculate the covariance between account balance and credit score\n",
    "np.round(np.cov(acc_bal_data,cred_score_data)[0,1],2)\n"
   ]
  },
  {
   "cell_type": "code",
   "execution_count": 53,
   "id": "94526fe8",
   "metadata": {},
   "outputs": [
    {
     "data": {
      "text/plain": [
       "array([[  101,  5000,   720,    45,     5,   102,  1500,   680,    20,\n",
       "            2],\n",
       "       [  103,  2500,   700,    30,     3,   104,  8000,   750,    60,\n",
       "            8],\n",
       "       [  105,  3000,   710,    25,     4,   106, 10000,   780,    80,\n",
       "           10],\n",
       "       [  107,  1200,   650,    15,     1,   108,  4000,   730,    40,\n",
       "            6],\n",
       "       [  109,  3500,   690,    28,     3,   110,  9000,   770,    75,\n",
       "            9]])"
      ]
     },
     "execution_count": 53,
     "metadata": {},
     "output_type": "execute_result"
    }
   ],
   "source": [
    "# (Customer_ID, Account_Balance, Credit_Score, Transaction_Count, Years_Active)\n",
    "# [[  101  5000   720    45     5]\n",
    "#  [  102  1500   680    20     2]\n",
    "#  [  103  2500   700    30     3]\n",
    "#  [  104  8000   750    60     8]\n",
    "#  [  105  3000   710    25     4]\n",
    "#  [  106 10000   780    80    10]\n",
    "#  [  107  1200   650    15     1]\n",
    "#  [  108  4000   730    40     6]\n",
    "#  [  109  3500   690    28     3]\n",
    "#  [  110  9000   770    75     9]]\n",
    "\n",
    "# Question 6: Array Reshaping and Manipulation\n",
    "\n",
    "# Q6.1: Reshape the banking_data to 5 rows × 10 columns\n",
    "#np.reshape(banking_data,(5,10))\n",
    "banking_data.reshape(5,10)"
   ]
  },
  {
   "cell_type": "code",
   "execution_count": 54,
   "id": "721280ee",
   "metadata": {},
   "outputs": [
    {
     "data": {
      "text/plain": [
       "array([  101,  5000,   720,    45,     5,   102,  1500,   680,    20,\n",
       "           2,   103,  2500,   700,    30,     3,   104,  8000,   750,\n",
       "          60,     8,   105,  3000,   710,    25,     4,   106, 10000,\n",
       "         780,    80,    10,   107,  1200,   650,    15,     1,   108,\n",
       "        4000,   730,    40,     6,   109,  3500,   690,    28,     3,\n",
       "         110,  9000,   770,    75,     9])"
      ]
     },
     "execution_count": 54,
     "metadata": {},
     "output_type": "execute_result"
    }
   ],
   "source": [
    "# Q6.2: Flatten the banking_data to a 1D array\n",
    "banking_data.flatten()"
   ]
  },
  {
   "cell_type": "code",
   "execution_count": 61,
   "id": "2c70d717",
   "metadata": {},
   "outputs": [
    {
     "data": {
      "text/plain": [
       "array([[  101,   102,   103,   104,   105,   106,   107,   108,   109,\n",
       "          110],\n",
       "       [ 5000,  1500,  2500,  8000,  3000, 10000,  1200,  4000,  3500,\n",
       "         9000],\n",
       "       [  720,   680,   700,   750,   710,   780,   650,   730,   690,\n",
       "          770],\n",
       "       [   45,    20,    30,    60,    25,    80,    15,    40,    28,\n",
       "           75],\n",
       "       [    5,     2,     3,     8,     4,    10,     1,     6,     3,\n",
       "            9]])"
      ]
     },
     "execution_count": 61,
     "metadata": {},
     "output_type": "execute_result"
    }
   ],
   "source": [
    "# Q6.3: Transpose the banking_data\n",
    "banking_data.T"
   ]
  },
  {
   "cell_type": "code",
   "execution_count": 63,
   "id": "bd4975fb",
   "metadata": {},
   "outputs": [
    {
     "data": {
      "text/plain": [
       "[array([[ 101, 5000,  720,   45,    5],\n",
       "        [ 102, 1500,  680,   20,    2],\n",
       "        [ 103, 2500,  700,   30,    3],\n",
       "        [ 104, 8000,  750,   60,    8],\n",
       "        [ 105, 3000,  710,   25,    4]]),\n",
       " array([[  106, 10000,   780,    80,    10],\n",
       "        [  107,  1200,   650,    15,     1],\n",
       "        [  108,  4000,   730,    40,     6],\n",
       "        [  109,  3500,   690,    28,     3],\n",
       "        [  110,  9000,   770,    75,     9]])]"
      ]
     },
     "execution_count": 63,
     "metadata": {},
     "output_type": "execute_result"
    }
   ],
   "source": [
    "# Q6.4: Split the banking_data into 2 equal parts vertically\n",
    "np.vsplit(banking_data,2)"
   ]
  },
  {
   "cell_type": "code",
   "execution_count": 64,
   "id": "42c27571",
   "metadata": {},
   "outputs": [
    {
     "ename": "ValueError",
     "evalue": "array split does not result in an equal division",
     "output_type": "error",
     "traceback": [
      "\u001b[31m---------------------------------------------------------------------------\u001b[39m",
      "\u001b[31mValueError\u001b[39m                                Traceback (most recent call last)",
      "\u001b[36mCell\u001b[39m\u001b[36m \u001b[39m\u001b[32mIn[64]\u001b[39m\u001b[32m, line 2\u001b[39m\n\u001b[32m      1\u001b[39m \u001b[38;5;66;03m# Q6.5: Split the banking_data into 2 equal parts horizontally\u001b[39;00m\n\u001b[32m----> \u001b[39m\u001b[32m2\u001b[39m \u001b[43mnp\u001b[49m\u001b[43m.\u001b[49m\u001b[43mhsplit\u001b[49m\u001b[43m(\u001b[49m\u001b[43mbanking_data\u001b[49m\u001b[43m,\u001b[49m\u001b[32;43m2\u001b[39;49m\u001b[43m)\u001b[49m\n",
      "\u001b[36mFile \u001b[39m\u001b[32mc:\\Users\\udite\\AppData\\Local\\Programs\\Python\\Python313\\Lib\\site-packages\\numpy\\lib\\_shape_base_impl.py:959\u001b[39m, in \u001b[36mhsplit\u001b[39m\u001b[34m(ary, indices_or_sections)\u001b[39m\n\u001b[32m    957\u001b[39m     \u001b[38;5;28;01mraise\u001b[39;00m \u001b[38;5;167;01mValueError\u001b[39;00m(\u001b[33m'\u001b[39m\u001b[33mhsplit only works on arrays of 1 or more dimensions\u001b[39m\u001b[33m'\u001b[39m)\n\u001b[32m    958\u001b[39m \u001b[38;5;28;01mif\u001b[39;00m ary.ndim > \u001b[32m1\u001b[39m:\n\u001b[32m--> \u001b[39m\u001b[32m959\u001b[39m     \u001b[38;5;28;01mreturn\u001b[39;00m \u001b[43msplit\u001b[49m\u001b[43m(\u001b[49m\u001b[43mary\u001b[49m\u001b[43m,\u001b[49m\u001b[43m \u001b[49m\u001b[43mindices_or_sections\u001b[49m\u001b[43m,\u001b[49m\u001b[43m \u001b[49m\u001b[32;43m1\u001b[39;49m\u001b[43m)\u001b[49m\n\u001b[32m    960\u001b[39m \u001b[38;5;28;01melse\u001b[39;00m:\n\u001b[32m    961\u001b[39m     \u001b[38;5;28;01mreturn\u001b[39;00m split(ary, indices_or_sections, \u001b[32m0\u001b[39m)\n",
      "\u001b[36mFile \u001b[39m\u001b[32mc:\\Users\\udite\\AppData\\Local\\Programs\\Python\\Python313\\Lib\\site-packages\\numpy\\lib\\_shape_base_impl.py:884\u001b[39m, in \u001b[36msplit\u001b[39m\u001b[34m(ary, indices_or_sections, axis)\u001b[39m\n\u001b[32m    882\u001b[39m     N = ary.shape[axis]\n\u001b[32m    883\u001b[39m     \u001b[38;5;28;01mif\u001b[39;00m N % sections:\n\u001b[32m--> \u001b[39m\u001b[32m884\u001b[39m         \u001b[38;5;28;01mraise\u001b[39;00m \u001b[38;5;167;01mValueError\u001b[39;00m(\n\u001b[32m    885\u001b[39m             \u001b[33m'\u001b[39m\u001b[33marray split does not result in an equal division\u001b[39m\u001b[33m'\u001b[39m) \u001b[38;5;28;01mfrom\u001b[39;00m\u001b[38;5;250m \u001b[39m\u001b[38;5;28;01mNone\u001b[39;00m\n\u001b[32m    886\u001b[39m \u001b[38;5;28;01mreturn\u001b[39;00m array_split(ary, indices_or_sections, axis)\n",
      "\u001b[31mValueError\u001b[39m: array split does not result in an equal division"
     ]
    }
   ],
   "source": [
    "# Q6.5: Split the banking_data into 2 equal parts horizontally\n",
    "np.hsplit(banking_data,2)"
   ]
  },
  {
   "cell_type": "code",
   "execution_count": null,
   "id": "f9c3e21d",
   "metadata": {},
   "outputs": [
    {
     "name": "stdout",
     "output_type": "stream",
     "text": [
      "[]\n"
     ]
    }
   ],
   "source": [
    "# (Customer_ID, Account_Balance, Credit_Score, Transaction_Count, Years_Active)\n",
    "# [[  101  5000   720    45     5]\n",
    "#  [  102  1500   680    20     2]\n",
    "#  [  103  2500   700    30     3]\n",
    "#  [  104  8000   750    60     8]\n",
    "#  [  105  3000   710    25     4]\n",
    "#  [  106 10000   780    80    10]\n",
    "#  [  107  1200   650    15     1]\n",
    "#  [  108  4000   730    40     6]\n",
    "#  [  109  3500   690    28     3]\n",
    "#  [  110  9000   770    75     9]]\n",
    "\n",
    "# Question 7: Logical Operations and Filtering\n",
    "\n",
    "# Q7.1: Find customers with account balance greater than $100,000\n",
    "customers_grt_1L = banking_data[banking_data[:,1] > 10000,0]\n",
    "# customers_grt_1L = banking_data[banking_data[:,1] > 7000,0]\n",
    "print(customers_grt_1L)"
   ]
  },
  {
   "cell_type": "code",
   "execution_count": 72,
   "id": "1b20982d",
   "metadata": {},
   "outputs": [
    {
     "name": "stdout",
     "output_type": "stream",
     "text": [
      "[]\n"
     ]
    }
   ],
   "source": [
    "# Q7.2: Find customers with credit score greater than 800\n",
    "customers_cred_grt_800 = banking_data[banking_data[:,2] > 800,0]\n",
    "# customers_cred_grt_800 = banking_data[banking_data[:,2] > 700,0]\n",
    "print(customers_cred_grt_800)"
   ]
  },
  {
   "cell_type": "code",
   "execution_count": 75,
   "id": "b8cb1b3d",
   "metadata": {},
   "outputs": [
    {
     "name": "stdout",
     "output_type": "stream",
     "text": [
      "[]\n"
     ]
    }
   ],
   "source": [
    "# Q7.3: Find customers with transaction count greater than 50 AND credit score less than 750\n",
    "customers3 = banking_data[(banking_data[:,3] > 50) & (banking_data[:,2] < 750),0]\n",
    "print(customers3)"
   ]
  },
  {
   "cell_type": "code",
   "execution_count": 81,
   "id": "ae10eaee",
   "metadata": {},
   "outputs": [
    {
     "name": "stdout",
     "output_type": "stream",
     "text": [
      "2\n"
     ]
    }
   ],
   "source": [
    "# Q7.4: Count how many customers have account balance between $10,000 and $100,000\n",
    "customers4 = np.sum(( banking_data[:,1] > 8000) &  (banking_data[:,1] < 100000))\n",
    "print(customers4)\n"
   ]
  },
  {
   "cell_type": "code",
   "execution_count": null,
   "id": "c38daeaa",
   "metadata": {},
   "outputs": [
    {
     "name": "stdout",
     "output_type": "stream",
     "text": [
      "6\n"
     ]
    }
   ],
   "source": [
    "# Q7.5: Find the index of the customer with the highest credit score\n",
    "customers5 = banking_data[:,2].argmax() + 1\n",
    "print(customers5)"
   ]
  },
  {
   "cell_type": "code",
   "execution_count": null,
   "id": "4e29ccef",
   "metadata": {},
   "outputs": [
    {
     "ename": "NameError",
     "evalue": "name 'banking_data' is not defined",
     "output_type": "error",
     "traceback": [
      "\u001b[31m---------------------------------------------------------------------------\u001b[39m",
      "\u001b[31mNameError\u001b[39m                                 Traceback (most recent call last)",
      "\u001b[36mCell\u001b[39m\u001b[36m \u001b[39m\u001b[32mIn[1]\u001b[39m\u001b[32m, line 17\u001b[39m\n\u001b[32m      1\u001b[39m \u001b[38;5;66;03m# (Customer_ID, Account_Balance, Credit_Score, Transaction_Count, Years_Active)\u001b[39;00m\n\u001b[32m      2\u001b[39m \u001b[38;5;66;03m# [[  101  5000   720    45     5]\u001b[39;00m\n\u001b[32m      3\u001b[39m \u001b[38;5;66;03m#  [  102  1500   680    20     2]\u001b[39;00m\n\u001b[32m   (...)\u001b[39m\u001b[32m     14\u001b[39m \n\u001b[32m     15\u001b[39m \u001b[38;5;66;03m# Q8.1: Sort the banking_data by account balance (ascending)\u001b[39;00m\n\u001b[32m---> \u001b[39m\u001b[32m17\u001b[39m sorted_bank_data_by_acc_bal = \u001b[43mbanking_data\u001b[49m[:,\u001b[32m1\u001b[39m].sort()\n",
      "\u001b[31mNameError\u001b[39m: name 'banking_data' is not defined"
     ]
    }
   ],
   "source": [
    "# (Customer_ID, Account_Balance, Credit_Score, Transaction_Count, Years_Active)\n",
    "# [[  101  5000   720    45     5]\n",
    "#  [  102  1500   680    20     2]\n",
    "#  [  103  2500   700    30     3]\n",
    "#  [  104  8000   750    60     8]\n",
    "#  [  105  3000   710    25     4]\n",
    "#  [  106 10000   780    80    10]\n",
    "#  [  107  1200   650    15     1]\n",
    "#  [  108  4000   730    40     6]\n",
    "#  [  109  3500   690    28     3]\n",
    "#  [  110  9000   770    75     9]]\n",
    "\n",
    "# Question 8: Sorting and Searching\n",
    "\n",
    "# Q8.1: Sort the banking_data by account balance (ascending)\n",
    "\n",
    "sorted_bank_data_by_acc_bal = banking_data[:,1].sort()"
   ]
  },
  {
   "cell_type": "code",
   "execution_count": 7,
   "id": "b89e5be6",
   "metadata": {},
   "outputs": [],
   "source": [
    "import numpy as np\n",
    "banking_data = np.array([\n",
    "     [101, 5000, 720, 45, 5],\n",
    "    [102, 1500, 680, 20, 2],\n",
    "    [103, 2500, 700, 30, 3],\n",
    "    [104, 8000, 750, 60, 8],\n",
    "    [105, 3000, 710, 25, 4],\n",
    "    [106, 10000, 780, 80, 10],\n",
    "    [107, 1200, 650, 15, 1],\n",
    "    [108, 4000, 730, 40, 6],\n",
    "    [109, 3500, 690, 28, 3],\n",
    "    [110, 9000, 770, 75, 9]\n",
    "])"
   ]
  },
  {
   "cell_type": "code",
   "execution_count": null,
   "id": "c3f7a846",
   "metadata": {},
   "outputs": [
    {
     "name": "stdout",
     "output_type": "stream",
     "text": [
      "None\n"
     ]
    }
   ],
   "source": [
    "sorted_bank_data_by_acc_bal = banking_data[:,1].sort()\n",
    "print(sorted_bank_data_by_acc_bal)\n",
    "\n",
    "# NOTES to self:\n",
    "\n",
    "# sort() either returns sorted values of a 1-D array or sorts each row/column independently in a 2-D array\n",
    "# Use argsort() when you want to reorder whole rows (or multiple aligned arrays) based on one column\n",
    "\n",
    "# np.argsort(a)\n",
    "# Returns the indices (a permutation) that would sort a.\n",
    "# You use those indices to reindex your original 2-D array so entire rows move together.\n"
   ]
  },
  {
   "cell_type": "code",
   "execution_count": 8,
   "id": "de0c6f76",
   "metadata": {},
   "outputs": [
    {
     "name": "stdout",
     "output_type": "stream",
     "text": [
      "[[  107  1200   650    15     1]\n",
      " [  102  1500   680    20     2]\n",
      " [  103  2500   700    30     3]\n",
      " [  105  3000   710    25     4]\n",
      " [  109  3500   690    28     3]\n",
      " [  108  4000   730    40     6]\n",
      " [  101  5000   720    45     5]\n",
      " [  104  8000   750    60     8]\n",
      " [  110  9000   770    75     9]\n",
      " [  106 10000   780    80    10]]\n"
     ]
    }
   ],
   "source": [
    "# Correct way to sort by column and reorder all rows\n",
    "order = banking_data[:,1].argsort()\n",
    "sorted_by_bal = banking_data[order]\n",
    "print(sorted_by_bal)"
   ]
  },
  {
   "cell_type": "code",
   "execution_count": 12,
   "id": "09daca74",
   "metadata": {},
   "outputs": [
    {
     "name": "stdout",
     "output_type": "stream",
     "text": [
      "[[  106 10000   780    80    10]\n",
      " [  110  9000   770    75     9]\n",
      " [  104  8000   750    60     8]\n",
      " [  108  4000   730    40     6]\n",
      " [  101  5000   720    45     5]\n",
      " [  105  3000   710    25     4]\n",
      " [  103  2500   700    30     3]\n",
      " [  109  3500   690    28     3]\n",
      " [  102  1500   680    20     2]\n",
      " [  107  1200   650    15     1]]\n"
     ]
    }
   ],
   "source": [
    "# Q8.2: Sort the banking_data by credit score (descending)\n",
    "order2 = banking_data[:,2].argsort()[::-1]\n",
    "# [::-1] when step is <0 (negative) , start is end and stop is beginning, -1 means go backward \n",
    "sorted_by_credit_score = banking_data[order2]\n",
    "print(sorted_by_credit_score)"
   ]
  },
  {
   "cell_type": "code",
   "execution_count": 13,
   "id": "09fe1416",
   "metadata": {},
   "outputs": [
    {
     "name": "stdout",
     "output_type": "stream",
     "text": [
      "[6 1 2 8 4 0 7 3 9 5]\n"
     ]
    }
   ],
   "source": [
    "# Q8.3: Find the indices that would sort the array by years active\n",
    "years_order = banking_data[:, 4].argsort()\n",
    "print(years_order)"
   ]
  },
  {
   "cell_type": "code",
   "execution_count": 15,
   "id": "67af22d7",
   "metadata": {},
   "outputs": [
    {
     "name": "stdout",
     "output_type": "stream",
     "text": [
      "[ 110 9000  770   75    9]\n"
     ]
    }
   ],
   "source": [
    "# Q8.4: Find the customer with the second highest account balance\n",
    "acc_bal_order_desc = banking_data[:,1].argsort()[::-1]\n",
    "second_highest = acc_bal_order_desc[1]\n",
    "customer_with_second_highest_bal = banking_data[second_highest]\n",
    "print(customer_with_second_highest_bal)"
   ]
  },
  {
   "cell_type": "code",
   "execution_count": 16,
   "id": "b2e25624",
   "metadata": {},
   "outputs": [
    {
     "name": "stdout",
     "output_type": "stream",
     "text": [
      "[ 107 1200  650   15    1]\n"
     ]
    }
   ],
   "source": [
    "# Q8.5: Find the customer with the lowest transaction count \n",
    "order_transaction = banking_data[:,3].argsort()\n",
    "lowest_tran = order_transaction[0]\n",
    "customer_with_lowest_tran = banking_data[lowest_tran]\n",
    "print(customer_with_lowest_tran)"
   ]
  },
  {
   "cell_type": "code",
   "execution_count": 17,
   "id": "d88fcab1",
   "metadata": {},
   "outputs": [
    {
     "name": "stdout",
     "output_type": "stream",
     "text": [
      "[[  101  5000   720    45     5]\n",
      " [  102  1500   680    20     2]\n",
      " [  103  2500   700    30     3]\n",
      " [  104  8000   750    60     8]\n",
      " [  105  3000   710    25     4]\n",
      " [  106 10000   780    80    10]\n",
      " [  107  1200   650    15     1]\n",
      " [  108  4000   730    40     6]\n",
      " [  109  3500   690    28     3]\n",
      " [  110  9000   770    75     9]]\n"
     ]
    }
   ],
   "source": [
    "# (Customer_ID, Account_Balance, Credit_Score, Transaction_Count, Years_Active)\n",
    "# [[  101  5000   720    45     5]\n",
    "#  [  102  1500   680    20     2]\n",
    "#  [  103  2500   700    30     3]\n",
    "#  [  104  8000   750    60     8]\n",
    "#  [  105  3000   710    25     4]\n",
    "#  [  106 10000   780    80    10]\n",
    "#  [  107  1200   650    15     1]\n",
    "#  [  108  4000   730    40     6]\n",
    "#  [  109  3500   690    28     3]\n",
    "#  [  110  9000   770    75     9]]\n",
    "\n",
    "# Question 9: Mathematical Functions\n",
    "\n",
    "# Q9.1: Calculate the absolute values of all elements\n",
    "banking_data_abs = np.abs(banking_data)\n",
    "print(banking_data)"
   ]
  },
  {
   "cell_type": "code",
   "execution_count": null,
   "id": "025c2ad3",
   "metadata": {},
   "outputs": [
    {
     "name": "stdout",
     "output_type": "stream",
     "text": [
      "[ 70.71067812  38.72983346  50.          89.4427191   54.77225575\n",
      " 100.          34.64101615  63.2455532   59.16079783  94.86832981]\n"
     ]
    }
   ],
   "source": [
    "# Q9.2: Calculate the square root of all account balances\n",
    "acc_bal_sqrt_values = np.sqrt(banking_data[:,1])\n",
    "print(acc_bal_sqrt_values)\n",
    "\n",
    "# NOTES to self: \n",
    "# sqrt won't work for negative values, in real world data, neg values can be there. \n",
    "\n",
    "# Option 1: negatives will become 0\n",
    "# balances = banking_data[:, 1]            \n",
    "# safe_balances = np.maximum(balances, 0)    # elementwise max with 0\n",
    "# sqrt_balances = np.sqrt(safe_balances) \n",
    "\n",
    "\n",
    "# Option 2:\n",
    "# balances = banking_data[:, 1]\n",
    "# sqrt_balances = np.empty_like(balances, dtype=float)  # pre-allocate once\n",
    "# mask = balances >= 0\n",
    "# np.sqrt(balances, out=sqrt_balances, where=mask)      # compute only on valid entries\n",
    "# sqrt_balances[~mask] = np.nan                         # mark invalid as NaN (optional)\n",
    "\n",
    "# More notes\n",
    "# np.empty_like(x, dtype=..., order=...) creates a new NumPy array with the same shape \n",
    "# (and by default the same dtype) as x, but without initializing its values. That means the memory may contain \n",
    "# arbitrary “garbage” until you fill it.\n",
    "\n",
    "# ~mask inverts the boolean array elementwise: True → False, False → True.\n",
    "\n"
   ]
  },
  {
   "cell_type": "code",
   "execution_count": 21,
   "id": "505ed749",
   "metadata": {},
   "outputs": [
    {
     "name": "stdout",
     "output_type": "stream",
     "text": [
      "[518400 462400 490000 562500 504100 608400 422500 532900 476100 592900]\n"
     ]
    }
   ],
   "source": [
    "# Q9.3: Calculate the square of all credit scores\n",
    "credit_score_sq_values = np.square(banking_data[:,2])\n",
    "print(credit_score_sq_values)"
   ]
  },
  {
   "cell_type": "code",
   "execution_count": 22,
   "id": "eec17b32",
   "metadata": {},
   "outputs": [
    {
     "name": "stdout",
     "output_type": "stream",
     "text": [
      "[3.49342711e+19 4.85165195e+08 1.06864746e+13 1.14200739e+26\n",
      " 7.20048993e+10 5.54062238e+34 3.26901737e+06 2.35385267e+17\n",
      " 1.44625706e+12 3.73324200e+32]\n"
     ]
    }
   ],
   "source": [
    "# Q9.4: Calculate the exponential of all transaction counts\n",
    "tx_count_exp = np.exp(banking_data[:,3])\n",
    "print(tx_count_exp)"
   ]
  },
  {
   "cell_type": "code",
   "execution_count": 23,
   "id": "3d6ddf65",
   "metadata": {},
   "outputs": [
    {
     "name": "stdout",
     "output_type": "stream",
     "text": [
      "[8.51719319 7.31322039 7.82404601 8.98719682 8.00636757 9.21034037\n",
      " 7.09007684 8.29404964 8.16051825 9.10497986]\n"
     ]
    }
   ],
   "source": [
    "# Q9.5: Calculate the natural logarithm of all account balances\n",
    "\n",
    "# natural logarithm: \n",
    "# ln(x) is the inverse of exp: it answers “to what power should we raise e to get x?”. Defined for x > 0.\n",
    "\n",
    "acc_bal_natural_log = np.log(banking_data[:,1])\n",
    "print(acc_bal_natural_log)"
   ]
  },
  {
   "cell_type": "code",
   "execution_count": null,
   "id": "30d724c1",
   "metadata": {},
   "outputs": [
    {
     "name": "stdout",
     "output_type": "stream",
     "text": [
      "[ 5000  6500  9000 17000 20000 30000 31200 35200 38700 47700]\n"
     ]
    }
   ],
   "source": [
    "# (Customer_ID, Account_Balance, Credit_Score, Transaction_Count, Years_Active)\n",
    "# [[  101  5000   720    45     5]\n",
    "#  [  102  1500   680    20     2]\n",
    "#  [  103  2500   700    30     3]\n",
    "#  [  104  8000   750    60     8]\n",
    "#  [  105  3000   710    25     4]\n",
    "#  [  106 10000   780    80    10]\n",
    "#  [  107  1200   650    15     1]\n",
    "#  [  108  4000   730    40     6]\n",
    "#  [  109  3500   690    28     3]\n",
    "#  [  110  9000   770    75     9]]\n",
    "\n",
    "# Question 10: Advanced Operations\n",
    "\n",
    "# Q10.1: Calculate the cumulative sum of account balances\n",
    "\n",
    "# Each element in the result is the sum of all previous elements (including itself).\n",
    "# Useful for: running totals (like total deposits over time).\n",
    "    \n",
    "acc_bal_cumulative_sum = np.cumsum(banking_data[:,1])\n",
    "print(acc_bal_cumulative_sum) "
   ]
  },
  {
   "cell_type": "code",
   "execution_count": 26,
   "id": "08efc76b",
   "metadata": {},
   "outputs": [
    {
     "name": "stdout",
     "output_type": "stream",
     "text": [
      "[              45              900            27000          1620000\n",
      "         40500000       3240000000      48600000000    1944000000000\n",
      "   54432000000000 4082400000000000]\n"
     ]
    }
   ],
   "source": [
    "# Q10.2: Calculate the cumulative product of transaction counts\n",
    "\n",
    "# Useful in growth models (compound interest, multiplicative growth, etc.).\n",
    "tran_count_cumulative_prod = np.cumprod(banking_data[:,3])\n",
    "print(tran_count_cumulative_prod)\n"
   ]
  },
  {
   "cell_type": "code",
   "execution_count": null,
   "id": "32281915",
   "metadata": {},
   "outputs": [
    {
     "name": "stdout",
     "output_type": "stream",
     "text": [
      "[-3500  1000  5500 -5000  7000 -8800  2800  -500  5500]\n"
     ]
    }
   ],
   "source": [
    "# Q10.3: Calculate the difference between consecutive account balances\n",
    "\n",
    "\n",
    "# Length of result is n-1 because differences are between pairs.\n",
    "# Useful for analyzing changes in balances instead of absolute balances.\n",
    "acc_bal_diff = np.diff(banking_data[:,1])\n",
    "print(acc_bal_diff)"
   ]
  },
  {
   "cell_type": "code",
   "execution_count": null,
   "id": "030a99aa",
   "metadata": {},
   "outputs": [
    {
     "name": "stdout",
     "output_type": "stream",
     "text": [
      "[-3500. -1250.  3250.   250.  1000.  -900. -3000.  1150.  2500.  5500.]\n"
     ]
    }
   ],
   "source": [
    "# Q10.4: Calculate the gradient of account balances\n",
    "\n",
    "# estimates the rate of change at each point (like slope).\n",
    "# Useful in finance for finding trends/smooth changes.\n",
    "\n",
    "# NOTES to self:\n",
    "# Study how gradient works in more depth\n",
    "acc_bal_gradient = np.gradient(banking_data[:,1])\n",
    "print(acc_bal_gradient)"
   ]
  },
  {
   "cell_type": "code",
   "execution_count": 30,
   "id": "008f6a3e",
   "metadata": {},
   "outputs": [
    {
     "name": "stdout",
     "output_type": "stream",
     "text": [
      "Histogram: [3 3 1 1 2]\n",
      "Bin edges: [ 1200.  2960.  4720.  6480.  8240. 10000.]\n"
     ]
    }
   ],
   "source": [
    "# Q10.5: Calculate the histogram of account balances with 5 bins\n",
    "\n",
    "# groups values into 5 ranges (bins).\n",
    "# frequency distribution\n",
    "\n",
    "# Useful for distribution analysis (e.g., how many customers fall in low/medium/high balance ranges).\n",
    "\n",
    "hist, bin_edges = np.histogram(banking_data[:,1], bins=5)\n",
    "print(\"Histogram:\", hist)\n",
    "print(\"Bin edges:\", bin_edges)"
   ]
  },
  {
   "cell_type": "code",
   "execution_count": 32,
   "id": "7abd5af8",
   "metadata": {},
   "outputs": [
    {
     "name": "stdout",
     "output_type": "stream",
     "text": [
      "[ 32 667  52 454  37 316]\n"
     ]
    }
   ],
   "source": [
    "# (Customer_ID, Account_Balance, Credit_Score, Transaction_Count, Years_Active)\n",
    "# [[  101  5000   720    45     5]\n",
    "#  [  102  1500   680    20     2]\n",
    "#  [  103  2500   700    30     3]\n",
    "#  [  104  8000   750    60     8]\n",
    "#  [  105  3000   710    25     4]\n",
    "#  [  106 10000   780    80    10]\n",
    "#  [  107  1200   650    15     1]\n",
    "#  [  108  4000   730    40     6]\n",
    "#  [  109  3500   690    28     3]\n",
    "#  [  110  9000   770    75     9]]\n",
    "\n",
    "# Question 11: Random Numbers and Simulation\n",
    "\n",
    "# Q11.1: Generate 6 random integers between 1 and 1000\n",
    "\n",
    "random_integers = np.random.randint(1,1001,6)\n",
    "print(random_integers)"
   ]
  },
  {
   "cell_type": "code",
   "execution_count": null,
   "id": "cab9ab23",
   "metadata": {},
   "outputs": [
    {
     "name": "stdout",
     "output_type": "stream",
     "text": [
      "[0.26542921 0.11221377 0.58436721 0.70564079 0.21801686 0.06862469]\n"
     ]
    }
   ],
   "source": [
    "# Q11.2: Generate 6 random floats between 0 and 1\n",
    "\n",
    "# np.random.rand(n) generates n floats in the range [0.0, 1.0).\n",
    "random_floats = np.random.rand(6)\n",
    "print(random_floats)"
   ]
  },
  {
   "cell_type": "code",
   "execution_count": 35,
   "id": "b9f76c24",
   "metadata": {},
   "outputs": [
    {
     "name": "stdout",
     "output_type": "stream",
     "text": [
      "[522.63075876 746.3100902  686.87053648 779.64376929 661.97803287\n",
      " 612.21646572]\n"
     ]
    }
   ],
   "source": [
    "# Q11.3: Generate 6 random numbers from normal distribution (mean=700, std=100)\n",
    "\n",
    "normal_dist = np.random.normal(loc=700, scale=100, size=6)\n",
    "print(normal_dist)\n",
    "# np.random.normal(loc, scale, size):\n",
    "# loc → mean (μ = 700 here).\n",
    "# scale → standard deviation (σ = 100 here).\n",
    "# size=6 → 6 values.\n",
    "# This simulates real-world distributions (like salaries, balances, etc.)."
   ]
  },
  {
   "cell_type": "code",
   "execution_count": 36,
   "id": "079e57f9",
   "metadata": {},
   "outputs": [
    {
     "name": "stdout",
     "output_type": "stream",
     "text": [
      "[[  104  8000   750    60     8]\n",
      " [  109  3500   690    28     3]\n",
      " [  103  2500   700    30     3]\n",
      " [  105  3000   710    25     4]\n",
      " [  101  5000   720    45     5]\n",
      " [  107  1200   650    15     1]\n",
      " [  106 10000   780    80    10]\n",
      " [  102  1500   680    20     2]\n",
      " [  108  4000   730    40     6]\n",
      " [  110  9000   770    75     9]]\n"
     ]
    }
   ],
   "source": [
    "# Q11.4: Shuffle the banking_data rows randomly\n",
    "\n",
    "shuffled_banking_data = banking_data.copy()\n",
    "np.random.shuffle(shuffled_banking_data)\n",
    "print(shuffled_banking_data)"
   ]
  },
  {
   "cell_type": "code",
   "execution_count": 38,
   "id": "c4b23fbe",
   "metadata": {},
   "outputs": [
    {
     "name": "stdout",
     "output_type": "stream",
     "text": [
      "[0.69646919 0.28613933 0.22685145 0.55131477]\n"
     ]
    }
   ],
   "source": [
    "# Q11.5: Set random seed to 123 and generate 4 random numbers\n",
    "\n",
    "np.random.seed(123)\n",
    "random_numbers = np.random.rand(4)\n",
    "print(random_numbers)\n",
    "\n",
    "# np.random.seed(n) → sets the random number generator state.\n",
    "# Ensures reproducibility (same random numbers every time).\n",
    "# If someone else runs this with seed=123, they’ll get identical results."
   ]
  },
  {
   "cell_type": "code",
   "execution_count": 39,
   "id": "289d4721",
   "metadata": {},
   "outputs": [
    {
     "name": "stdout",
     "output_type": "stream",
     "text": [
      "35345000\n"
     ]
    }
   ],
   "source": [
    "# (Customer_ID, Account_Balance, Credit_Score, Transaction_Count, Years_Active)\n",
    "# [[  101  5000   720    45     5]\n",
    "#  [  102  1500   680    20     2]\n",
    "#  [  103  2500   700    30     3]\n",
    "#  [  104  8000   750    60     8]\n",
    "#  [  105  3000   710    25     4]\n",
    "#  [  106 10000   780    80    10]\n",
    "#  [  107  1200   650    15     1]\n",
    "#  [  108  4000   730    40     6]\n",
    "#  [  109  3500   690    28     3]\n",
    "#  [  110  9000   770    75     9]]\n",
    "\n",
    "# Question 12: Linear Algebra Operations\n",
    "\n",
    "# Q12.1: Calculate the dot product of account balance and credit score columns\n",
    "acc_bal = banking_data[:,1]\n",
    "credit_score = banking_data[:,2]\n",
    "dot_product = np.dot(acc_bal,credit_score)\n",
    "print(dot_product)"
   ]
  },
  {
   "cell_type": "code",
   "execution_count": null,
   "id": "4fc6f99f",
   "metadata": {},
   "outputs": [
    {
     "name": "stdout",
     "output_type": "stream",
     "text": [
      "[ -16200  -32500 2320000]\n"
     ]
    }
   ],
   "source": [
    "# Q12.2: Calculate the cross product of first two rows\n",
    "\n",
    "# The cross product is defined only for 3-dimensional vectors\n",
    "# Use cases: geometry (area of parallelogram), direction perpendicular to two vectors. In this banking context \n",
    "# it’s mostly an exercise in vector ops — cross product with banking columns has no direct business meaning unless \n",
    "# you have a defined 3D feature space.\n",
    "r1 = banking_data[0,1:4]\n",
    "r2 = banking_data[1,1:4]\n",
    "cross_product = np.cross(r1,r2)\n",
    "print(cross_product)"
   ]
  },
  {
   "cell_type": "code",
   "execution_count": null,
   "id": "3500c7e1",
   "metadata": {},
   "outputs": [
    {
     "name": "stdout",
     "output_type": "stream",
     "text": [
      "17809.828747071097\n"
     ]
    }
   ],
   "source": [
    "# Q12.3: Calculate the norm (magnitude) of the account balance column\n",
    "\n",
    "# We can cast to float to avoid integer overflow in intermediate operations for very large data (good practice).\n",
    "norm_acc = np.linalg.norm(acc_bal)\n",
    "print(norm_acc)"
   ]
  },
  {
   "cell_type": "code",
   "execution_count": 46,
   "id": "5e034c9b",
   "metadata": {},
   "outputs": [
    {
     "name": "stdout",
     "output_type": "stream",
     "text": [
      "-13.999999999999996\n"
     ]
    }
   ],
   "source": [
    "# Q12.4: Create a 3x3 matrix and calculate its determinant\n",
    "\n",
    "# The determinant is a scalar summarizing certain properties of a square matrix: \n",
    "# if det != 0 → matrix is invertible; det = 0 → singular (no inverse).\n",
    "matr = np.random.randint(0,10,(3,3))\n",
    "det_matr = np.linalg.det(matr)\n",
    "print(det_matr)"
   ]
  },
  {
   "cell_type": "code",
   "execution_count": 47,
   "id": "6bba743a",
   "metadata": {},
   "outputs": [
    {
     "name": "stdout",
     "output_type": "stream",
     "text": [
      "[[ 1.42857143 -0.92857143 -0.28571429]\n",
      " [ 1.28571429 -1.28571429  0.14285714]\n",
      " [-1.          1.          0.        ]]\n"
     ]
    }
   ],
   "source": [
    "# Q12.5: Calculate the inverse of the 3x3 matrix\n",
    "inv_matr = np.linalg.inv(matr)\n",
    "print(inv_matr)"
   ]
  },
  {
   "cell_type": "code",
   "execution_count": null,
   "id": "0bf4a607",
   "metadata": {},
   "outputs": [],
   "source": [
    "# NOTES to self:\n",
    "\n",
    "# Types & overflow: For dot/cross/norm on potentially large numbers, prefer working with floats \n",
    "# (astype(float)) to avoid integer overflow and get consistent floating outputs.\n",
    "\n",
    "# Cross product selection: When data rows have >3 components, explicitly pick the 3 components that are meaningful for the cross-product operation. \n",
    "# cross product on things like IDs is meaningless."
   ]
  },
  {
   "cell_type": "code",
   "execution_count": 49,
   "id": "2313c30f",
   "metadata": {},
   "outputs": [
    {
     "name": "stdout",
     "output_type": "stream",
     "text": [
      "['101' '102' '103' '104' '105' '106' '107' '108' '109' '110']\n"
     ]
    }
   ],
   "source": [
    "# (Customer_ID, Account_Balance, Credit_Score, Transaction_Count, Years_Active)\n",
    "# [[  101  5000   720    45     5]\n",
    "#  [  102  1500   680    20     2]\n",
    "#  [  103  2500   700    30     3]\n",
    "#  [  104  8000   750    60     8]\n",
    "#  [  105  3000   710    25     4]\n",
    "#  [  106 10000   780    80    10]\n",
    "#  [  107  1200   650    15     1]\n",
    "#  [  108  4000   730    40     6]\n",
    "#  [  109  3500   690    28     3]\n",
    "#  [  110  9000   770    75     9]]\n",
    "\n",
    "# Question 13: String Operations\n",
    "\n",
    "# Q13.1: Convert all customer IDs to strings\n",
    "cust_id_to_str = banking_data[:,0].astype(str)\n",
    "print(cust_id_to_str)"
   ]
  },
  {
   "cell_type": "code",
   "execution_count": null,
   "id": "ae2a4c88",
   "metadata": {},
   "outputs": [
    {
     "name": "stdout",
     "output_type": "stream",
     "text": [
      "True\n"
     ]
    }
   ],
   "source": [
    "# Q13.2: Check if any customer ID contains '100'\n",
    "contains100 = cust_id_to_str.__contains__('101')\n",
    "print(contains100)\n",
    "\n",
    "# Alternative\n",
    "# contains_100 = np.char.find(cust_id_to_str, '100') >= 0\n",
    "# print(contains_100)       # Boolean mask\n",
    "# print(np.any(contains_100))\n",
    "\n",
    "# np.char.find(arr, '100') → returns index of substring '100' or -1 if not found.\n",
    "# Comparing >= 0 gives us a boolean mask of which IDs contain '100'.\n",
    "# np.any() checks if at least one element is True.\n"
   ]
  },
  {
   "cell_type": "code",
   "execution_count": 56,
   "id": "598eab06",
   "metadata": {},
   "outputs": [
    {
     "name": "stdout",
     "output_type": "stream",
     "text": [
      "['101A' '102BC' '103DE' '104F' '105Z' 'H106' 'Y107' 'J108' 'K109' 'L110']\n"
     ]
    }
   ],
   "source": [
    "# Q13.3: Convert all customer IDs to uppercase (if they were strings)\n",
    "cust_id_to_str_2 = ['101a','102bc','103de','104f','105z','h106','y107','j108','k109','l110']\n",
    "upper_ids = np.char.upper(cust_id_to_str_2)\n",
    "print(upper_ids)"
   ]
  },
  {
   "cell_type": "code",
   "execution_count": 59,
   "id": "2bd61b11",
   "metadata": {},
   "outputs": [
    {
     "name": "stdout",
     "output_type": "stream",
     "text": [
      "101a -> 4 \n",
      "102bc -> 5 \n",
      "103de -> 5 \n",
      "104f -> 4 \n",
      "105z -> 4 \n",
      "h106 -> 4 \n",
      "y107 -> 4 \n",
      "j108 -> 4 \n",
      "k109 -> 4 \n",
      "l110 -> 4 \n"
     ]
    }
   ],
   "source": [
    "# Q13.4: Count the length of each customer ID string\n",
    "\n",
    "# cust_len = np.char.str_len(cust_id_to_str_2)\n",
    "# print(cust_len)\n",
    "\n",
    "for i in cust_id_to_str_2:\n",
    "    cust_len = np.char.str_len(i)\n",
    "    print(f\"{i} -> {cust_len} \")"
   ]
  },
  {
   "cell_type": "code",
   "execution_count": 61,
   "id": "46dd59f0",
   "metadata": {},
   "outputs": [
    {
     "name": "stdout",
     "output_type": "stream",
     "text": [
      "['CUST' '102bc' '103de' '104f' '105z' 'h106' 'y107' 'j108' 'k109' 'l110']\n"
     ]
    }
   ],
   "source": [
    "# Q13.5: Replace '100' with 'CUST' in customer IDs\n",
    "\n",
    "replace_id = np.char.replace(cust_id_to_str_2,'101a','CUST')\n",
    "print(replace_id)"
   ]
  },
  {
   "cell_type": "code",
   "execution_count": 62,
   "id": "0937aa70",
   "metadata": {},
   "outputs": [
    {
     "name": "stdout",
     "output_type": "stream",
     "text": [
      "[ 60  24  36  96  48 120  12  72  36 108]\n"
     ]
    }
   ],
   "source": [
    "# (Customer_ID, Account_Balance, Credit_Score, Transaction_Count, Years_Active)\n",
    "# [[  101  5000   720    45     5]\n",
    "#  [  102  1500   680    20     2]\n",
    "#  [  103  2500   700    30     3]\n",
    "#  [  104  8000   750    60     8]\n",
    "#  [  105  3000   710    25     4]\n",
    "#  [  106 10000   780    80    10]\n",
    "#  [  107  1200   650    15     1]\n",
    "#  [  108  4000   730    40     6]\n",
    "#  [  109  3500   690    28     3]\n",
    "#  [  110  9000   770    75     9]]\n",
    "\n",
    "# Question 14: Date and Time Operations\n",
    "\n",
    "# Q14.1: Convert years active to months\n",
    "years_active = banking_data[:,4]\n",
    "months_active = years_active * 12\n",
    "print(months_active)"
   ]
  },
  {
   "cell_type": "code",
   "execution_count": null,
   "id": "1ef48b40",
   "metadata": {},
   "outputs": [
    {
     "name": "stdout",
     "output_type": "stream",
     "text": [
      "5.1\n"
     ]
    }
   ],
   "source": [
    "# Q14.2: Calculate the average years active\n",
    "avg_years_active = np.average(years_active)\n",
    "\n",
    "# with mean\n",
    "avg_years_active2 = np.mean(years_active)\n",
    "print(avg_years_active2)"
   ]
  },
  {
   "cell_type": "code",
   "execution_count": 66,
   "id": "ff838cce",
   "metadata": {},
   "outputs": [
    {
     "name": "stdout",
     "output_type": "stream",
     "text": [
      "[104 106 108 110]\n"
     ]
    }
   ],
   "source": [
    "# Q14.3: Find customers who have been active for more than 5 years\n",
    "cust_active_grt_5_mask = years_active > 5\n",
    "cust_active_grt_5 = banking_data[cust_active_grt_5_mask,0]\n",
    "print(cust_active_grt_5)"
   ]
  },
  {
   "cell_type": "code",
   "execution_count": 68,
   "id": "b6b4fc99",
   "metadata": {},
   "outputs": [
    {
     "name": "stdout",
     "output_type": "stream",
     "text": [
      "51\n"
     ]
    }
   ],
   "source": [
    "# Q14.4: Calculate the total time all customers have been active (in years)\n",
    "total_cust = np.sum(years_active)\n",
    "print(total_cust)"
   ]
  },
  {
   "cell_type": "code",
   "execution_count": 70,
   "id": "41db01bb",
   "metadata": {},
   "outputs": [
    {
     "name": "stdout",
     "output_type": "stream",
     "text": [
      "7\n"
     ]
    }
   ],
   "source": [
    "# Q14.5: Find the customer with the shortest time active\n",
    "shortest_time_active_cust = years_active.argmin() + 1\n",
    "print(shortest_time_active_cust)"
   ]
  },
  {
   "cell_type": "code",
   "execution_count": 71,
   "id": "08e7463a",
   "metadata": {},
   "outputs": [
    {
     "name": "stdout",
     "output_type": "stream",
     "text": [
      "[ 5250.  1575.  2625.  8400.  3150. 10500.  1260.  4200.  3675.  9450.]\n"
     ]
    }
   ],
   "source": [
    "# (Customer_ID, Account_Balance, Credit_Score, Transaction_Count, Years_Active)\n",
    "# [[  101  5000   720    45     5]\n",
    "#  [  102  1500   680    20     2]\n",
    "#  [  103  2500   700    30     3]\n",
    "#  [  104  8000   750    60     8]\n",
    "#  [  105  3000   710    25     4]\n",
    "#  [  106 10000   780    80    10]\n",
    "#  [  107  1200   650    15     1]\n",
    "#  [  108  4000   730    40     6]\n",
    "#  [  109  3500   690    28     3]\n",
    "#  [  110  9000   770    75     9]]\n",
    "\n",
    "# Question 15: Advanced Array Operations\n",
    "# Q15.1: Apply a function to calculate 5% interest on all account balances\n",
    "\n",
    "# original + 0.05(5%) \n",
    "interest_balances = banking_data[:,1] * 1.05\n",
    "print(interest_balances)"
   ]
  },
  {
   "cell_type": "code",
   "execution_count": 72,
   "id": "6b2ad173",
   "metadata": {},
   "outputs": [
    {
     "name": "stdout",
     "output_type": "stream",
     "text": [
      "['MEDIUM' 'LOW' 'LOW' 'HIGH' 'LOW' 'HIGH' 'LOW' 'MEDIUM' 'LOW' 'HIGH']\n"
     ]
    }
   ],
   "source": [
    "# Q15.2: Use np.where to categorize customers by balance ranges\n",
    "bal_data = banking_data[:,1]\n",
    "categories = np.where(bal_data < 4000, \"LOW\",\n",
    "                      np.where(bal_data < 8000, \"MEDIUM\", \"HIGH\" ))\n",
    "print(categories)"
   ]
  },
  {
   "cell_type": "code",
   "execution_count": null,
   "id": "9f84c9dc",
   "metadata": {},
   "outputs": [
    {
     "name": "stdout",
     "output_type": "stream",
     "text": [
      "['GOOD' 'FAIR' 'GOOD' 'EXCELLENT' 'GOOD' 'EXCELLENT' 'POOR' 'GOOD' 'FAIR'\n",
      " 'EXCELLENT']\n"
     ]
    }
   ],
   "source": [
    "# Q15.3: Use np.select to categorize customers by credit score ranges\n",
    "credit_scores = banking_data[:,2]\n",
    "conditions = [\n",
    "    (credit_scores <660),\n",
    "    (credit_scores >= 660) & (credit_scores <700),\n",
    "    (credit_scores >= 700) & (credit_scores <750),\n",
    "    (credit_scores >= 750)\n",
    "]\n",
    "choices = [\"POOR\",\"FAIR\",\"GOOD\",\"EXCELLENT\"]\n",
    "score_categories = np.select(conditions,choices,default=\"UNKNOWN\")\n",
    "print(score_categories)\n",
    "\n",
    "# NOTE to self:\n",
    "# it was giving error if I didn't include  default=\"UNKNOWN\""
   ]
  },
  {
   "cell_type": "code",
   "execution_count": 77,
   "id": "c9fdbde8",
   "metadata": {},
   "outputs": [
    {
     "name": "stdout",
     "output_type": "stream",
     "text": [
      "[ 5200  1545  2575  8320  3090 10500  1236  4160  3605  9450]\n"
     ]
    }
   ],
   "source": [
    "# Q15.4: Use np.piecewise to apply different interest rates based on balance\n",
    "# np.piecewise applies different formulas based on conditions.\n",
    "\n",
    "rates = [0.03, 0.04, 0.05]\n",
    "conditions = [bal_data < 4000,\n",
    "              (bal_data >= 4000) & (bal_data <= 8000),\n",
    "              bal_data > 8000]\n",
    "\n",
    "interest_balances_piecewise = np.piecewise(bal_data, conditions,\n",
    "                                           [lambda x: x*1.03,\n",
    "                                            lambda x: x*1.04,\n",
    "                                            lambda x: x*1.05])\n",
    "print(interest_balances_piecewise)"
   ]
  },
  {
   "cell_type": "code",
   "execution_count": 79,
   "id": "ba21a982",
   "metadata": {},
   "outputs": [
    {
     "name": "stdout",
     "output_type": "stream",
     "text": [
      "[ 5871  2304  3336  8922  3844 10976  1973  4884  4330  9964]\n"
     ]
    }
   ],
   "source": [
    "# Q15.5: Use np.apply_along_axis to calculate the sum of each row\n",
    "# np.apply_along_axis applies np.sum across each row (axis=1).\n",
    "\n",
    "row_sums = np.apply_along_axis(np.sum, axis=1, arr=banking_data)\n",
    "print(row_sums)"
   ]
  },
  {
   "cell_type": "code",
   "execution_count": null,
   "id": "5e9f7d38",
   "metadata": {},
   "outputs": [],
   "source": [
    "# NOTES to self:\n",
    "# What if columns have different datatypes?(int,str)\n",
    "# Since you mixed int and str, everything becomes str (dtype <U11).\n",
    "# Then np.sum will try to \"add\" strings → which actually concatenates them, not numeric sum.\n",
    "# That’s why mixing dtypes in NumPy arrays is dangerous.\n",
    "\n",
    "# If you want true row-wise sums with mixed dtypes, you should use Pandas DataFrame, \n",
    "# which can handle mixed types better."
   ]
  },
  {
   "cell_type": "code",
   "execution_count": 81,
   "id": "be20cf9b",
   "metadata": {},
   "outputs": [
    {
     "name": "stdout",
     "output_type": "stream",
     "text": [
      "(10, 6)\n",
      "[[  101  5000   720    45     5     5]\n",
      " [  102  1500   680    20     2     2]\n",
      " [  103  2500   700    30     3     3]\n",
      " [  104  8000   750    60     8     8]\n",
      " [  105  3000   710    25     4     4]\n",
      " [  106 10000   780    80    10    10]\n",
      " [  107  1200   650    15     1     1]\n",
      " [  108  4000   730    40     6     6]\n",
      " [  109  3500   690    28     3     3]\n",
      " [  110  9000   770    75     9     9]]\n"
     ]
    }
   ],
   "source": [
    "# (Customer_ID, Account_Balance, Credit_Score, Transaction_Count, Years_Active)\n",
    "# [[  101  5000   720    45     5]\n",
    "#  [  102  1500   680    20     2]\n",
    "#  [  103  2500   700    30     3]\n",
    "#  [  104  8000   750    60     8]\n",
    "#  [  105  3000   710    25     4]\n",
    "#  [  106 10000   780    80    10]\n",
    "#  [  107  1200   650    15     1]\n",
    "#  [  108  4000   730    40     6]\n",
    "#  [  109  3500   690    28     3]\n",
    "#  [  110  9000   770    75     9]]\n",
    "\n",
    "# Question 16: Array Concatenation and Stacking\n",
    "# Q16.1: Concatenate two arrays horizontally using np.hstack()\n",
    "\n",
    "# reshape(-1, 1) -> -1 → NumPy automatically figures out the correct number of rows based on total size.\n",
    "# (Here total elements = 3, so -1 becomes 3).\n",
    "# 1 → means we want 1 column.\n",
    "\n",
    "extra_col = banking_data[:,-1].reshape(-1,1)\n",
    "result_h = np.hstack((banking_data, extra_col))\n",
    "print(result_h.shape) \n",
    "print(result_h)"
   ]
  },
  {
   "cell_type": "code",
   "execution_count": null,
   "id": "3acd323f",
   "metadata": {},
   "outputs": [],
   "source": [
    "# NOTES to self:\n",
    "# Horizontal stack (hstack) → add columns side by side (like expanding width).\n",
    "# Vertical stack (vstack) → add rows one below another (like expanding height)."
   ]
  },
  {
   "cell_type": "code",
   "execution_count": 82,
   "id": "7b7e12bf",
   "metadata": {},
   "outputs": [
    {
     "name": "stdout",
     "output_type": "stream",
     "text": [
      "(20, 5)\n",
      "[[  101  5000   720    45     5]\n",
      " [  102  1500   680    20     2]\n",
      " [  103  2500   700    30     3]\n",
      " [  104  8000   750    60     8]\n",
      " [  105  3000   710    25     4]\n",
      " [  106 10000   780    80    10]\n",
      " [  107  1200   650    15     1]\n",
      " [  108  4000   730    40     6]\n",
      " [  109  3500   690    28     3]\n",
      " [  110  9000   770    75     9]\n",
      " [  101  5000   720    45     5]\n",
      " [  102  1500   680    20     2]\n",
      " [  103  2500   700    30     3]\n",
      " [  104  8000   750    60     8]\n",
      " [  105  3000   710    25     4]\n",
      " [  106 10000   780    80    10]\n",
      " [  107  1200   650    15     1]\n",
      " [  108  4000   730    40     6]\n",
      " [  109  3500   690    28     3]\n",
      " [  110  9000   770    75     9]]\n"
     ]
    }
   ],
   "source": [
    "# Q16.2: Concatenate two arrays vertically using np.vstack()\n",
    "result_v = np.vstack((banking_data, banking_data))\n",
    "print(result_v.shape) \n",
    "print(result_v)"
   ]
  },
  {
   "cell_type": "code",
   "execution_count": 83,
   "id": "fd0485ee",
   "metadata": {},
   "outputs": [
    {
     "name": "stdout",
     "output_type": "stream",
     "text": [
      "(20, 5)\n",
      "(10, 6)\n"
     ]
    }
   ],
   "source": [
    "# Q16.3: Concatenate arrays along a specific axis using np.concatenate()\n",
    "# This is a generalized version of hstack/vstack.\n",
    "# Along axis=0 → stack rows (like vstack)\n",
    "# Along axis=1 → stack columns (like hstack)\n",
    "\n",
    "# axis=0 (row-wise)\n",
    "concat_row = np.concatenate((banking_data, banking_data), axis=0)\n",
    "print(concat_row.shape) \n",
    "\n",
    "# axis=1 (col-wise)\n",
    "concat_col = np.concatenate((banking_data, extra_col), axis=1)\n",
    "print(concat_col.shape)"
   ]
  },
  {
   "cell_type": "code",
   "execution_count": 87,
   "id": "83268632",
   "metadata": {},
   "outputs": [
    {
     "name": "stdout",
     "output_type": "stream",
     "text": [
      "(10, 5, 2)\n"
     ]
    }
   ],
   "source": [
    "# Q16.4: Stack arrays depth-wise using np.dstack()\n",
    "result_d = np.dstack((banking_data, banking_data))\n",
    "print(result_d.shape)\n",
    "\n",
    "# Diffn example to understand\n",
    "# A = np.array([[1,2,3],[4,5,6]])   # shape (2,3)\n",
    "# B = np.array([[7,8,9],[10,11,12]])# shape (2,3)\n",
    "\n",
    "# S = np.dstack((A, B))\n",
    "# print(S.shape)      # (2, 3, 2)\n",
    "# print(S[:,:,0])     # A\n",
    "# print(S[:,:,1])     # B\n",
    "# print(S[0,1,:])     # [2, 8]"
   ]
  },
  {
   "cell_type": "code",
   "execution_count": null,
   "id": "e376b026",
   "metadata": {},
   "outputs": [
    {
     "name": "stdout",
     "output_type": "stream",
     "text": [
      "(10, 6)\n",
      "[[  101  5000   720    45     5     5]\n",
      " [  102  1500   680    20     2     2]\n",
      " [  103  2500   700    30     3     3]\n",
      " [  104  8000   750    60     8     8]\n",
      " [  105  3000   710    25     4     4]\n",
      " [  106 10000   780    80    10    10]\n",
      " [  107  1200   650    15     1     1]\n",
      " [  108  4000   730    40     6     6]\n",
      " [  109  3500   690    28     3     3]\n",
      " [  110  9000   770    75     9     9]]\n"
     ]
    }
   ],
   "source": [
    "# Q16.5: Create a column stack using np.column_stack()\n",
    "\n",
    "years = banking_data[:, -1]       # shape (10,) → 1D\n",
    "result_c = np.column_stack((banking_data, years))\n",
    "print(result_c.shape)\n",
    "print(result_c)\n",
    "\n",
    "# This is like hstack, but works even with 1D arrays (auto converts them into columns).\n",
    "# hstack requires reshaping 1D arrays, but column_stack does it automatically."
   ]
  },
  {
   "cell_type": "code",
   "execution_count": 90,
   "id": "24a19edc",
   "metadata": {},
   "outputs": [
    {
     "ename": "ValueError",
     "evalue": "array split does not result in an equal division",
     "output_type": "error",
     "traceback": [
      "\u001b[31m---------------------------------------------------------------------------\u001b[39m",
      "\u001b[31mValueError\u001b[39m                                Traceback (most recent call last)",
      "\u001b[36mCell\u001b[39m\u001b[36m \u001b[39m\u001b[32mIn[90]\u001b[39m\u001b[32m, line 16\u001b[39m\n\u001b[32m      1\u001b[39m \u001b[38;5;66;03m# (Customer_ID, Account_Balance, Credit_Score, Transaction_Count, Years_Active)\u001b[39;00m\n\u001b[32m      2\u001b[39m \u001b[38;5;66;03m# [[  101  5000   720    45     5]\u001b[39;00m\n\u001b[32m      3\u001b[39m \u001b[38;5;66;03m#  [  102  1500   680    20     2]\u001b[39;00m\n\u001b[32m   (...)\u001b[39m\u001b[32m     13\u001b[39m \u001b[38;5;66;03m# Question 17: Array Splitting Operations\u001b[39;00m\n\u001b[32m     14\u001b[39m \u001b[38;5;66;03m# Q17.1: Split an array into 3 equal parts using np.split()\u001b[39;00m\n\u001b[32m---> \u001b[39m\u001b[32m16\u001b[39m three_parts = \u001b[43mnp\u001b[49m\u001b[43m.\u001b[49m\u001b[43msplit\u001b[49m\u001b[43m(\u001b[49m\u001b[43mbanking_data\u001b[49m\u001b[43m,\u001b[49m\u001b[32;43m3\u001b[39;49m\u001b[43m)\u001b[49m\n\u001b[32m     17\u001b[39m \u001b[38;5;28mprint\u001b[39m(three_parts)\n",
      "\u001b[36mFile \u001b[39m\u001b[32mc:\\Users\\udite\\AppData\\Local\\Programs\\Python\\Python313\\Lib\\site-packages\\numpy\\lib\\_shape_base_impl.py:884\u001b[39m, in \u001b[36msplit\u001b[39m\u001b[34m(ary, indices_or_sections, axis)\u001b[39m\n\u001b[32m    882\u001b[39m     N = ary.shape[axis]\n\u001b[32m    883\u001b[39m     \u001b[38;5;28;01mif\u001b[39;00m N % sections:\n\u001b[32m--> \u001b[39m\u001b[32m884\u001b[39m         \u001b[38;5;28;01mraise\u001b[39;00m \u001b[38;5;167;01mValueError\u001b[39;00m(\n\u001b[32m    885\u001b[39m             \u001b[33m'\u001b[39m\u001b[33marray split does not result in an equal division\u001b[39m\u001b[33m'\u001b[39m) \u001b[38;5;28;01mfrom\u001b[39;00m\u001b[38;5;250m \u001b[39m\u001b[38;5;28;01mNone\u001b[39;00m\n\u001b[32m    886\u001b[39m \u001b[38;5;28;01mreturn\u001b[39;00m array_split(ary, indices_or_sections, axis)\n",
      "\u001b[31mValueError\u001b[39m: array split does not result in an equal division"
     ]
    }
   ],
   "source": [
    "# (Customer_ID, Account_Balance, Credit_Score, Transaction_Count, Years_Active)\n",
    "# [[  101  5000   720    45     5]\n",
    "#  [  102  1500   680    20     2]\n",
    "#  [  103  2500   700    30     3]\n",
    "#  [  104  8000   750    60     8]\n",
    "#  [  105  3000   710    25     4]\n",
    "#  [  106 10000   780    80    10]\n",
    "#  [  107  1200   650    15     1]\n",
    "#  [  108  4000   730    40     6]\n",
    "#  [  109  3500   690    28     3]\n",
    "#  [  110  9000   770    75     9]]\n",
    "\n",
    "# Question 17: Array Splitting Operations\n",
    "# Q17.1: Split an array into 3 equal parts using np.split()\n",
    "\n",
    "three_parts = np.split(banking_data,3)\n",
    "print(three_parts)"
   ]
  },
  {
   "cell_type": "code",
   "execution_count": 92,
   "id": "a1979f44",
   "metadata": {},
   "outputs": [
    {
     "name": "stdout",
     "output_type": "stream",
     "text": [
      "[array([[ 101, 5000,  720,   45,    5],\n",
      "       [ 102, 1500,  680,   20,    2],\n",
      "       [ 103, 2500,  700,   30,    3],\n",
      "       [ 104, 8000,  750,   60,    8]]), array([[  105,  3000,   710,    25,     4],\n",
      "       [  106, 10000,   780,    80,    10],\n",
      "       [  107,  1200,   650,    15,     1]]), array([[ 108, 4000,  730,   40,    6],\n",
      "       [ 109, 3500,  690,   28,    3],\n",
      "       [ 110, 9000,  770,   75,    9]])]\n"
     ]
    }
   ],
   "source": [
    "# np.split strictly splits in equal parts so error\n",
    "\n",
    "# ALternative\n",
    "\n",
    "three_parts2 = np.array_split(banking_data,3)\n",
    "print(three_parts2)"
   ]
  },
  {
   "cell_type": "code",
   "execution_count": null,
   "id": "497bc07e",
   "metadata": {},
   "outputs": [
    {
     "name": "stdout",
     "output_type": "stream",
     "text": [
      "Part 1:\n",
      "[[ 101 5000  720   45    5]\n",
      " [ 102 1500  680   20    2]\n",
      " [ 103 2500  700   30    3]]\n",
      "\n",
      "Part 2:\n",
      "[[  104  8000   750    60     8]\n",
      " [  105  3000   710    25     4]\n",
      " [  106 10000   780    80    10]\n",
      " [  107  1200   650    15     1]]\n",
      "\n",
      "Part 3:\n",
      "[[ 108 4000  730   40    6]\n",
      " [ 109 3500  690   28    3]\n",
      " [ 110 9000  770   75    9]]\n",
      "\n"
     ]
    }
   ],
   "source": [
    "# Q17.2: Split an array at specific indices using np.split()\n",
    "parts = np.split(banking_data,[3,7])\n",
    "#print(parts)\n",
    "\n",
    "for i, p in enumerate(parts, 1):\n",
    "    print(f\"Part {i}:\\n{p}\\n\")\n",
    "\n",
    "# enumerate() loops through an iterable (like list, tuple, np.array) while keeping track of the index\n",
    "# By default, it starts counting from 0, but you can override it with a start value.\n",
    "\n"
   ]
  },
  {
   "cell_type": "code",
   "execution_count": 96,
   "id": "49d8c121",
   "metadata": {},
   "outputs": [
    {
     "name": "stdout",
     "output_type": "stream",
     "text": [
      "first:\n",
      " [[  101  5000]\n",
      " [  102  1500]\n",
      " [  103  2500]\n",
      " [  104  8000]\n",
      " [  105  3000]\n",
      " [  106 10000]\n",
      " [  107  1200]\n",
      " [  108  4000]\n",
      " [  109  3500]\n",
      " [  110  9000]]\n",
      "second:\n",
      " [[720  45   5]\n",
      " [680  20   2]\n",
      " [700  30   3]\n",
      " [750  60   8]\n",
      " [710  25   4]\n",
      " [780  80  10]\n",
      " [650  15   1]\n",
      " [730  40   6]\n",
      " [690  28   3]\n",
      " [770  75   9]]\n"
     ]
    }
   ],
   "source": [
    "# Q17.3: Split an array horizontally using np.hsplit()\n",
    "# This means split columns.\n",
    "\n",
    "parts = np.hsplit(banking_data, [2])\n",
    "print(\"first:\\n\", parts[0])\n",
    "print(\"second:\\n\", parts[1])"
   ]
  },
  {
   "cell_type": "code",
   "execution_count": 97,
   "id": "fa373ac5",
   "metadata": {},
   "outputs": [
    {
     "name": "stdout",
     "output_type": "stream",
     "text": [
      "Top Half:\n",
      " [[ 101 5000  720   45    5]\n",
      " [ 102 1500  680   20    2]\n",
      " [ 103 2500  700   30    3]\n",
      " [ 104 8000  750   60    8]\n",
      " [ 105 3000  710   25    4]]\n",
      "\n",
      "Bottom Half:\n",
      " [[  106 10000   780    80    10]\n",
      " [  107  1200   650    15     1]\n",
      " [  108  4000   730    40     6]\n",
      " [  109  3500   690    28     3]\n",
      " [  110  9000   770    75     9]]\n"
     ]
    }
   ],
   "source": [
    "# Q17.4: Split an array vertically using np.vsplit()\n",
    "top,bottom = np.vsplit(banking_data,[5])\n",
    "print(\"Top Half:\\n\", top)\n",
    "print(\"\\nBottom Half:\\n\", bottom)"
   ]
  },
  {
   "cell_type": "code",
   "execution_count": 98,
   "id": "893a8533",
   "metadata": {},
   "outputs": [
    {
     "name": "stdout",
     "output_type": "stream",
     "text": [
      "Chunk 1:\n",
      "[[ 101 5000  720   45    5]\n",
      " [ 102 1500  680   20    2]\n",
      " [ 103 2500  700   30    3]\n",
      " [ 104 8000  750   60    8]]\n",
      "\n",
      "Chunk 2:\n",
      "[[  105  3000   710    25     4]\n",
      " [  106 10000   780    80    10]\n",
      " [  107  1200   650    15     1]]\n",
      "\n",
      "Chunk 3:\n",
      "[[ 108 4000  730   40    6]\n",
      " [ 109 3500  690   28    3]\n",
      " [ 110 9000  770   75    9]]\n",
      "\n"
     ]
    }
   ],
   "source": [
    "# Q17.5: Split an array into equal chunks using np.array_split()\n",
    "\n",
    "parts = np.array_split(banking_data, 3)\n",
    "for i, p in enumerate(parts, 1):\n",
    "    print(f\"Chunk {i}:\\n{p}\\n\")"
   ]
  },
  {
   "cell_type": "code",
   "execution_count": 99,
   "id": "0b2997cc",
   "metadata": {},
   "outputs": [
    {
     "name": "stdout",
     "output_type": "stream",
     "text": [
      "Repeated elements of first row:\n",
      " [  101   101   101  5000  5000  5000   720   720   720    45    45    45\n",
      "     5     5     5   102   102   102  1500  1500  1500   680   680   680\n",
      "    20    20    20     2     2     2   103   103   103  2500  2500  2500\n",
      "   700   700   700    30    30    30     3     3     3   104   104   104\n",
      "  8000  8000  8000   750   750   750    60    60    60     8     8     8\n",
      "   105   105   105  3000  3000  3000   710   710   710    25    25    25\n",
      "     4     4     4   106   106   106 10000 10000 10000   780   780   780\n",
      "    80    80    80    10    10    10   107   107   107  1200  1200  1200\n",
      "   650   650   650    15    15    15     1     1     1   108   108   108\n",
      "  4000  4000  4000   730   730   730    40    40    40     6     6     6\n",
      "   109   109   109  3500  3500  3500   690   690   690    28    28    28\n",
      "     3     3     3   110   110   110  9000  9000  9000   770   770   770\n",
      "    75    75    75     9     9     9]\n"
     ]
    }
   ],
   "source": [
    "# (Customer_ID, Account_Balance, Credit_Score, Transaction_Count, Years_Active)\n",
    "# [[  101  5000   720    45     5]\n",
    "#  [  102  1500   680    20     2]\n",
    "#  [  103  2500   700    30     3]\n",
    "#  [  104  8000   750    60     8]\n",
    "#  [  105  3000   710    25     4]\n",
    "#  [  106 10000   780    80    10]\n",
    "#  [  107  1200   650    15     1]\n",
    "#  [  108  4000   730    40     6]\n",
    "#  [  109  3500   690    28     3]\n",
    "#  [  110  9000   770    75     9]]\n",
    "\n",
    "# Question 18: Array Repetition and Tiling\n",
    "# Q18.1: Repeat each element of an array 3 times using np.repeat()\n",
    "result = np.repeat(banking_data, 3)   \n",
    "print(\"Repeated elements of first row:\\n\", result)"
   ]
  },
  {
   "cell_type": "code",
   "execution_count": null,
   "id": "f4fb8d6e",
   "metadata": {},
   "outputs": [
    {
     "name": "stdout",
     "output_type": "stream",
     "text": [
      "Dataset repeated 2 times (row-wise):\n",
      " [[  101  5000   720    45     5]\n",
      " [  102  1500   680    20     2]\n",
      " [  103  2500   700    30     3]\n",
      " [  104  8000   750    60     8]\n",
      " [  105  3000   710    25     4]\n",
      " [  106 10000   780    80    10]\n",
      " [  107  1200   650    15     1]\n",
      " [  108  4000   730    40     6]\n",
      " [  109  3500   690    28     3]\n",
      " [  110  9000   770    75     9]\n",
      " [  101  5000   720    45     5]\n",
      " [  102  1500   680    20     2]\n",
      " [  103  2500   700    30     3]\n",
      " [  104  8000   750    60     8]\n",
      " [  105  3000   710    25     4]\n",
      " [  106 10000   780    80    10]\n",
      " [  107  1200   650    15     1]\n",
      " [  108  4000   730    40     6]\n",
      " [  109  3500   690    28     3]\n",
      " [  110  9000   770    75     9]]\n"
     ]
    }
   ],
   "source": [
    "# Q18.2: Repeat an entire array 2 times using np.tile()\n",
    "result = np.tile(banking_data,(2,1))\n",
    "print(\"Dataset repeated 2 times (row-wise):\\n\", result)\n",
    "\n",
    "# np.tile(A, reps)\n",
    "# A → input array\n",
    "# reps → number of repetitions for each axis\n",
    "# If reps is a single integer, it repeats along the last axis (columns).\n",
    "# If reps is a tuple (m, n):\n",
    "# m → repeat along rows (vertical stacking, downwards)\n",
    "# n → repeat along columns (horizontal stacking, side by side)"
   ]
  },
  {
   "cell_type": "code",
   "execution_count": 103,
   "id": "50d9d304",
   "metadata": {},
   "outputs": [
    {
     "name": "stdout",
     "output_type": "stream",
     "text": [
      "Dataset repeated 2 times:\n",
      " [[  101  5000   720    45     5   101  5000   720    45     5]\n",
      " [  102  1500   680    20     2   102  1500   680    20     2]\n",
      " [  103  2500   700    30     3   103  2500   700    30     3]\n",
      " [  104  8000   750    60     8   104  8000   750    60     8]\n",
      " [  105  3000   710    25     4   105  3000   710    25     4]\n",
      " [  106 10000   780    80    10   106 10000   780    80    10]\n",
      " [  107  1200   650    15     1   107  1200   650    15     1]\n",
      " [  108  4000   730    40     6   108  4000   730    40     6]\n",
      " [  109  3500   690    28     3   109  3500   690    28     3]\n",
      " [  110  9000   770    75     9   110  9000   770    75     9]]\n"
     ]
    }
   ],
   "source": [
    "# Q18.3: Repeat a 2D array using np.tile()\n",
    "result = np.tile(banking_data,2)\n",
    "print(\"Dataset repeated 2 times:\\n\", result)"
   ]
  },
  {
   "cell_type": "code",
   "execution_count": 104,
   "id": "37a6ba4f",
   "metadata": {},
   "outputs": [
    {
     "name": "stdout",
     "output_type": "stream",
     "text": [
      "Pattern of Customer IDs:\n",
      " [101 102 103 101 102 103 101 102 103 101 102 103]\n"
     ]
    }
   ],
   "source": [
    "# Q18.4: Create a pattern using np.tile()\n",
    "\n",
    "# repeat first 3 customer IDs, 4 times\n",
    "pattern = np.tile(banking_data[:3, 0], 4)   \n",
    "print(\"Pattern of Customer IDs:\\n\", pattern)"
   ]
  },
  {
   "cell_type": "code",
   "execution_count": 105,
   "id": "a1c33369",
   "metadata": {},
   "outputs": [
    {
     "name": "stdout",
     "output_type": "stream",
     "text": [
      "Customer IDs repeated differently:\n",
      " [101 102 102 103 103 103 104 104 104 104 105 105 105 105 105]\n"
     ]
    }
   ],
   "source": [
    "# Q18.5: Repeat elements with different counts using np.repeat()\n",
    "ids = banking_data[:5, 0]   # first 5 customer IDs\n",
    "counts = [1, 2, 3, 4, 5]  # repeat times\n",
    "result = np.repeat(ids, counts)\n",
    "print(\"Customer IDs repeated differently:\\n\", result)"
   ]
  },
  {
   "cell_type": "code",
   "execution_count": null,
   "id": "38245374",
   "metadata": {},
   "outputs": [
    {
     "name": "stdout",
     "output_type": "stream",
     "text": [
      "a vs b: True\n",
      "a vs c: False\n"
     ]
    }
   ],
   "source": [
    "# (Customer_ID, Account_Balance, Credit_Score, Transaction_Count, Years_Active)\n",
    "# [[  101  5000   720    45     5]\n",
    "#  [  102  1500   680    20     2]\n",
    "#  [  103  2500   700    30     3]\n",
    "#  [  104  8000   750    60     8]\n",
    "#  [  105  3000   710    25     4]\n",
    "#  [  106 10000   780    80    10]\n",
    "#  [  107  1200   650    15     1]\n",
    "#  [  108  4000   730    40     6]\n",
    "#  [  109  3500   690    28     3]\n",
    "#  [  110  9000   770    75     9]]\n",
    "\n",
    "# Question 19: Array Comparison and Logical Operations\n",
    "# Q19.1: Compare two arrays for equality using np.array_equal()\n",
    "a = np.array([1, 2, 3])\n",
    "b = np.array([1, 2, 3])\n",
    "c = np.array([1, 2, 4])\n",
    "\n",
    "print(\"a vs b:\", np.array_equal(a, b)) \n",
    "print(\"a vs c:\", np.array_equal(a, c)) \n",
    "\n",
    "# Returns True if arrays have the same shape and same elements."
   ]
  },
  {
   "cell_type": "code",
   "execution_count": 111,
   "id": "20a834a1",
   "metadata": {},
   "outputs": [
    {
     "name": "stdout",
     "output_type": "stream",
     "text": [
      "Are x and y close? ->  True\n"
     ]
    }
   ],
   "source": [
    "# Q19.2: Check if arrays are close using np.allclose()\n",
    "# Returns True if arrays are element-wise equal within a tolerance (good for floating point comparison).\n",
    "\n",
    "x = np.array([1.0, 2.0, 3.000001])\n",
    "y = np.array([1.0, 2.0, 3.0])\n",
    "\n",
    "print(\"Are x and y close? -> \", np.allclose(x, y))"
   ]
  },
  {
   "cell_type": "code",
   "execution_count": 112,
   "id": "5569438c",
   "metadata": {},
   "outputs": [
    {
     "name": "stdout",
     "output_type": "stream",
     "text": [
      "[ True False False]\n"
     ]
    }
   ],
   "source": [
    "# Q19.3: Apply logical AND operation between arrays\n",
    "\n",
    "# np.logical_and(arr1, arr2) → Performs element-wise AND.\n",
    "# Works like: True if both elements are non-zero (or True).\n",
    "p = np.array([True, False, True])\n",
    "q = np.array([True, True, False])\n",
    "\n",
    "print(np.logical_and(p, q))"
   ]
  },
  {
   "cell_type": "code",
   "execution_count": null,
   "id": "d359a4de",
   "metadata": {},
   "outputs": [
    {
     "name": "stdout",
     "output_type": "stream",
     "text": [
      "[ True  True  True]\n"
     ]
    }
   ],
   "source": [
    "# Q19.4: Apply logical OR operation between arrays\n",
    "\n",
    "# np.logical_or(arr1, arr2) → Performs element-wise OR.\n",
    "# Works like: True if at least one is non-zero (or True).\n",
    "print(np.logical_or(p, q))"
   ]
  },
  {
   "cell_type": "code",
   "execution_count": 114,
   "id": "b5385930",
   "metadata": {},
   "outputs": [
    {
     "name": "stdout",
     "output_type": "stream",
     "text": [
      "[False  True False]\n"
     ]
    }
   ],
   "source": [
    "# Q19.5: Apply logical NOT operation to an array\n",
    "\n",
    "# np.logical_not(arr) → Inverts truth values.\n",
    "# For numbers: 0 → True, nonzero → False.\n",
    "print(np.logical_not(p, q))"
   ]
  },
  {
   "cell_type": "code",
   "execution_count": 124,
   "id": "9096a14d",
   "metadata": {},
   "outputs": [
    {
     "name": "stdout",
     "output_type": "stream",
     "text": [
      "[1 2 3 4 5 6]\n"
     ]
    }
   ],
   "source": [
    "# Question 20: Array Set Operations\n",
    "# Q20.1: Find unique elements in an array using np.unique()\n",
    "\n",
    "a = np.array([6, 1,2,2,2, 3, 4, 5, 6,6])\n",
    "unique_a = np.unique(a)\n",
    "print(unique_a)"
   ]
  },
  {
   "cell_type": "code",
   "execution_count": 125,
   "id": "9c8cd6b7",
   "metadata": {},
   "outputs": [
    {
     "name": "stdout",
     "output_type": "stream",
     "text": [
      "[2 3 4 5 6]\n"
     ]
    }
   ],
   "source": [
    "# Q20.2: Find the intersection of two arrays using np.intersect1d()\n",
    "b = np.array([2,3,4, 5, 6,6, 7, 8, 9])\n",
    "intersection = np.intersect1d(a,b)\n",
    "print(intersection)"
   ]
  },
  {
   "cell_type": "code",
   "execution_count": 126,
   "id": "3a08dfa6",
   "metadata": {},
   "outputs": [
    {
     "name": "stdout",
     "output_type": "stream",
     "text": [
      "Union: [1 2 3 4 5 6 7 8 9]\n"
     ]
    }
   ],
   "source": [
    "# Q20.3: Find the union of two arrays using np.union1d()\n",
    "#Combination of both arrays, without duplicates.\n",
    "union = np.union1d(a, b)\n",
    "print(\"Union:\", union)"
   ]
  },
  {
   "cell_type": "code",
   "execution_count": 127,
   "id": "faca2844",
   "metadata": {},
   "outputs": [
    {
     "name": "stdout",
     "output_type": "stream",
     "text": [
      "Elements in a but not in b: [1]\n"
     ]
    }
   ],
   "source": [
    "# Q20.4: Find elements in first array but not in second using np.setdiff1d()\n",
    "# np.setdiff1d(a, b) → returns elements in a that are not in b.\n",
    "diff = np.setdiff1d(a, b)\n",
    "print(\"Elements in a but not in b:\", diff)"
   ]
  },
  {
   "cell_type": "code",
   "execution_count": null,
   "id": "96dcb319",
   "metadata": {},
   "outputs": [
    {
     "name": "stdout",
     "output_type": "stream",
     "text": [
      "Symmetric Difference: [1 7 8 9]\n"
     ]
    }
   ],
   "source": [
    "# Q20.5: Find the symmetric difference between two arrays using np.setxor1d()\n",
    "\n",
    "# np.setxor1d(a, b) → returns elements present in either a or b but not both\n",
    "# Keeps non-common elements only.\n",
    "sym_diff = np.setxor1d(a, b)\n",
    "print(\"Symmetric Difference:\", sym_diff)"
   ]
  }
 ],
 "metadata": {
  "kernelspec": {
   "display_name": "Python 3",
   "language": "python",
   "name": "python3"
  },
  "language_info": {
   "codemirror_mode": {
    "name": "ipython",
    "version": 3
   },
   "file_extension": ".py",
   "mimetype": "text/x-python",
   "name": "python",
   "nbconvert_exporter": "python",
   "pygments_lexer": "ipython3",
   "version": "3.13.2"
  }
 },
 "nbformat": 4,
 "nbformat_minor": 5
}
