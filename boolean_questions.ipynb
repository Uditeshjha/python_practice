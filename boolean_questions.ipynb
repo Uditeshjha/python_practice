{
 "cells": [
  {
   "cell_type": "code",
   "execution_count": 9,
   "id": "627b0f17",
   "metadata": {},
   "outputs": [
    {
     "name": "stdout",
     "output_type": "stream",
     "text": [
      "Question 1: Check if 25 is greater than 20 and less than 30\n",
      "True\n"
     ]
    }
   ],
   "source": [
    "# Question 1: Check if 25 is greater than 20 and less than 30\n",
    "print(\"Question 1: Check if 25 is greater than 20 and less than 30\")\n",
    "\n",
    "check_01 = 25 > 20 and 25 < 30\n",
    "print(check_01)"
   ]
  },
  {
   "cell_type": "code",
   "execution_count": 3,
   "id": "115854aa",
   "metadata": {},
   "outputs": [
    {
     "name": "stdout",
     "output_type": "stream",
     "text": [
      "\n",
      "Question 2: Check if string 'python' is equal to 'Python' (case sensitive)\n",
      "False\n"
     ]
    }
   ],
   "source": [
    "# Question 2: Check if string \"python\" is equal to \"Python\" (case sensitive)\n",
    "print(\"\\nQuestion 2: Check if string 'python' is equal to 'Python' (case sensitive)\")\n",
    "\n",
    "check_02 = 'python' == 'Python'\n",
    "print(check_02)"
   ]
  },
  {
   "cell_type": "code",
   "execution_count": 6,
   "id": "b79b5a7a",
   "metadata": {},
   "outputs": [
    {
     "name": "stdout",
     "output_type": "stream",
     "text": [
      "\n",
      "Question 3: Check if 15 is divisible by both 3 and 5\n",
      "True\n"
     ]
    }
   ],
   "source": [
    "# Question 3: Check if 15 is divisible by both 3 and 5\n",
    "print(\"\\nQuestion 3: Check if 15 is divisible by both 3 and 5\")\n",
    "\n",
    "check_03 = (15 % 3 == 0) and ( 15 % 5 == 0)\n",
    "print(check_03)"
   ]
  },
  {
   "cell_type": "code",
   "execution_count": 10,
   "id": "25e9c6a5",
   "metadata": {},
   "outputs": [
    {
     "name": "stdout",
     "output_type": "stream",
     "text": [
      "\n",
      "Question 4: Check if 7 is not equal to 8\n",
      "True\n"
     ]
    }
   ],
   "source": [
    "# Question 4: Check if 7 is not equal to 8\n",
    "print(\"\\nQuestion 4: Check if 7 is not equal to 8\")\n",
    "\n",
    "check_04 = 7 != 8\n",
    "print(check_04)"
   ]
  },
  {
   "cell_type": "code",
   "execution_count": 12,
   "id": "6f118e85",
   "metadata": {},
   "outputs": [
    {
     "name": "stdout",
     "output_type": "stream",
     "text": [
      "\n",
      "Question 5: Check if 100 is greater than 50 or less than 25\n",
      "True\n"
     ]
    }
   ],
   "source": [
    "# Question 5: Check if 100 is greater than 50 or less than 25\n",
    "print(\"\\nQuestion 5: Check if 100 is greater than 50 or less than 25\")\n",
    "\n",
    "check_05 = (100 > 50) or (100 < 25)\n",
    "print(check_05)"
   ]
  },
  {
   "cell_type": "code",
   "execution_count": null,
   "id": "e744ae67",
   "metadata": {},
   "outputs": [
    {
     "name": "stdout",
     "output_type": "stream",
     "text": [
      "\n",
      "Question 6: Check if 0 is falsy in Python\n",
      "False\n"
     ]
    }
   ],
   "source": [
    "# Question 6: Check if 0 is falsy in Python\n",
    "\n",
    "# Any object that is empty, zero, or explicitly False is falsy.\n",
    "# Everything else is truthy.\n",
    "print(\"\\nQuestion 6: Check if 0 is falsy in Python\")\n",
    "print(bool(0))"
   ]
  },
  {
   "cell_type": "code",
   "execution_count": 14,
   "id": "004a97ae",
   "metadata": {},
   "outputs": [
    {
     "name": "stdout",
     "output_type": "stream",
     "text": [
      "\n",
      "Question 7: Check if empty string '' is falsy in Python\n",
      "False\n"
     ]
    }
   ],
   "source": [
    "# Question 7: Check if empty string \"\" is falsy in Python\n",
    "print(\"\\nQuestion 7: Check if empty string '' is falsy in Python\")\n",
    "print(bool(''))"
   ]
  },
  {
   "cell_type": "code",
   "execution_count": 15,
   "id": "84033587",
   "metadata": {},
   "outputs": [
    {
     "name": "stdout",
     "output_type": "stream",
     "text": [
      "\n",
      "Question 8: Check if 42 is truthy in Python\n",
      "True\n"
     ]
    }
   ],
   "source": [
    "# Question 8: Check if 42 is truthy in Python\n",
    "print(\"\\nQuestion 8: Check if 42 is truthy in Python\")\n",
    "print(bool(42))"
   ]
  },
  {
   "cell_type": "code",
   "execution_count": 16,
   "id": "9a40c5c8",
   "metadata": {},
   "outputs": [
    {
     "name": "stdout",
     "output_type": "stream",
     "text": [
      "\n",
      "Question 9: Check if 10 is between 5 and 15 (inclusive)\n",
      "True\n"
     ]
    }
   ],
   "source": [
    "# Question 9: Check if 10 is between 5 and 15 (inclusive)\n",
    "print(\"\\nQuestion 9: Check if 10 is between 5 and 15 (inclusive)\")\n",
    "check_09 = 5 <= 10 <= 15\n",
    "print(check_09)"
   ]
  },
  {
   "cell_type": "code",
   "execution_count": 17,
   "id": "69aae973",
   "metadata": {},
   "outputs": [
    {
     "name": "stdout",
     "output_type": "stream",
     "text": [
      "\n",
      "Question 10: Check if 3.14 is greater than 3 and less than 4\n",
      "True\n"
     ]
    }
   ],
   "source": [
    "# Question 10: Check if 3.14 is greater than 3 and less than 4\n",
    "print(\"\\nQuestion 10: Check if 3.14 is greater than 3 and less than 4\")\n",
    "check_10 = 3 <= 3.14 <= 4\n",
    "print(check_10)"
   ]
  },
  {
   "cell_type": "code",
   "execution_count": null,
   "id": "f45f0321",
   "metadata": {},
   "outputs": [],
   "source": []
  }
 ],
 "metadata": {
  "kernelspec": {
   "display_name": "Python 3",
   "language": "python",
   "name": "python3"
  },
  "language_info": {
   "codemirror_mode": {
    "name": "ipython",
    "version": 3
   },
   "file_extension": ".py",
   "mimetype": "text/x-python",
   "name": "python",
   "nbconvert_exporter": "python",
   "pygments_lexer": "ipython3",
   "version": "3.13.2"
  }
 },
 "nbformat": 4,
 "nbformat_minor": 5
}
