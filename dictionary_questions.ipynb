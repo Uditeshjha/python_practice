{
 "cells": [
  {
   "cell_type": "code",
   "execution_count": 1,
   "id": "f39477f5",
   "metadata": {},
   "outputs": [
    {
     "name": "stdout",
     "output_type": "stream",
     "text": [
      "Question 1: Create a dictionary of student names and their ages\n",
      "{'udit': 28, 'Abhay': 27}\n"
     ]
    }
   ],
   "source": [
    "\n",
    "# Question 1: Create a dictionary of student names and their ages\n",
    "print(\"Question 1: Create a dictionary of student names and their ages\")\n",
    "\n",
    "student_data = {'udit':28,'Abhay':27}\n",
    "print(student_data)"
   ]
  },
  {
   "cell_type": "code",
   "execution_count": 6,
   "id": "2b480d07",
   "metadata": {},
   "outputs": [
    {
     "name": "stdout",
     "output_type": "stream",
     "text": [
      "\n",
      "Question 2: Add a new key-value pair to dictionary {'a': 1, 'b': 2, 'c': 3}\n",
      "New Dictionary: {'a': 1, 'b': 2, 'c': 3, 'd': 4}\n"
     ]
    }
   ],
   "source": [
    "# Question 2: Add a new key-value pair to dictionary {'a': 1, 'b': 2, 'c': 3}\n",
    "print(\"\\nQuestion 2: Add a new key-value pair to dictionary {'a': 1, 'b': 2, 'c': 3}\")\n",
    "# my_dict2 = {**{'a': 1, 'b': 2, 'c': 3}, \"d\": 4}\n",
    "# print(\"Pythonic:\", my_dict2)\n",
    "\n",
    "my_dict = {'a': 1, 'b': 2, 'c': 3}\n",
    "my_dict[\"d\"] = 4\n",
    "print(\"New Dictionary:\", my_dict)"
   ]
  },
  {
   "cell_type": "code",
   "execution_count": 7,
   "id": "04ce89e8",
   "metadata": {},
   "outputs": [
    {
     "name": "stdout",
     "output_type": "stream",
     "text": [
      "\n",
      "Question 3: Get all keys from dictionary {'name': 'John', 'age': 25, 'city': 'New York'}\n",
      "keys: ['name', 'age', 'city']\n"
     ]
    }
   ],
   "source": [
    "# Question 3: Get all keys from dictionary {'name': 'John', 'age': 25, 'city': 'New York'}\n",
    "print(\"\\nQuestion 3: Get all keys from dictionary {'name': 'John', 'age': 25, 'city': 'New York'}\")\n",
    "\n",
    "data = {'name': 'John', 'age': 25, 'city': 'New York'}\n",
    "keys_list = list(data.keys())\n",
    "print(\"keys:\", keys_list)"
   ]
  },
  {
   "cell_type": "code",
   "execution_count": 8,
   "id": "200d6db8",
   "metadata": {},
   "outputs": [
    {
     "name": "stdout",
     "output_type": "stream",
     "text": [
      "\n",
      "Question 4: Get all values from dictionary {'python': 3, 'java': 2, 'c++': 1}\n",
      "values: [3, 2, 1]\n"
     ]
    }
   ],
   "source": [
    "# Question 4: Get all values from dictionary {'python': 3, 'java': 2, 'c++': 1}\n",
    "print(\"\\nQuestion 4: Get all values from dictionary {'python': 3, 'java': 2, 'c++': 1}\")\n",
    "langs = {'python': 3, 'java': 2, 'c++': 1}\n",
    "values_list = list(langs.values())\n",
    "print(\"values:\", values_list)"
   ]
  },
  {
   "cell_type": "code",
   "execution_count": 11,
   "id": "9c128190",
   "metadata": {},
   "outputs": [
    {
     "name": "stdout",
     "output_type": "stream",
     "text": [
      "\n",
      "Question 5: Check if key 'age' exists in {'name': 'Alice', 'age': 30, 'city': 'London'}\n",
      " Yes\n"
     ]
    }
   ],
   "source": [
    "# Question 5: Check if key 'age' exists in {'name': 'Alice', 'age': 30, 'city': 'London'}\n",
    "print(\"\\nQuestion 5: Check if key 'age' exists in {'name': 'Alice', 'age': 30, 'city': 'London'}\")\n",
    "person = {'name': 'Alice', 'age': 30, 'city': 'London'}\n",
    "if 'age' in person:\n",
    "    print(\" Yes\")\n",
    "else:\n",
    "    print(\" No\")"
   ]
  },
  {
   "cell_type": "code",
   "execution_count": 12,
   "id": "790b85bd",
   "metadata": {},
   "outputs": [
    {
     "name": "stdout",
     "output_type": "stream",
     "text": [
      "\n",
      "Question 6: Remove key 'temp' from {'a': 1, 'b': 2, 'temp': 3, 'c': 4}\n",
      "New Data: {'a': 1, 'b': 2, 'c': 4}\n"
     ]
    }
   ],
   "source": [
    "# Question 6: Remove key 'temp' from {'a': 1, 'b': 2, 'temp': 3, 'c': 4}\n",
    "print(\"\\nQuestion 6: Remove key 'temp' from {'a': 1, 'b': 2, 'temp': 3, 'c': 4}\")\n",
    "data = {'a': 1, 'b': 2, 'temp': 3, 'c': 4}\n",
    "if 'temp' in data:\n",
    "    del data['temp']\n",
    "print(\"New Data:\", data)"
   ]
  },
  {
   "cell_type": "code",
   "execution_count": 13,
   "id": "af718a92",
   "metadata": {},
   "outputs": [
    {
     "name": "stdout",
     "output_type": "stream",
     "text": [
      "\n",
      "Question 7: Find the sum of all values in {'math': 85, 'science': 92, 'english': 78}\n",
      "Total: 255\n"
     ]
    }
   ],
   "source": [
    "# Question 7: Find the sum of all values in {'math': 85, 'science': 92, 'english': 78}\n",
    "print(\"\\nQuestion 7: Find the sum of all values in {'math': 85, 'science': 92, 'english': 78}\")\n",
    "marks = {'math': 85, 'science': 92, 'english': 78}\n",
    "total = 0\n",
    "for v in marks.values():\n",
    "    total += v\n",
    "print(\"Total:\", total)"
   ]
  },
  {
   "cell_type": "code",
   "execution_count": 14,
   "id": "d3f8c757",
   "metadata": {},
   "outputs": [
    {
     "name": "stdout",
     "output_type": "stream",
     "text": [
      "\n",
      "Question 8: Create a dictionary with squares of numbers 1 to 5\n",
      "squares: {1: 1, 2: 4, 3: 9, 4: 16, 5: 25}\n"
     ]
    }
   ],
   "source": [
    "# Question 8: Create a dictionary with squares of numbers 1 to 5\n",
    "print(\"\\nQuestion 8: Create a dictionary with squares of numbers 1 to 5\")\n",
    "squares = {}\n",
    "for i in range(1, 6):\n",
    "    squares[i] = i * i\n",
    "print(\"squares:\", squares)\n"
   ]
  },
  {
   "cell_type": "code",
   "execution_count": 15,
   "id": "dd7e872b",
   "metadata": {},
   "outputs": [
    {
     "name": "stdout",
     "output_type": "stream",
     "text": [
      "\n",
      "Question 9: Count frequency of each character in string 'hello'\n",
      "Frequency: {'h': 1, 'e': 1, 'l': 2, 'o': 1}\n"
     ]
    }
   ],
   "source": [
    "# Question 9: Count frequency of each character in string \"hello\"\n",
    "print(\"\\nQuestion 9: Count frequency of each character in string 'hello'\")\n",
    "word = \"hello\"\n",
    "freq = {}\n",
    "for char in word:\n",
    "    if char in freq:\n",
    "        freq[char] += 1\n",
    "    else:\n",
    "        freq[char] = 1\n",
    "print(\"Frequency:\", freq)"
   ]
  },
  {
   "cell_type": "code",
   "execution_count": 18,
   "id": "9a7b90c4",
   "metadata": {},
   "outputs": [
    {
     "name": "stdout",
     "output_type": "stream",
     "text": [
      "\n",
      "Question 10: Merge two dictionaries {'a': 1, 'b': 2} and {'c': 3, 'd': 4}\n",
      "Beginner: {'a': 1, 'b': 2, 'c': 3, 'd': 4}\n"
     ]
    }
   ],
   "source": [
    "# Question 10: Merge two dictionaries {'a': 1, 'b': 2} and {'c': 3, 'd': 4}\n",
    "print(\"\\nQuestion 10: Merge two dictionaries {'a': 1, 'b': 2} and {'c': 3, 'd': 4}\")\n",
    "dict1 = {'a': 1, 'b': 2}\n",
    "dict2 = {'c': 3, 'd': 4}\n",
    "merged = dict1.copy()\n",
    "merged.update(dict2)\n",
    "print(\"Beginner:\", merged)"
   ]
  },
  {
   "cell_type": "code",
   "execution_count": 1,
   "id": "228ce97c",
   "metadata": {},
   "outputs": [
    {
     "name": "stdout",
     "output_type": "stream",
     "text": [
      "nested dictionary: {'person': {'name': 'Alice', 'age': 25}}\n"
     ]
    }
   ],
   "source": [
    "# Question 11: Create a nested dictionary: {'person': {'name': 'Alice', 'age': 25}}\n",
    "nested_dict2 = {'person': {'name': 'Alice', 'age': 25}}\n",
    "print(\"nested dictionary:\", nested_dict2)\n"
   ]
  },
  {
   "cell_type": "code",
   "execution_count": 2,
   "id": "8bd5d2cb",
   "metadata": {},
   "outputs": [
    {
     "data": {
      "text/plain": [
       "'Alice'"
      ]
     },
     "execution_count": 2,
     "metadata": {},
     "output_type": "execute_result"
    }
   ],
   "source": [
    "# Question 12: Access nested value 'name' from {'person': {'name': 'Alice', 'age': 25}}\n",
    "nested_dict2['person']['name']"
   ]
  },
  {
   "cell_type": "code",
   "execution_count": 7,
   "id": "a22e1446",
   "metadata": {},
   "outputs": [
    {
     "name": "stdout",
     "output_type": "stream",
     "text": [
      "dict_with_lists: {'fruits': ['apple', 'banana'], 'colors': ['red', 'blue']}\n"
     ]
    }
   ],
   "source": [
    "# Question 13: Create a dictionary with list values\n",
    "dict_with_lists2 = {'fruits': ['apple', 'banana'], 'colors': ['red', 'blue']}\n",
    "print(\"dict_with_lists:\", dict_with_lists2)"
   ]
  },
  {
   "cell_type": "code",
   "execution_count": null,
   "id": "0cfdc418",
   "metadata": {},
   "outputs": [
    {
     "name": "stdout",
     "output_type": "stream",
     "text": [
      "{'fruits': ['apple', 'banana', 'orange'], 'colors': ['red', 'blue']}\n"
     ]
    }
   ],
   "source": [
    "# Question 14: Add 'orange' to the 'fruits' list in nested dictionary\n",
    "dict_with_lists2['fruits'].append('orange')\n",
    "print(dict_with_lists2)"
   ]
  },
  {
   "cell_type": "code",
   "execution_count": 12,
   "id": "698e506c",
   "metadata": {},
   "outputs": [
    {
     "name": "stdout",
     "output_type": "stream",
     "text": [
      "{'coordinates': (10, 20), 'rgb': (255, 0, 0)}\n"
     ]
    }
   ],
   "source": [
    "# Question 15: Create a dictionary with tuple values\n",
    "dict_with_tuples = {'coordinates': (10, 20), 'rgb': (255, 0, 0)}\n",
    "print( dict_with_tuples)"
   ]
  },
  {
   "cell_type": "code",
   "execution_count": 13,
   "id": "8805aabf",
   "metadata": {},
   "outputs": [
    {
     "name": "stdout",
     "output_type": "stream",
     "text": [
      "10\n"
     ]
    }
   ],
   "source": [
    "# Question 16: Extract first coordinate from nested tuple\n",
    "first_coord = dict_with_tuples['coordinates'][0]\n",
    "print( first_coord)"
   ]
  },
  {
   "cell_type": "code",
   "execution_count": 16,
   "id": "135052b6",
   "metadata": {},
   "outputs": [
    {
     "name": "stdout",
     "output_type": "stream",
     "text": [
      "{'vowels': {'a', 'e', 'i'}, 'consonants': {'b', 'c', 'd'}}\n"
     ]
    }
   ],
   "source": [
    "# Question 17: Create a dictionary with set values\n",
    "dict_with_sets = {'vowels': {'a', 'e', 'i'}, 'consonants': {'b', 'c', 'd'}}\n",
    "print(dict_with_sets)"
   ]
  },
  {
   "cell_type": "code",
   "execution_count": 17,
   "id": "0f362411",
   "metadata": {},
   "outputs": [
    {
     "name": "stdout",
     "output_type": "stream",
     "text": [
      "{'vowels': {'a', 'e', 'o', 'i'}, 'consonants': {'b', 'c', 'd'}}\n"
     ]
    }
   ],
   "source": [
    "# Question 18: Add 'o' to vowels set in nested dictionary\n",
    "dict_with_sets['vowels'].add('o')\n",
    "print(dict_with_sets)"
   ]
  },
  {
   "cell_type": "code",
   "execution_count": 19,
   "id": "0afa1ba5",
   "metadata": {},
   "outputs": [
    {
     "name": "stdout",
     "output_type": "stream",
     "text": [
      "{'company': {'department': {'employee': {'name': 'John', 'id': 123}}}}\n"
     ]
    }
   ],
   "source": [
    "# Question 19: Create a 3-level nested dictionar\n",
    "nested_3 = {'company': {'department': {'employee': {'name': 'John', 'id': 123}}}}\n",
    "print( nested_3)"
   ]
  },
  {
   "cell_type": "code",
   "execution_count": null,
   "id": "07f85379",
   "metadata": {},
   "outputs": [
    {
     "name": "stdout",
     "output_type": "stream",
     "text": [
      "John\n"
     ]
    }
   ],
   "source": [
    "# Question 20: Access employee name from 3-level nested dictionary\n",
    "print(nested_3['company']['department']['employee']['name'])"
   ]
  },
  {
   "cell_type": "code",
   "execution_count": 23,
   "id": "88245a1e",
   "metadata": {},
   "outputs": [
    {
     "name": "stdout",
     "output_type": "stream",
     "text": [
      "{'int': 42, 'float': 3.14, 'str': 'hello', 'bool': True}\n"
     ]
    }
   ],
   "source": [
    "# Question 21: Create a dictionary with mixed data types\n",
    "mixed_dict = {'int': 42, 'float': 3.14, 'str': 'hello', 'bool': True}\n",
    "print( mixed_dict)"
   ]
  },
  {
   "cell_type": "code",
   "execution_count": 27,
   "id": "73cf9096",
   "metadata": {},
   "outputs": [
    {
     "name": "stdout",
     "output_type": "stream",
     "text": [
      "int -> <class 'int'>\n",
      "float -> <class 'float'>\n",
      "str -> <class 'str'>\n",
      "bool -> <class 'bool'>\n"
     ]
    }
   ],
   "source": [
    "# Question 22: Check data type of each value in mixed dictionary\n",
    "# types_dict = {k: type(v) for k, v in mixed_dict.items()}\n",
    "# print(\"Pythonic:\", types_dict)\n",
    "\n",
    "for key, value in mixed_dict.items():\n",
    "    print(f\"{key} -> {type(value)}\")"
   ]
  },
  {
   "cell_type": "code",
   "execution_count": 33,
   "id": "70c7cf78",
   "metadata": {},
   "outputs": [
    {
     "name": "stdout",
     "output_type": "stream",
     "text": [
      "Pythonic: {'len': <built-in function len>, 'str': <class 'str'>, 'int': <class 'int'>}\n"
     ]
    }
   ],
   "source": [
    "# Question 23: Create a dictionary with function values\n",
    "func_dict = {'len': len, 'str': str, 'int': int}\n",
    "print(\"Pythonic:\", func_dict)"
   ]
  },
  {
   "cell_type": "code",
   "execution_count": 35,
   "id": "59687c6e",
   "metadata": {},
   "outputs": [
    {
     "name": "stdout",
     "output_type": "stream",
     "text": [
      " len -> 3\n",
      " str -> 123\n",
      " int -> 123\n"
     ]
    }
   ],
   "source": [
    "# Question 24: Apply each function to \"123\" using dictionary\n",
    "value = '123'\n",
    "for k,v in func_dict.items():\n",
    "    print(f\" {k} -> {v(value)}\")"
   ]
  },
  {
   "cell_type": "code",
   "execution_count": 37,
   "id": "a8cc532f",
   "metadata": {},
   "outputs": [
    {
     "name": "stdout",
     "output_type": "stream",
     "text": [
      "{'double': <function <lambda> at 0x00000271F5CD11C0>, 'square': <function <lambda> at 0x00000271F5D02980>}\n"
     ]
    }
   ],
   "source": [
    "# Question 25: Create a dictionary with lambda functions\n",
    "lambda_dict = {}\n",
    "lambda_dict['double'] = lambda x: x * 2\n",
    "lambda_dict['square'] = lambda x: x ** 2\n",
    "print( lambda_dict)"
   ]
  },
  {
   "cell_type": "code",
   "execution_count": 38,
   "id": "e5372372",
   "metadata": {},
   "outputs": [
    {
     "name": "stdout",
     "output_type": "stream",
     "text": [
      " double -> 10\n",
      " square -> 25\n"
     ]
    }
   ],
   "source": [
    "# Question 26: Apply each lambda function to 5\n",
    "for name, func in lambda_dict.items():\n",
    "    print(f\" {name} -> {func(5)}\")"
   ]
  },
  {
   "cell_type": "code",
   "execution_count": 39,
   "id": "80b60a42",
   "metadata": {},
   "outputs": [
    {
     "name": "stdout",
     "output_type": "stream",
     "text": [
      "{'list': <class 'list'>, 'dict': <class 'dict'>, 'set': <class 'set'>}\n"
     ]
    }
   ],
   "source": [
    "# Question 27: Create a dictionary with class values\n",
    "class_dict = {}\n",
    "class_dict['list'] = list\n",
    "class_dict['dict'] = dict\n",
    "class_dict['set'] = set\n",
    "print(class_dict)\n"
   ]
  },
  {
   "cell_type": "code",
   "execution_count": 41,
   "id": "0f824c08",
   "metadata": {},
   "outputs": [
    {
     "name": "stdout",
     "output_type": "stream",
     "text": [
      "list -> <class 'list'>\n",
      "dict -> <class 'dict'>\n",
      "set -> <class 'set'>\n"
     ]
    }
   ],
   "source": [
    "# Question 28: Create instances using class dictionary\n",
    "for k,cls in class_dict.items():\n",
    "    print(f'{k} -> {cls}')"
   ]
  },
  {
   "cell_type": "code",
   "execution_count": 42,
   "id": "f1de7178",
   "metadata": {},
   "outputs": [
    {
     "name": "stdout",
     "output_type": "stream",
     "text": [
      "{'a': None, 'b': None, 'c': None}\n"
     ]
    }
   ],
   "source": [
    "# Question 29: Create a dictionary with None values\n",
    "none_dict = {}\n",
    "none_dict['a'] = None\n",
    "none_dict['b'] = None\n",
    "none_dict['c'] = None\n",
    "print( none_dict)"
   ]
  },
  {
   "cell_type": "code",
   "execution_count": 43,
   "id": "1112fbfc",
   "metadata": {},
   "outputs": [
    {
     "name": "stdout",
     "output_type": "stream",
     "text": [
      "{'a': 0, 'b': 0, 'c': 0}\n"
     ]
    }
   ],
   "source": [
    "# Question 30: Replace all None values with 0\n",
    "for key in none_dict:\n",
    "    if none_dict[key] is None:\n",
    "        none_dict[key] = 0\n",
    "print(none_dict)\n"
   ]
  },
  {
   "cell_type": "code",
   "execution_count": 45,
   "id": "838e1d82",
   "metadata": {},
   "outputs": [
    {
     "name": "stdout",
     "output_type": "stream",
     "text": [
      "{'is_active': True, 'is_admin': True}\n"
     ]
    }
   ],
   "source": [
    "# Question 31: Create a dictionary with boolean values\n",
    "bool_dict = {}\n",
    "bool_dict['is_active'] = True\n",
    "bool_dict['is_admin'] = True\n",
    "print(bool_dict)"
   ]
  },
  {
   "cell_type": "code",
   "execution_count": 46,
   "id": "1b1546a5",
   "metadata": {},
   "outputs": [
    {
     "name": "stdout",
     "output_type": "stream",
     "text": [
      "2\n"
     ]
    }
   ],
   "source": [
    "# Question 32: Count True values in boolean dictionary\n",
    "count_true = 0\n",
    "for k,v in bool_dict.items():\n",
    "    if v is True:\n",
    "        count_true += 1\n",
    "print(count_true)\n"
   ]
  },
  {
   "cell_type": "code",
   "execution_count": 47,
   "id": "17a33ff2",
   "metadata": {},
   "outputs": [
    {
     "name": "stdout",
     "output_type": "stream",
     "text": [
      "{'z1': (3+4j), 'z2': (1+2j)}\n"
     ]
    }
   ],
   "source": [
    "# Question 33: Create a dictionary with complex numbers\n",
    "complex_dict = {}\n",
    "complex_dict['z1'] = 3 + 4j\n",
    "complex_dict['z2'] = 1 + 2j\n",
    "print( complex_dict)"
   ]
  },
  {
   "cell_type": "code",
   "execution_count": 48,
   "id": "a0531aec",
   "metadata": {},
   "outputs": [
    {
     "name": "stdout",
     "output_type": "stream",
     "text": [
      "{'z1': 5.0, 'z2': 2.23606797749979}\n"
     ]
    }
   ],
   "source": [
    "# Question 34: Find magnitude of each complex number\n",
    "\n",
    "magnitude = {}\n",
    "for k,v in complex_dict.items():\n",
    "    magnitude[k] = abs(v)\n",
    "\n",
    "print(magnitude)\n"
   ]
  },
  {
   "cell_type": "code",
   "execution_count": 49,
   "id": "33c8a87f",
   "metadata": {},
   "outputs": [
    {
     "name": "stdout",
     "output_type": "stream",
     "text": [
      "{'level1': {'level2': {'level3': {'level4': 'deep_value'}}}}\n"
     ]
    }
   ],
   "source": [
    "# Question 35: Create a 4-level nested dictionary\n",
    "nested_4 = {'level1': {'level2': {'level3': {'level4': 'deep_value'}}}}\n",
    "print( nested_4)"
   ]
  },
  {
   "cell_type": "code",
   "execution_count": 50,
   "id": "4064f417",
   "metadata": {},
   "outputs": [
    {
     "data": {
      "text/plain": [
       "'deep_value'"
      ]
     },
     "execution_count": 50,
     "metadata": {},
     "output_type": "execute_result"
    }
   ],
   "source": [
    "\n",
    "# Question 36: Access deepest value in 4-level nested dictionary\n",
    "\n",
    "nested_4['level1']['level2']['level3']['level4']"
   ]
  },
  {
   "cell_type": "code",
   "execution_count": 51,
   "id": "6eccfa71",
   "metadata": {},
   "outputs": [
    {
     "name": "stdout",
     "output_type": "stream",
     "text": [
      "{'r1': range(0, 3), 'r2': range(0, 5)}\n"
     ]
    }
   ],
   "source": [
    "# Question 37: Create a dictionary with range values: {'r1': range(3), 'r2': range(5)}\n",
    "range_dict = {'r1':range(3), 'r2':range(5)}\n",
    "print(range_dict)"
   ]
  },
  {
   "cell_type": "code",
   "execution_count": 52,
   "id": "7a3fb072",
   "metadata": {},
   "outputs": [
    {
     "name": "stdout",
     "output_type": "stream",
     "text": [
      "[0, 1, 2]\n",
      "[0, 1, 2, 3, 4]\n"
     ]
    }
   ],
   "source": [
    "# Question 38: Convert each range to list\n",
    "for v in range_dict.values():\n",
    "    print(list(v))"
   ]
  },
  {
   "cell_type": "code",
   "execution_count": 60,
   "id": "13048e4b",
   "metadata": {},
   "outputs": [
    {
     "name": "stdout",
     "output_type": "stream",
     "text": [
      "{'g1': <function <lambda> at 0x00000271F5DFEE80>, 'g2': <function <lambda> at 0x00000271F5DFE200>}\n"
     ]
    }
   ],
   "source": [
    "# Question 39: Create a dictionary with generator values\n",
    "gen_dict = {}\n",
    "gen_dict['g1'] = lambda: (x for x in range(3))\n",
    "gen_dict['g2'] = lambda: (x**2 for x in range(4))\n",
    "print( gen_dict)"
   ]
  },
  {
   "cell_type": "code",
   "execution_count": 62,
   "id": "309a7093",
   "metadata": {},
   "outputs": [
    {
     "name": "stdout",
     "output_type": "stream",
     "text": [
      "{'g1': [0, 1, 2], 'g2': [0, 1, 4, 9]}\n"
     ]
    }
   ],
   "source": [
    "# Question 40: Convert each generator to list\n",
    "# for k,v in gen_dict.items():\n",
    "#     print(f\"{k} -> {list(v)}\")\n",
    "\n",
    "gen_to_list = {}\n",
    "for k, g in gen_dict.items():\n",
    "    gen_to_list[k] = list(g())\n",
    "print(gen_to_list)"
   ]
  },
  {
   "cell_type": "code",
   "execution_count": 63,
   "id": "72d9ae8c",
   "metadata": {},
   "outputs": [
    {
     "name": "stdout",
     "output_type": "stream",
     "text": [
      "Pythonic: {'i1': <list_iterator object at 0x00000271F58BD840>, 'i2': <tuple_iterator object at 0x00000271F58BE380>}\n"
     ]
    }
   ],
   "source": [
    "# Question 41: Create a dictionary with iterator values\n",
    "iter_dict = {'i1': iter([1, 2, 3]), 'i2': iter(('a', 'b', 'c'))}\n",
    "print(\"Pythonic:\", iter_dict)"
   ]
  },
  {
   "cell_type": "code",
   "execution_count": 65,
   "id": "0d597c2b",
   "metadata": {},
   "outputs": [
    {
     "name": "stdout",
     "output_type": "stream",
     "text": [
      "i1 -> [1, 2, 3]\n",
      "i2 -> ['a', 'b', 'c']\n"
     ]
    }
   ],
   "source": [
    "# Question 42: Extract all elements from each iterator  \n",
    "for k,v in iter_dict.items():\n",
    "    print(f\"{k} -> {list(v)}\")\n"
   ]
  },
  {
   "cell_type": "code",
   "execution_count": 66,
   "id": "5e9c8c36",
   "metadata": {},
   "outputs": [
    {
     "name": "stdout",
     "output_type": "stream",
     "text": [
      "{'matrix': [[1, 2], [3, 4]], 'vector': [5, 6, 7]}\n"
     ]
    }
   ],
   "source": [
    "# Question 43: Create a dictionary with nested lists: {'matrix': [[1, 2], [3, 4]], 'vector': [5, 6, 7]}\n",
    "nested_list_dict = {'matrix': [[1, 2], [3, 4]], 'vector': [5, 6, 7]}\n",
    "print(nested_list_dict)"
   ]
  },
  {
   "cell_type": "code",
   "execution_count": 73,
   "id": "e84b5849",
   "metadata": {},
   "outputs": [
    {
     "name": "stdout",
     "output_type": "stream",
     "text": [
      "{'matrix': [3, 7], 'vector': 18}\n"
     ]
    }
   ],
   "source": [
    "# Question 44: Find sum of each nested list\n",
    "\n",
    "list_sum = {}\n",
    "for k,lst in nested_list_dict.items():\n",
    "    # print(k)\n",
    "    # print(lst)\n",
    "    if isinstance (lst[0],list):\n",
    "        sum_sub = []\n",
    "        for l in lst:\n",
    "            sum_sub.append(sum(l))\n",
    "        list_sum[k] = sum_sub\n",
    "    else:\n",
    "        list_sum[k] = sum(lst)\n",
    "\n",
    "print(list_sum) \n"
   ]
  },
  {
   "cell_type": "code",
   "execution_count": 74,
   "id": "5163a56f",
   "metadata": {},
   "outputs": [],
   "source": [
    "# Question 45: Create a dictionary with nested dictionaries: {'config': {'db': {'host': 'localhost', 'port': 5432}}}\n",
    "nested_dict = {'config': {'db': {'host': 'localhost', 'port': 5432}}}"
   ]
  },
  {
   "cell_type": "code",
   "execution_count": 75,
   "id": "fede9831",
   "metadata": {},
   "outputs": [
    {
     "data": {
      "text/plain": [
       "5432"
      ]
     },
     "execution_count": 75,
     "metadata": {},
     "output_type": "execute_result"
    }
   ],
   "source": [
    "# Question 46: Access database port from nested configuration\n",
    "nested_dict['config']['db']['port']"
   ]
  },
  {
   "cell_type": "code",
   "execution_count": 77,
   "id": "b69b9d12",
   "metadata": {},
   "outputs": [
    {
     "name": "stdout",
     "output_type": "stream",
     "text": [
      "{'points': ((1, 2), (3, 4)), 'rgb': ((255, 0, 0), (0, 255, 0))}\n"
     ]
    }
   ],
   "source": [
    "# Question 47: Create a dictionary with nested tuples: {'points': ((1, 2), (3, 4)), 'rgb': ((255, 0, 0), (0, 255, 0))}\n",
    "nested_tuples = {'points': ((1, 2), (3, 4)), 'rgb': ((255, 0, 0), (0, 255, 0))}\n",
    "print(nested_tuples)"
   ]
  },
  {
   "cell_type": "code",
   "execution_count": 79,
   "id": "c3ad20d8",
   "metadata": {},
   "outputs": [
    {
     "data": {
      "text/plain": [
       "(1, 2)"
      ]
     },
     "execution_count": 79,
     "metadata": {},
     "output_type": "execute_result"
    }
   ],
   "source": [
    "# Question 48: Extract first point coordinates\n",
    "nested_tuples['points'][0]"
   ]
  },
  {
   "cell_type": "code",
   "execution_count": 81,
   "id": "624198f5",
   "metadata": {},
   "outputs": [
    {
     "name": "stdout",
     "output_type": "stream",
     "text": [
      "{'groups': {frozenset({1, 2, 3}), frozenset({4, 5, 6})}, 'categories': {frozenset({'a', 'b'}), frozenset({'d', 'c'})}}\n"
     ]
    }
   ],
   "source": [
    "# Question 49: Create a dictionary with nested sets: {'groups': {{1, 2, 3}, {4, 5, 6}}, 'categories': {{'a', 'b'}, {'c', 'd'}}}\n",
    "# nested_sets = {'groups': {{1, 2, 3}, {4, 5, 6}}, 'categories': {{'a', 'b'}, {'c', 'd'}}}\n",
    "\n",
    "# ERROR as sets inside set is not allowed, so using frozenset \n",
    "nested_sets_dict = {\n",
    "    'groups': {frozenset({1, 2, 3}), frozenset({4, 5, 6})},\n",
    "    'categories': {frozenset({'a', 'b'}), frozenset({'c', 'd'})}\n",
    "}\n",
    "print(nested_sets_dict)"
   ]
  },
  {
   "cell_type": "code",
   "execution_count": null,
   "id": "95df96d5",
   "metadata": {},
   "outputs": [
    {
     "name": "stdout",
     "output_type": "stream",
     "text": [
      "{'d', 1, 2, 3, 4, 5, 6, 'a', 'b', 'c'}\n"
     ]
    }
   ],
   "source": [
    "# Question 50: Find union of all nested sets\n",
    "\n",
    "# sets are unordered collections.\n",
    "# The order of o/p is based on the internal hash table layout, not on insertion order or sorting.\n",
    "\n",
    "union_sets = set()\n",
    "for k,v in nested_sets_dict.items():\n",
    "    for s in v:\n",
    "        # union method will add or over write existing value\n",
    "        union_sets.update(s)\n",
    "print(union_sets)\n"
   ]
  },
  {
   "cell_type": "code",
   "execution_count": null,
   "id": "17dc82f6",
   "metadata": {},
   "outputs": [],
   "source": []
  }
 ],
 "metadata": {
  "kernelspec": {
   "display_name": "Python 3",
   "language": "python",
   "name": "python3"
  },
  "language_info": {
   "codemirror_mode": {
    "name": "ipython",
    "version": 3
   },
   "file_extension": ".py",
   "mimetype": "text/x-python",
   "name": "python",
   "nbconvert_exporter": "python",
   "pygments_lexer": "ipython3",
   "version": "3.13.2"
  }
 },
 "nbformat": 4,
 "nbformat_minor": 5
}
