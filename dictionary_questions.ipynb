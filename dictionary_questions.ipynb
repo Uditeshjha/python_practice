{
 "cells": [
  {
   "cell_type": "code",
   "execution_count": 1,
   "id": "f39477f5",
   "metadata": {},
   "outputs": [
    {
     "name": "stdout",
     "output_type": "stream",
     "text": [
      "Question 1: Create a dictionary of student names and their ages\n",
      "{'udit': 28, 'Abhay': 27}\n"
     ]
    }
   ],
   "source": [
    "\n",
    "# Question 1: Create a dictionary of student names and their ages\n",
    "print(\"Question 1: Create a dictionary of student names and their ages\")\n",
    "\n",
    "student_data = {'udit':28,'Abhay':27}\n",
    "print(student_data)"
   ]
  },
  {
   "cell_type": "code",
   "execution_count": 6,
   "id": "2b480d07",
   "metadata": {},
   "outputs": [
    {
     "name": "stdout",
     "output_type": "stream",
     "text": [
      "\n",
      "Question 2: Add a new key-value pair to dictionary {'a': 1, 'b': 2, 'c': 3}\n",
      "New Dictionary: {'a': 1, 'b': 2, 'c': 3, 'd': 4}\n"
     ]
    }
   ],
   "source": [
    "# Question 2: Add a new key-value pair to dictionary {'a': 1, 'b': 2, 'c': 3}\n",
    "print(\"\\nQuestion 2: Add a new key-value pair to dictionary {'a': 1, 'b': 2, 'c': 3}\")\n",
    "# my_dict2 = {**{'a': 1, 'b': 2, 'c': 3}, \"d\": 4}\n",
    "# print(\"Pythonic:\", my_dict2)\n",
    "\n",
    "my_dict = {'a': 1, 'b': 2, 'c': 3}\n",
    "my_dict[\"d\"] = 4\n",
    "print(\"New Dictionary:\", my_dict)"
   ]
  },
  {
   "cell_type": "code",
   "execution_count": 7,
   "id": "04ce89e8",
   "metadata": {},
   "outputs": [
    {
     "name": "stdout",
     "output_type": "stream",
     "text": [
      "\n",
      "Question 3: Get all keys from dictionary {'name': 'John', 'age': 25, 'city': 'New York'}\n",
      "keys: ['name', 'age', 'city']\n"
     ]
    }
   ],
   "source": [
    "# Question 3: Get all keys from dictionary {'name': 'John', 'age': 25, 'city': 'New York'}\n",
    "print(\"\\nQuestion 3: Get all keys from dictionary {'name': 'John', 'age': 25, 'city': 'New York'}\")\n",
    "\n",
    "data = {'name': 'John', 'age': 25, 'city': 'New York'}\n",
    "keys_list = list(data.keys())\n",
    "print(\"keys:\", keys_list)"
   ]
  },
  {
   "cell_type": "code",
   "execution_count": 8,
   "id": "200d6db8",
   "metadata": {},
   "outputs": [
    {
     "name": "stdout",
     "output_type": "stream",
     "text": [
      "\n",
      "Question 4: Get all values from dictionary {'python': 3, 'java': 2, 'c++': 1}\n",
      "values: [3, 2, 1]\n"
     ]
    }
   ],
   "source": [
    "# Question 4: Get all values from dictionary {'python': 3, 'java': 2, 'c++': 1}\n",
    "print(\"\\nQuestion 4: Get all values from dictionary {'python': 3, 'java': 2, 'c++': 1}\")\n",
    "langs = {'python': 3, 'java': 2, 'c++': 1}\n",
    "values_list = list(langs.values())\n",
    "print(\"values:\", values_list)"
   ]
  },
  {
   "cell_type": "code",
   "execution_count": 11,
   "id": "9c128190",
   "metadata": {},
   "outputs": [
    {
     "name": "stdout",
     "output_type": "stream",
     "text": [
      "\n",
      "Question 5: Check if key 'age' exists in {'name': 'Alice', 'age': 30, 'city': 'London'}\n",
      " Yes\n"
     ]
    }
   ],
   "source": [
    "# Question 5: Check if key 'age' exists in {'name': 'Alice', 'age': 30, 'city': 'London'}\n",
    "print(\"\\nQuestion 5: Check if key 'age' exists in {'name': 'Alice', 'age': 30, 'city': 'London'}\")\n",
    "person = {'name': 'Alice', 'age': 30, 'city': 'London'}\n",
    "if 'age' in person:\n",
    "    print(\" Yes\")\n",
    "else:\n",
    "    print(\" No\")"
   ]
  },
  {
   "cell_type": "code",
   "execution_count": 12,
   "id": "790b85bd",
   "metadata": {},
   "outputs": [
    {
     "name": "stdout",
     "output_type": "stream",
     "text": [
      "\n",
      "Question 6: Remove key 'temp' from {'a': 1, 'b': 2, 'temp': 3, 'c': 4}\n",
      "New Data: {'a': 1, 'b': 2, 'c': 4}\n"
     ]
    }
   ],
   "source": [
    "# Question 6: Remove key 'temp' from {'a': 1, 'b': 2, 'temp': 3, 'c': 4}\n",
    "print(\"\\nQuestion 6: Remove key 'temp' from {'a': 1, 'b': 2, 'temp': 3, 'c': 4}\")\n",
    "data = {'a': 1, 'b': 2, 'temp': 3, 'c': 4}\n",
    "if 'temp' in data:\n",
    "    del data['temp']\n",
    "print(\"New Data:\", data)"
   ]
  },
  {
   "cell_type": "code",
   "execution_count": 13,
   "id": "af718a92",
   "metadata": {},
   "outputs": [
    {
     "name": "stdout",
     "output_type": "stream",
     "text": [
      "\n",
      "Question 7: Find the sum of all values in {'math': 85, 'science': 92, 'english': 78}\n",
      "Total: 255\n"
     ]
    }
   ],
   "source": [
    "# Question 7: Find the sum of all values in {'math': 85, 'science': 92, 'english': 78}\n",
    "print(\"\\nQuestion 7: Find the sum of all values in {'math': 85, 'science': 92, 'english': 78}\")\n",
    "marks = {'math': 85, 'science': 92, 'english': 78}\n",
    "total = 0\n",
    "for v in marks.values():\n",
    "    total += v\n",
    "print(\"Total:\", total)"
   ]
  },
  {
   "cell_type": "code",
   "execution_count": 14,
   "id": "d3f8c757",
   "metadata": {},
   "outputs": [
    {
     "name": "stdout",
     "output_type": "stream",
     "text": [
      "\n",
      "Question 8: Create a dictionary with squares of numbers 1 to 5\n",
      "squares: {1: 1, 2: 4, 3: 9, 4: 16, 5: 25}\n"
     ]
    }
   ],
   "source": [
    "# Question 8: Create a dictionary with squares of numbers 1 to 5\n",
    "print(\"\\nQuestion 8: Create a dictionary with squares of numbers 1 to 5\")\n",
    "squares = {}\n",
    "for i in range(1, 6):\n",
    "    squares[i] = i * i\n",
    "print(\"squares:\", squares)\n"
   ]
  },
  {
   "cell_type": "code",
   "execution_count": 15,
   "id": "dd7e872b",
   "metadata": {},
   "outputs": [
    {
     "name": "stdout",
     "output_type": "stream",
     "text": [
      "\n",
      "Question 9: Count frequency of each character in string 'hello'\n",
      "Frequency: {'h': 1, 'e': 1, 'l': 2, 'o': 1}\n"
     ]
    }
   ],
   "source": [
    "# Question 9: Count frequency of each character in string \"hello\"\n",
    "print(\"\\nQuestion 9: Count frequency of each character in string 'hello'\")\n",
    "word = \"hello\"\n",
    "freq = {}\n",
    "for char in word:\n",
    "    if char in freq:\n",
    "        freq[char] += 1\n",
    "    else:\n",
    "        freq[char] = 1\n",
    "print(\"Frequency:\", freq)"
   ]
  },
  {
   "cell_type": "code",
   "execution_count": 18,
   "id": "9a7b90c4",
   "metadata": {},
   "outputs": [
    {
     "name": "stdout",
     "output_type": "stream",
     "text": [
      "\n",
      "Question 10: Merge two dictionaries {'a': 1, 'b': 2} and {'c': 3, 'd': 4}\n",
      "Beginner: {'a': 1, 'b': 2, 'c': 3, 'd': 4}\n"
     ]
    }
   ],
   "source": [
    "# Question 10: Merge two dictionaries {'a': 1, 'b': 2} and {'c': 3, 'd': 4}\n",
    "print(\"\\nQuestion 10: Merge two dictionaries {'a': 1, 'b': 2} and {'c': 3, 'd': 4}\")\n",
    "dict1 = {'a': 1, 'b': 2}\n",
    "dict2 = {'c': 3, 'd': 4}\n",
    "merged = dict1.copy()\n",
    "merged.update(dict2)\n",
    "print(\"Beginner:\", merged)"
   ]
  },
  {
   "cell_type": "code",
   "execution_count": 1,
   "id": "228ce97c",
   "metadata": {},
   "outputs": [
    {
     "name": "stdout",
     "output_type": "stream",
     "text": [
      "nested dictionary: {'person': {'name': 'Alice', 'age': 25}}\n"
     ]
    }
   ],
   "source": [
    "# Question 11: Create a nested dictionary: {'person': {'name': 'Alice', 'age': 25}}\n",
    "nested_dict2 = {'person': {'name': 'Alice', 'age': 25}}\n",
    "print(\"nested dictionary:\", nested_dict2)\n"
   ]
  },
  {
   "cell_type": "code",
   "execution_count": 2,
   "id": "8bd5d2cb",
   "metadata": {},
   "outputs": [
    {
     "data": {
      "text/plain": [
       "'Alice'"
      ]
     },
     "execution_count": 2,
     "metadata": {},
     "output_type": "execute_result"
    }
   ],
   "source": [
    "# Question 12: Access nested value 'name' from {'person': {'name': 'Alice', 'age': 25}}\n",
    "nested_dict2['person']['name']"
   ]
  },
  {
   "cell_type": "code",
   "execution_count": 7,
   "id": "a22e1446",
   "metadata": {},
   "outputs": [
    {
     "name": "stdout",
     "output_type": "stream",
     "text": [
      "dict_with_lists: {'fruits': ['apple', 'banana'], 'colors': ['red', 'blue']}\n"
     ]
    }
   ],
   "source": [
    "# Question 13: Create a dictionary with list values\n",
    "dict_with_lists2 = {'fruits': ['apple', 'banana'], 'colors': ['red', 'blue']}\n",
    "print(\"dict_with_lists:\", dict_with_lists2)"
   ]
  },
  {
   "cell_type": "code",
   "execution_count": null,
   "id": "0cfdc418",
   "metadata": {},
   "outputs": [
    {
     "name": "stdout",
     "output_type": "stream",
     "text": [
      "{'fruits': ['apple', 'banana', 'orange'], 'colors': ['red', 'blue']}\n"
     ]
    }
   ],
   "source": [
    "# Question 14: Add 'orange' to the 'fruits' list in nested dictionary\n",
    "dict_with_lists2['fruits'].append('orange')\n",
    "print(dict_with_lists2)"
   ]
  },
  {
   "cell_type": "code",
   "execution_count": 12,
   "id": "698e506c",
   "metadata": {},
   "outputs": [
    {
     "name": "stdout",
     "output_type": "stream",
     "text": [
      "{'coordinates': (10, 20), 'rgb': (255, 0, 0)}\n"
     ]
    }
   ],
   "source": [
    "# Question 15: Create a dictionary with tuple values\n",
    "dict_with_tuples = {'coordinates': (10, 20), 'rgb': (255, 0, 0)}\n",
    "print( dict_with_tuples)"
   ]
  },
  {
   "cell_type": "code",
   "execution_count": 13,
   "id": "8805aabf",
   "metadata": {},
   "outputs": [
    {
     "name": "stdout",
     "output_type": "stream",
     "text": [
      "10\n"
     ]
    }
   ],
   "source": [
    "# Question 16: Extract first coordinate from nested tuple\n",
    "first_coord = dict_with_tuples['coordinates'][0]\n",
    "print( first_coord)"
   ]
  },
  {
   "cell_type": "code",
   "execution_count": 16,
   "id": "135052b6",
   "metadata": {},
   "outputs": [
    {
     "name": "stdout",
     "output_type": "stream",
     "text": [
      "{'vowels': {'a', 'e', 'i'}, 'consonants': {'b', 'c', 'd'}}\n"
     ]
    }
   ],
   "source": [
    "# Question 17: Create a dictionary with set values\n",
    "dict_with_sets = {'vowels': {'a', 'e', 'i'}, 'consonants': {'b', 'c', 'd'}}\n",
    "print(dict_with_sets)"
   ]
  },
  {
   "cell_type": "code",
   "execution_count": 17,
   "id": "0f362411",
   "metadata": {},
   "outputs": [
    {
     "name": "stdout",
     "output_type": "stream",
     "text": [
      "{'vowels': {'a', 'e', 'o', 'i'}, 'consonants': {'b', 'c', 'd'}}\n"
     ]
    }
   ],
   "source": [
    "# Question 18: Add 'o' to vowels set in nested dictionary\n",
    "dict_with_sets['vowels'].add('o')\n",
    "print(dict_with_sets)"
   ]
  },
  {
   "cell_type": "code",
   "execution_count": 19,
   "id": "0afa1ba5",
   "metadata": {},
   "outputs": [
    {
     "name": "stdout",
     "output_type": "stream",
     "text": [
      "{'company': {'department': {'employee': {'name': 'John', 'id': 123}}}}\n"
     ]
    }
   ],
   "source": [
    "# Question 19: Create a 3-level nested dictionar\n",
    "nested_3 = {'company': {'department': {'employee': {'name': 'John', 'id': 123}}}}\n",
    "print( nested_3)"
   ]
  },
  {
   "cell_type": "code",
   "execution_count": null,
   "id": "07f85379",
   "metadata": {},
   "outputs": [
    {
     "name": "stdout",
     "output_type": "stream",
     "text": [
      "John\n"
     ]
    }
   ],
   "source": [
    "# Question 20: Access employee name from 3-level nested dictionary\n",
    "print(nested_3['company']['department']['employee']['name'])"
   ]
  },
  {
   "cell_type": "code",
   "execution_count": null,
   "id": "88245a1e",
   "metadata": {},
   "outputs": [],
   "source": []
  }
 ],
 "metadata": {
  "kernelspec": {
   "display_name": "Python 3",
   "language": "python",
   "name": "python3"
  },
  "language_info": {
   "codemirror_mode": {
    "name": "ipython",
    "version": 3
   },
   "file_extension": ".py",
   "mimetype": "text/x-python",
   "name": "python",
   "nbconvert_exporter": "python",
   "pygments_lexer": "ipython3",
   "version": "3.13.2"
  }
 },
 "nbformat": 4,
 "nbformat_minor": 5
}
