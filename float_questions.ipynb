{
 "cells": [
  {
   "cell_type": "code",
   "execution_count": null,
   "id": "3ba01423",
   "metadata": {},
   "outputs": [],
   "source": []
  },
  {
   "cell_type": "markdown",
   "id": "9a09b7a9",
   "metadata": {},
   "source": [
    "# FLOAT DATATYPE ASSIGNMENT\n",
    "# =========================\n",
    "\n",
    "# SOLVED EXAMPLE\n",
    "# --------------\n",
    "# Question: Calculate the area of a circle with radius 5.5\n",
    "print(\"SOLVED EXAMPLE:\")\n",
    "print(\"Calculate the area of a circle with radius 5.5\")\n",
    "import math\n",
    "radius = 5.5\n",
    "area = math.pi * radius ** 2\n",
    "print(f\"Radius: {radius}\")\n",
    "print(f\"Area: {area:.2f}\")\n",
    "print(\"-\" * 50)\n",
    "\n",
    "# ASSIGNMENT QUESTIONS\n",
    "# ===================\n",
    "\n",
    "# Question 1: Calculate the average of 3.14, 2.718, 1.618, 0.577\n",
    "print(\"Question 1: Calculate the average of 3.14, 2.718, 1.618, 0.577\")\n",
    "# Your code here\n",
    "\n",
    "# Question 2: Convert 98.6 Fahrenheit to Celsius (F = C * 9/5 + 32)\n",
    "print(\"\\nQuestion 2: Convert 98.6 Fahrenheit to Celsius\")\n",
    "# Your code here\n",
    "\n",
    "# Question 3: Calculate the compound interest on $1000 at 5.5% for 3 years\n",
    "print(\"\\nQuestion 3: Calculate compound interest on $1000 at 5.5% for 3 years\")\n",
    "# Your code here\n",
    "\n",
    "# Question 4: Find the hypotenuse of a right triangle with sides 3.5 and 4.2\n",
    "print(\"\\nQuestion 4: Find the hypotenuse of a right triangle with sides 3.5 and 4.2\")\n",
    "# Your code here\n",
    "\n",
    "# Question 5: Calculate the volume of a sphere with radius 7.8\n",
    "print(\"\\nQuestion 5: Calculate the volume of a sphere with radius 7.8\")\n",
    "# Your code here\n",
    "\n",
    "# Question 6: Round 3.14159 to 3 decimal places\n",
    "print(\"\\nQuestion 6: Round 3.14159 to 3 decimal places\")\n",
    "# Your code here\n",
    "\n",
    "# Question 7: Calculate the percentage: 45 out of 67\n",
    "print(\"\\nQuestion 7: Calculate the percentage: 45 out of 67\")\n",
    "# Your code here\n",
    "\n",
    "# Question 8: Find the square root of 23.456\n",
    "print(\"\\nQuestion 8: Find the square root of 23.456\")\n",
    "# Your code here\n",
    "\n",
    "# Question 9: Calculate the simple interest: Principal=2500, Rate=6.5%, Time=2.5 years\n",
    "print(\"\\nQuestion 9: Calculate simple interest: Principal=2500, Rate=6.5%, Time=2.5 years\")\n",
    "# Your code here\n",
    "\n",
    "# Question 10: Convert 45.7 degrees to radians\n",
    "print(\"\\nQuestion 10: Convert 45.7 degrees to radians\")\n",
    "# Your code here "
   ]
  },
  {
   "cell_type": "code",
   "execution_count": 1,
   "id": "9c567b8b",
   "metadata": {},
   "outputs": [
    {
     "name": "stdout",
     "output_type": "stream",
     "text": [
      "Question 1: Calculate the average of 3.14, 2.718, 1.618, 0.577\n",
      "Average is: 2.01325\n"
     ]
    }
   ],
   "source": [
    "# Question 1: Calculate the average of 3.14, 2.718, 1.618, 0.577\n",
    "print(\"Question 1: Calculate the average of 3.14, 2.718, 1.618, 0.577\")\n",
    "# Your code here\n",
    "numbers = [3.14, 2.718, 1.618, 0.577]\n",
    "average = sum(numbers) / len(numbers)\n",
    "print(\"Average is:\", average)"
   ]
  },
  {
   "cell_type": "code",
   "execution_count": 2,
   "id": "8b94d61b",
   "metadata": {},
   "outputs": [
    {
     "name": "stdout",
     "output_type": "stream",
     "text": [
      "\n",
      "Question 2: Convert 98.6 Fahrenheit to Celsius\n",
      "Celsius is: 37.0\n"
     ]
    }
   ],
   "source": [
    "# Question 2: Convert 98.6 Fahrenheit to Celsius (F = C * 9/5 + 32)\n",
    "print(\"\\nQuestion 2: Convert 98.6 Fahrenheit to Celsius\")\n",
    "# Your code here\n",
    "fahrenheit = 98.6\n",
    "celsius = (fahrenheit - 32) * 5 / 9\n",
    "print(\"Celsius is:\", round(celsius, 2))"
   ]
  },
  {
   "cell_type": "code",
   "execution_count": 3,
   "id": "27d9151a",
   "metadata": {},
   "outputs": [
    {
     "name": "stdout",
     "output_type": "stream",
     "text": [
      "\n",
      "Question 3: Calculate compound interest on $1000 at 5.5% for 3 years\n",
      "Compound Interest is: 174.24\n"
     ]
    }
   ],
   "source": [
    "# Question 3: Calculate the compound interest on $1000 at 5.5% for 3 years\n",
    "print(\"\\nQuestion 3: Calculate compound interest on $1000 at 5.5% for 3 years\")\n",
    "# Your code here\n",
    "P = 1000         # principal\n",
    "r = 5.5          # annual rate in percent\n",
    "n = 3            # time in years\n",
    "\n",
    "A = P * (1 + r / 100) ** n\n",
    "CI = A - P\n",
    "\n",
    "print(\"Compound Interest is:\", round(CI, 2))"
   ]
  },
  {
   "cell_type": "code",
   "execution_count": 5,
   "id": "4310298b",
   "metadata": {},
   "outputs": [
    {
     "name": "stdout",
     "output_type": "stream",
     "text": [
      "\n",
      "Question 4: Find the hypotenuse of a right triangle with sides 3.5 and 4.2\n",
      "Hypotenuse is: 5.467\n"
     ]
    }
   ],
   "source": [
    "# Question 4: Find the hypotenuse of a right triangle with sides 3.5 and 4.2\n",
    "print(\"\\nQuestion 4: Find the hypotenuse of a right triangle with sides 3.5 and 4.2\")\n",
    "# Your code here\n",
    "import math\n",
    "a = 3.5\n",
    "b = 4.2\n",
    "\n",
    "hypotenuse = math.sqrt(a**2 + b**2)\n",
    "print(\"Hypotenuse is:\", round(hypotenuse, 3))"
   ]
  },
  {
   "cell_type": "code",
   "execution_count": 1,
   "id": "c0718344",
   "metadata": {},
   "outputs": [
    {
     "name": "stdout",
     "output_type": "stream",
     "text": [
      "\n",
      "Question 5: Calculate the volume of a sphere with radius 7.8\n",
      "Volume of the sphere is: 1987.8\n"
     ]
    }
   ],
   "source": [
    "# Question 5: Calculate the volume of a sphere with radius 7.8\n",
    "print(\"\\nQuestion 5: Calculate the volume of a sphere with radius 7.8\")\n",
    "# Your code here\n",
    "import math\n",
    "\n",
    "radius = 7.8\n",
    "volume = (4/3) * math.pi * (radius ** 3)\n",
    "\n",
    "print(\"Volume of the sphere is:\", round(volume, 2))"
   ]
  },
  {
   "cell_type": "code",
   "execution_count": 2,
   "id": "c8ee7d0c",
   "metadata": {},
   "outputs": [
    {
     "name": "stdout",
     "output_type": "stream",
     "text": [
      "\n",
      "Question 6: Round 3.14159 to 3 decimal places\n",
      "Rounded number is: 3.142\n"
     ]
    }
   ],
   "source": [
    "# Question 6: Round 3.14159 to 3 decimal places\n",
    "print(\"\\nQuestion 6: Round 3.14159 to 3 decimal places\")\n",
    "# Your code here\n",
    "number = 3.14159\n",
    "rounded_number = round(number, 3)\n",
    "\n",
    "print(\"Rounded number is:\", rounded_number)"
   ]
  },
  {
   "cell_type": "code",
   "execution_count": 3,
   "id": "c37cade0",
   "metadata": {},
   "outputs": [
    {
     "name": "stdout",
     "output_type": "stream",
     "text": [
      "\n",
      "Question 7: Calculate the percentage: 45 out of 67\n",
      "Percentage is: 67.16 %\n"
     ]
    }
   ],
   "source": [
    "# Question 7: Calculate the percentage: 45 out of 67\n",
    "print(\"\\nQuestion 7: Calculate the percentage: 45 out of 67\")\n",
    "# Your code here\n",
    "obtained = 45\n",
    "total = 67\n",
    "percentage = (obtained / total) * 100\n",
    "\n",
    "print(\"Percentage is:\", round(percentage, 2), \"%\")"
   ]
  },
  {
   "cell_type": "code",
   "execution_count": 4,
   "id": "a002cfe6",
   "metadata": {},
   "outputs": [
    {
     "name": "stdout",
     "output_type": "stream",
     "text": [
      "\n",
      "Question 8: Find the square root of 23.456\n",
      "Square root is: 4.8431\n"
     ]
    }
   ],
   "source": [
    "# Question 8: Find the square root of 23.456\n",
    "print(\"\\nQuestion 8: Find the square root of 23.456\")\n",
    "# Your code here\n",
    "number = 23.456\n",
    "square_root = math.sqrt(number)\n",
    "\n",
    "print(\"Square root is:\", round(square_root, 4))"
   ]
  },
  {
   "cell_type": "code",
   "execution_count": 5,
   "id": "8e20eba9",
   "metadata": {},
   "outputs": [
    {
     "name": "stdout",
     "output_type": "stream",
     "text": [
      "\n",
      "Question 9: Calculate simple interest: Principal=2500, Rate=6.5%, Time=2.5 years\n",
      "Simple Interest is: 406.25\n"
     ]
    }
   ],
   "source": [
    "# Question 9: Calculate the simple interest: Principal=2500, Rate=6.5%, Time=2.5 years\n",
    "print(\"\\nQuestion 9: Calculate simple interest: Principal=2500, Rate=6.5%, Time=2.5 years\")\n",
    "# Your code here\n",
    "P = 2500         # Principal amount\n",
    "R = 6.5          # Annual interest rate (%)\n",
    "T = 2.5          # Time in years\n",
    "\n",
    "SI = (P * R * T) / 100\n",
    "\n",
    "print(\"Simple Interest is:\", round(SI, 2))\n"
   ]
  },
  {
   "cell_type": "code",
   "execution_count": 6,
   "id": "d7c00f9b",
   "metadata": {},
   "outputs": [
    {
     "name": "stdout",
     "output_type": "stream",
     "text": [
      "\n",
      "Question 10: Convert 45.7 degrees to radians\n",
      "Radians: 0.7976154681614086\n"
     ]
    }
   ],
   "source": [
    "# Question 10: Convert 45.7 degrees to radians\n",
    "print(\"\\nQuestion 10: Convert 45.7 degrees to radians\")\n",
    "# Your code here\n",
    "import math \n",
    "degrees = 45.7\n",
    "radians = math.radians(degrees)\n",
    "\n",
    "print(\"Radians:\", radians)"
   ]
  },
  {
   "cell_type": "code",
   "execution_count": null,
   "id": "b8e0cb3f",
   "metadata": {},
   "outputs": [],
   "source": []
  }
 ],
 "metadata": {
  "kernelspec": {
   "display_name": "Python 3",
   "language": "python",
   "name": "python3"
  },
  "language_info": {
   "codemirror_mode": {
    "name": "ipython",
    "version": 3
   },
   "file_extension": ".py",
   "mimetype": "text/x-python",
   "name": "python",
   "nbconvert_exporter": "python",
   "pygments_lexer": "ipython3",
   "version": "3.13.2"
  }
 },
 "nbformat": 4,
 "nbformat_minor": 5
}
