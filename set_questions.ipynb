{
 "cells": [
  {
   "cell_type": "code",
   "execution_count": 1,
   "id": "08c2f386",
   "metadata": {},
   "outputs": [
    {
     "name": "stdout",
     "output_type": "stream",
     "text": [
      "Question 1: Create a set of first 10 natural numbers\n",
      "{1, 2, 3, 4, 5, 6, 7, 8, 9, 10}\n"
     ]
    }
   ],
   "source": [
    "# Question 1: Create a set of first 10 natural numbers\n",
    "print(\"Question 1: Create a set of first 10 natural numbers\")\n",
    "natural_numbers = set(range(1, 11))\n",
    "print(natural_numbers)"
   ]
  },
  {
   "cell_type": "code",
   "execution_count": 2,
   "id": "7d0a4113",
   "metadata": {},
   "outputs": [
    {
     "name": "stdout",
     "output_type": "stream",
     "text": [
      "\n",
      "Question 2: Add element 11 to set {1, 2, 3, 4, 5}\n",
      "{1, 2, 3, 4, 5, 11}\n"
     ]
    }
   ],
   "source": [
    "# Question 2: Add element 11 to set {1, 2, 3, 4, 5}\n",
    "print(\"\\nQuestion 2: Add element 11 to set {1, 2, 3, 4, 5}\")\n",
    "s = {1, 2, 3, 4, 5}\n",
    "s.add(11)\n",
    "print(s)"
   ]
  },
  {
   "cell_type": "code",
   "execution_count": 3,
   "id": "63449192",
   "metadata": {},
   "outputs": [
    {
     "name": "stdout",
     "output_type": "stream",
     "text": [
      "\n",
      "Question 3: Remove element 3 from set {1, 2, 3, 4, 5, 6}\n",
      "{1, 2, 4, 5, 6}\n"
     ]
    }
   ],
   "source": [
    "# Question 3: Remove element 3 from set {1, 2, 3, 4, 5, 6}\n",
    "print(\"\\nQuestion 3: Remove element 3 from set {1, 2, 3, 4, 5, 6}\")\n",
    "s = {1, 2, 3, 4, 5, 6}\n",
    "s.remove(3)\n",
    "print(s)"
   ]
  },
  {
   "cell_type": "code",
   "execution_count": 4,
   "id": "847932ed",
   "metadata": {},
   "outputs": [
    {
     "name": "stdout",
     "output_type": "stream",
     "text": [
      "\n",
      "Question 4: Find the intersection of {1, 2, 3, 4, 5} and {4, 5, 6, 7, 8}\n",
      "{4, 5}\n"
     ]
    }
   ],
   "source": [
    "# Question 4: Find the intersection of {1, 2, 3, 4, 5} and {4, 5, 6, 7, 8}\n",
    "print(\"\\nQuestion 4: Find the intersection of {1, 2, 3, 4, 5} and {4, 5, 6, 7, 8}\")\n",
    "set1 = {1, 2, 3, 4, 5}\n",
    "set2 = {4, 5, 6, 7, 8}\n",
    "print(set1.intersection(set2))"
   ]
  },
  {
   "cell_type": "code",
   "execution_count": 5,
   "id": "ae06b34d",
   "metadata": {},
   "outputs": [
    {
     "name": "stdout",
     "output_type": "stream",
     "text": [
      "\n",
      "Question 5: Find the difference between {1, 2, 3, 4, 5} and {4, 5, 6, 7, 8}\n",
      "{1, 2, 3}\n"
     ]
    }
   ],
   "source": [
    "# Question 5: Find the difference between {1, 2, 3, 4, 5} and {4, 5, 6, 7, 8}\n",
    "print(\"\\nQuestion 5: Find the difference between {1, 2, 3, 4, 5} and {4, 5, 6, 7, 8}\")\n",
    "print(set1.difference(set2))"
   ]
  },
  {
   "cell_type": "code",
   "execution_count": 6,
   "id": "e53c07a4",
   "metadata": {},
   "outputs": [
    {
     "name": "stdout",
     "output_type": "stream",
     "text": [
      "\n",
      "Question 6: Check if 5 is in set {1, 2, 3, 4, 6, 7, 8}\n",
      "False\n"
     ]
    }
   ],
   "source": [
    "# Question 6: Check if 5 is in set {1, 2, 3, 4, 6, 7, 8}\n",
    "print(\"\\nQuestion 6: Check if 5 is in set {1, 2, 3, 4, 6, 7, 8}\")\n",
    "s = {1, 2, 3, 4, 6, 7, 8}\n",
    "print(5 in s)"
   ]
  },
  {
   "cell_type": "code",
   "execution_count": 7,
   "id": "a9933c1d",
   "metadata": {},
   "outputs": [
    {
     "name": "stdout",
     "output_type": "stream",
     "text": [
      "\n",
      "Question 7: Find the length of set {'a', 'b', 'c', 'd', 'e'}\n",
      "5\n"
     ]
    }
   ],
   "source": [
    "# Question 7: Find the length of set {'a', 'b', 'c', 'd', 'e'}\n",
    "print(\"\\nQuestion 7: Find the length of set {'a', 'b', 'c', 'd', 'e'}\")\n",
    "s = {'a', 'b', 'c', 'd', 'e'}\n",
    "print(len(s))"
   ]
  },
  {
   "cell_type": "code",
   "execution_count": 8,
   "id": "e8d7b2ca",
   "metadata": {},
   "outputs": [
    {
     "name": "stdout",
     "output_type": "stream",
     "text": [
      "\n",
      "Question 8: Create a set of vowels from string 'hello world'\n",
      "{'e', 'o'}\n"
     ]
    }
   ],
   "source": [
    "# Question 8: Create a set of vowels from string 'hello world'\n",
    "print(\"\\nQuestion 8: Create a set of vowels from string 'hello world'\")\n",
    "vowels = {'a', 'e', 'i', 'o', 'u'}\n",
    "result = set(\"hello world\") & vowels\n",
    "print(result)"
   ]
  },
  {
   "cell_type": "code",
   "execution_count": null,
   "id": "62761a06",
   "metadata": {},
   "outputs": [
    {
     "data": {
      "text/plain": [
       "{'e', 'o'}"
      ]
     },
     "execution_count": 9,
     "metadata": {},
     "output_type": "execute_result"
    }
   ],
   "source": [
    "# Another way\n",
    "\n",
    "set(\"hello world\").intersection(vowels)"
   ]
  },
  {
   "cell_type": "code",
   "execution_count": 10,
   "id": "e1d7e12b",
   "metadata": {},
   "outputs": [
    {
     "name": "stdout",
     "output_type": "stream",
     "text": [
      "\n",
      "Question 9: Remove duplicates from list [1, 2, 2, 3, 4, 4, 5, 6, 6, 7] using set\n",
      "{1, 2, 3, 4, 5, 6, 7}\n"
     ]
    }
   ],
   "source": [
    "# Question 9: Remove duplicates from list [1, 2, 2, 3, 4, 4, 5, 6, 6, 7] using set\n",
    "print(\"\\nQuestion 9: Remove duplicates from list [1, 2, 2, 3, 4, 4, 5, 6, 6, 7] using set\")\n",
    "lst = [1, 2, 2, 3, 4, 4, 5, 6, 6, 7]\n",
    "\n",
    "unique = set(lst)\n",
    "print(unique)"
   ]
  },
  {
   "cell_type": "code",
   "execution_count": 11,
   "id": "9073a0fd",
   "metadata": {},
   "outputs": [
    {
     "name": "stdout",
     "output_type": "stream",
     "text": [
      "\n",
      "Question 10: Check if {1, 2, 3} is a subset of {1, 2, 3, 4, 5, 6}\n"
     ]
    },
    {
     "data": {
      "text/plain": [
       "True"
      ]
     },
     "execution_count": 11,
     "metadata": {},
     "output_type": "execute_result"
    }
   ],
   "source": [
    "# Question 10: Check if {1, 2, 3} is a subset of {1, 2, 3, 4, 5, 6}\n",
    "print(\"\\nQuestion 10: Check if {1, 2, 3} is a subset of {1, 2, 3, 4, 5, 6}\")\n",
    "small = {1, 2, 3}\n",
    "big = {1, 2, 3, 4, 5, 6}\n",
    "\n",
    "small.issubset(big)"
   ]
  },
  {
   "cell_type": "code",
   "execution_count": null,
   "id": "e321b5e5",
   "metadata": {},
   "outputs": [],
   "source": []
  }
 ],
 "metadata": {
  "kernelspec": {
   "display_name": "Python 3",
   "language": "python",
   "name": "python3"
  },
  "language_info": {
   "codemirror_mode": {
    "name": "ipython",
    "version": 3
   },
   "file_extension": ".py",
   "mimetype": "text/x-python",
   "name": "python",
   "nbconvert_exporter": "python",
   "pygments_lexer": "ipython3",
   "version": "3.13.2"
  }
 },
 "nbformat": 4,
 "nbformat_minor": 5
}
