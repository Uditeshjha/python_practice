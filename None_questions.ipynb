{
 "cells": [
  {
   "cell_type": "code",
   "execution_count": 1,
   "id": "5ee63ce7",
   "metadata": {},
   "outputs": [
    {
     "name": "stdout",
     "output_type": "stream",
     "text": [
      "Question 1: Create a variable and assign None to it\n",
      "None\n"
     ]
    }
   ],
   "source": [
    "# Question 1: Create a variable and assign None to it\n",
    "print(\"Question 1: Create a variable and assign None to it\")\n",
    "var = None\n",
    "print(var)"
   ]
  },
  {
   "cell_type": "code",
   "execution_count": 2,
   "metadata": {},
   "outputs": [
    {
     "name": "stdout",
     "output_type": "stream",
     "text": [
      "\n",
      "Question 2: Check if None equals None\n",
      "True\n"
     ]
    }
   ],
   "source": [
    "# Question 2: Check if None equals None\n",
    "print(\"\\nQuestion 2: Check if None equals None\")\n",
    "print(None == None)"
   ]
  },
  {
   "cell_type": "code",
   "execution_count": 3,
   "id": "dfbae295",
   "metadata": {},
   "outputs": [
    {
     "name": "stdout",
     "output_type": "stream",
     "text": [
      "\n",
      "Question 3: Check if None is None\n",
      "True\n"
     ]
    }
   ],
   "source": [
    "# Question 3: Check if None is None\n",
    "print(\"\\nQuestion 3: Check if None is None\")\n",
    "print(None is None)"
   ]
  },
  {
   "cell_type": "code",
   "execution_count": 4,
   "metadata": {},
   "outputs": [
    {
     "name": "stdout",
     "output_type": "stream",
     "text": [
      "\n",
      "Question 4: Check if 0 is None\n",
      "False\n"
     ]
    },
    {
     "name": "stderr",
     "output_type": "stream",
     "text": [
      "<>:3: SyntaxWarning: \"is\" with 'int' literal. Did you mean \"==\"?\n",
      "<>:3: SyntaxWarning: \"is\" with 'int' literal. Did you mean \"==\"?\n",
      "C:\\Users\\udite\\AppData\\Local\\Temp\\ipykernel_21048\\990224536.py:3: SyntaxWarning: \"is\" with 'int' literal. Did you mean \"==\"?\n",
      "  print(0 is None)\n"
     ]
    }
   ],
   "source": [
    "# Question 4: Check if 0 is None\n",
    "print(\"\\nQuestion 4: Check if 0 is None\")\n",
    "print(0 is None)"
   ]
  },
  {
   "cell_type": "code",
   "execution_count": 5,
   "id": "1bc800d6",
   "metadata": {},
   "outputs": [
    {
     "name": "stdout",
     "output_type": "stream",
     "text": [
      "\n",
      "Question 5: Check if empty string is None\n",
      "False\n"
     ]
    },
    {
     "name": "stderr",
     "output_type": "stream",
     "text": [
      "<>:3: SyntaxWarning: \"is\" with 'str' literal. Did you mean \"==\"?\n",
      "<>:3: SyntaxWarning: \"is\" with 'str' literal. Did you mean \"==\"?\n",
      "C:\\Users\\udite\\AppData\\Local\\Temp\\ipykernel_21048\\857133712.py:3: SyntaxWarning: \"is\" with 'str' literal. Did you mean \"==\"?\n",
      "  print(\"\" is None)\n"
     ]
    }
   ],
   "source": [
    "# Question 5: Check if empty string is None\n",
    "print(\"\\nQuestion 5: Check if empty string is None\")\n",
    "print(\"\" is None)"
   ]
  },
  {
   "cell_type": "code",
   "execution_count": 6,
   "id": "d55504fe",
   "metadata": {},
   "outputs": [
    {
     "name": "stdout",
     "output_type": "stream",
     "text": [
      "\n",
      "Question 6: Check if False is None\n",
      "False\n"
     ]
    }
   ],
   "source": [
    "# Question 6: Check if False is None\n",
    "print(\"\\nQuestion 6: Check if False is None\")\n",
    "print(False is None)"
   ]
  },
  {
   "cell_type": "code",
   "execution_count": 7,
   "metadata": {},
   "outputs": [
    {
     "name": "stdout",
     "output_type": "stream",
     "text": [
      "\n",
      "Question 7: Check if empty list is None\n",
      "False\n"
     ]
    }
   ],
   "source": [
    "# Question 7: Check if empty list is None\n",
    "print(\"\\nQuestion 7: Check if empty list is None\")\n",
    "print([] is None)"
   ]
  },
  {
   "cell_type": "code",
   "execution_count": 8,
   "id": "5bd2a562",
   "metadata": {},
   "outputs": [
    {
     "name": "stdout",
     "output_type": "stream",
     "text": [
      "\n",
      "Question 8: Check if empty dictionary is None\n",
      "False\n"
     ]
    }
   ],
   "source": [
    "# Question 8: Check if empty dictionary is None\n",
    "print(\"\\nQuestion 8: Check if empty dictionary is None\")\n",
    "print({} is None)"
   ]
  },
  {
   "cell_type": "code",
   "execution_count": 10,
   "id": "06c1e715",
   "metadata": {},
   "outputs": [
    {
     "name": "stdout",
     "output_type": "stream",
     "text": [
      "\n",
      "Question 9: Check if empty tuple is None\n",
      "False\n"
     ]
    },
    {
     "name": "stderr",
     "output_type": "stream",
     "text": [
      "<>:3: SyntaxWarning: \"is\" with 'tuple' literal. Did you mean \"==\"?\n",
      "<>:3: SyntaxWarning: \"is\" with 'tuple' literal. Did you mean \"==\"?\n",
      "C:\\Users\\udite\\AppData\\Local\\Temp\\ipykernel_21048\\3574893062.py:3: SyntaxWarning: \"is\" with 'tuple' literal. Did you mean \"==\"?\n",
      "  print(() is None)\n"
     ]
    }
   ],
   "source": [
    "# Question 9: Check if empty tuple is None\n",
    "print(\"\\nQuestion 9: Check if empty tuple is None\")\n",
    "print(() is None)"
   ]
  },
  {
   "cell_type": "code",
   "execution_count": 11,
   "id": "905e3495",
   "metadata": {},
   "outputs": [
    {
     "name": "stdout",
     "output_type": "stream",
     "text": [
      "\n",
      "Question 10: Check if empty set is None\n",
      "False\n"
     ]
    }
   ],
   "source": [
    "# Question 10: Check if empty set is None\n",
    "print(\"\\nQuestion 10: Check if empty set is None\")\n",
    "print(set() is None)"
   ]
  },
  {
   "cell_type": "code",
   "execution_count": null,
   "id": "1a55b273",
   "metadata": {},
   "outputs": [],
   "source": []
  }
 ],
 "metadata": {
  "kernelspec": {
   "display_name": "Python 3",
   "language": "python",
   "name": "python3"
  },
  "language_info": {
   "codemirror_mode": {
    "name": "ipython",
    "version": 3
   },
   "file_extension": ".py",
   "mimetype": "text/x-python",
   "name": "python",
   "nbconvert_exporter": "python",
   "pygments_lexer": "ipython3",
   "version": "3.13.2"
  }
 },
 "nbformat": 4,
 "nbformat_minor": 5
}
