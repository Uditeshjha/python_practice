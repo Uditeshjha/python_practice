{
 "cells": [
  {
   "cell_type": "markdown",
   "id": "8280c64e",
   "metadata": {},
   "source": [
    "# STRING DATATYPE ASSIGNMENT - 50 QUESTIONS\n",
    "# ========================================\n",
    "\n",
    "# SOLVED EXAMPLE\n",
    "# --------------\n",
    "# Question: Count vowels in the string \"Hello World\"\n",
    "print(\"SOLVED EXAMPLE:\")\n",
    "print(\"Count vowels in the string 'Hello World'\")\n",
    "text = \"Hello World\"\n",
    "vowels = \"aeiouAEIOU\"\n",
    "count = sum(1 for char in text if char in vowels)\n",
    "print(f\"String: {text}\")\n",
    "print(f\"Number of vowels: {count}\")\n",
    "print(\"-\" * 50)\n",
    "\n",
    "# ASSIGNMENT QUESTIONS (50 QUESTIONS)\n",
    "# ==================================\n",
    "\n",
    "# Question 1: Reverse the string \"Python Programming\"\n",
    "print(\"Question 1: Reverse the string 'Python Programming'\")\n",
    "# Your code here\n",
    "\n",
    "# Question 2: Check if \"racecar\" is a palindrome\n",
    "print(\"\\nQuestion 2: Check if 'racecar' is a palindrome\")\n",
    "# Your code here\n",
    "\n",
    "# Question 3: Count the number of words in \"Python is a great programming language\"\n",
    "print(\"\\nQuestion 3: Count the number of words in 'Python is a great programming language'\")\n",
    "# Your code here\n",
    "\n",
    "# Question 4: Convert \"hello world\" to title case\n",
    "print(\"\\nQuestion 4: Convert 'hello world' to title case\")\n",
    "# Your code here\n",
    "\n",
    "# Question 5: Find the length of string \"Data Science\"\n",
    "print(\"\\nQuestion 5: Find the length of string 'Data Science'\")\n",
    "# Your code here\n",
    "\n",
    "# Question 6: Replace all spaces with underscores in \"Machine Learning\"\n",
    "print(\"\\nQuestion 6: Replace all spaces with underscores in 'Machine Learning'\")\n",
    "# Your code here\n",
    "\n",
    "# Question 7: Check if \"python\" is in \"Python Programming Language\"\n",
    "print(\"\\nQuestion 7: Check if 'python' is in 'Python Programming Language'\")\n",
    "# Your code here\n",
    "\n",
    "# Question 8: Extract the first 5 characters from \"Artificial Intelligence\"\n",
    "print(\"\\nQuestion 8: Extract the first 5 characters from 'Artificial Intelligence'\")\n",
    "# Your code here\n",
    "\n",
    "# Question 9: Convert \"UPPERCASE\" to lowercase\n",
    "print(\"\\nQuestion 9: Convert 'UPPERCASE' to lowercase\")\n",
    "# Your code here\n",
    "\n",
    "# Question 10: Remove all vowels from \"Computer Science\"\n",
    "print(\"\\nQuestion 10: Remove all vowels from 'Computer Science'\")\n",
    "# Your code here\n",
    "\n",
    "# Question 11: Find the most frequent character in \"mississippi\"\n",
    "print(\"\\nQuestion 11: Find the most frequent character in 'mississippi'\")\n",
    "# Your code here\n",
    "\n",
    "# Question 12: Check if two strings are anagrams: \"listen\" and \"silent\"\n",
    "print(\"\\nQuestion 12: Check if two strings are anagrams: 'listen' and 'silent'\")\n",
    "# Your code here\n",
    "\n",
    "# Question 13: Capitalize first letter of each word in \"python programming language\"\n",
    "print(\"\\nQuestion 13: Capitalize first letter of each word in 'python programming language'\")\n",
    "# Your code here\n",
    "\n",
    "# Question 14: Count consonants in \"Hello World\"\n",
    "print(\"\\nQuestion 14: Count consonants in 'Hello World'\")\n",
    "# Your code here\n",
    "\n",
    "# Question 15: Find the longest word in \"Python is a programming language\"\n",
    "print(\"\\nQuestion 15: Find the longest word in 'Python is a programming language'\")\n",
    "# Your code here\n",
    "\n",
    "# Question 16: Remove all punctuation from \"Hello, World! How are you?\"\n",
    "print(\"\\nQuestion 16: Remove all punctuation from 'Hello, World! How are you?'\")\n",
    "# Your code here\n",
    "\n",
    "# Question 17: Check if string starts with \"Python\"\n",
    "print(\"\\nQuestion 17: Check if string starts with 'Python'\")\n",
    "# Your code here\n",
    "\n",
    "# Question 18: Find the index of first occurrence of 'o' in \"Hello World\"\n",
    "print(\"\\nQuestion 18: Find the index of first occurrence of 'o' in 'Hello World'\")\n",
    "# Your code here\n",
    "\n",
    "# Question 19: Split string \"apple,banana,orange\" by comma\n",
    "print(\"\\nQuestion 19: Split string 'apple,banana,orange' by comma\")\n",
    "# Your code here\n",
    "\n",
    "# Question 20: Join list ['Python', 'is', 'awesome'] with spaces\n",
    "print(\"\\nQuestion 20: Join list ['Python', 'is', 'awesome'] with spaces\")\n",
    "# Your code here\n",
    "\n",
    "# Question 21: Check if string contains only digits: \"12345\"\n",
    "print(\"\\nQuestion 21: Check if string contains only digits: '12345'\")\n",
    "# Your code here\n",
    "\n",
    "# Question 22: Check if string contains only letters: \"HelloWorld\"\n",
    "print(\"\\nQuestion 22: Check if string contains only letters: 'HelloWorld'\")\n",
    "# Your code here\n",
    "\n",
    "# Question 23: Convert \"hello world\" to \"hElLo WoRlD\" (alternating case)\n",
    "print(\"\\nQuestion 23: Convert 'hello world' to 'hElLo WoRlD' (alternating case)\")\n",
    "# Your code here\n",
    "\n",
    "# Question 24: Find all positions of 'a' in \"banana\"\n",
    "print(\"\\nQuestion 24: Find all positions of 'a' in 'banana'\")\n",
    "# Your code here\n",
    "\n",
    "# Question 25: Remove leading and trailing whitespace from \"  Hello World  \"\n",
    "print(\"\\nQuestion 25: Remove leading and trailing whitespace from '  Hello World  '\")\n",
    "# Your code here\n",
    "\n",
    "# Question 26: Check if string ends with \"ing\": \"programming\"\n",
    "print(\"\\nQuestion 26: Check if string ends with 'ing': 'programming'\")\n",
    "# Your code here\n",
    "\n",
    "# Question 27: Replace first occurrence of 'o' with '0' in \"Hello World\"\n",
    "print(\"\\nQuestion 27: Replace first occurrence of 'o' with '0' in 'Hello World'\")\n",
    "# Your code here\n",
    "\n",
    "# Question 28: Find the shortest word in \"Python is a programming language\"\n",
    "print(\"\\nQuestion 28: Find the shortest word in 'Python is a programming language'\")\n",
    "# Your code here\n",
    "\n",
    "# Question 29: Count words that start with 'p' in \"Python programming is powerful\"\n",
    "print(\"\\nQuestion 29: Count words that start with 'p' in 'Python programming is powerful'\")\n",
    "# Your code here\n",
    "\n",
    "# Question 30: Reverse words in \"Hello World Python\"\n",
    "print(\"\\nQuestion 30: Reverse words in 'Hello World Python'\")\n",
    "# Your code here\n",
    "\n",
    "# Question 31: Check if string is a valid email format: \"user@example.com\"\n",
    "print(\"\\nQuestion 31: Check if string is a valid email format: 'user@example.com'\")\n",
    "# Your code here\n",
    "\n",
    "# Question 32: Extract domain from \"https://www.example.com/path\"\n",
    "print(\"\\nQuestion 32: Extract domain from 'https://www.example.com/path'\")\n",
    "# Your code here\n",
    "\n",
    "# Question 33: Count lines in multi-line string\n",
    "print(\"\\nQuestion 33: Count lines in multi-line string\")\n",
    "# Your code here\n",
    "\n",
    "# Question 34: Find common characters between \"hello\" and \"world\"\n",
    "print(\"\\nQuestion 34: Find common characters between 'hello' and 'world'\")\n",
    "# Your code here\n",
    "\n",
    "# Question 35: Check if string is a valid phone number: \"+1-555-123-4567\"\n",
    "print(\"\\nQuestion 35: Check if string is a valid phone number: '+1-555-123-4567'\")\n",
    "# Your code here\n",
    "\n",
    "# Question 36: Extract numbers from \"abc123def456ghi789\"\n",
    "print(\"\\nQuestion 36: Extract numbers from 'abc123def456ghi789'\")\n",
    "# Your code here\n",
    "\n",
    "# Question 37: Convert \"snake_case\" to \"camelCase\"\n",
    "print(\"\\nQuestion 37: Convert 'snake_case' to 'camelCase'\")\n",
    "# Your code here\n",
    "\n",
    "# Question 38: Check if string is a valid palindrome ignoring case: \"A man a plan a canal Panama\"\n",
    "print(\"\\nQuestion 38: Check if string is a valid palindrome ignoring case: 'A man a plan a canal Panama'\")\n",
    "# Your code here\n",
    "\n",
    "# Question 39: Find the most common word in \"the quick brown fox jumps over the lazy dog\"\n",
    "print(\"\\nQuestion 39: Find the most common word in 'the quick brown fox jumps over the lazy dog'\")\n",
    "# Your code here\n",
    "\n",
    "# Question 40: Generate acronym from \"National Aeronautics and Space Administration\"\n",
    "print(\"\\nQuestion 40: Generate acronym from 'National Aeronautics and Space Administration'\")\n",
    "# Your code here\n",
    "\n",
    "# Question 41: Check if string contains balanced parentheses: \"((()))\"\n",
    "print(\"\\nQuestion 41: Check if string contains balanced parentheses: '((()))'\")\n",
    "# Your code here\n",
    "\n",
    "# Question 42: Convert \"hello world\" to Morse code\n",
    "print(\"\\nQuestion 42: Convert 'hello world' to Morse code\")\n",
    "# Your code here\n",
    "\n",
    "# Question 43: Find the longest common substring between \"programming\" and \"grammar\"\n",
    "print(\"\\nQuestion 43: Find the longest common substring between 'programming' and 'grammar'\")\n",
    "# Your code here\n",
    "\n",
    "# Question 44: Check if string is a valid URL: \"https://www.google.com\"\n",
    "print(\"\\nQuestion 44: Check if string is a valid URL: 'https://www.google.com'\")\n",
    "# Your code here\n",
    "\n",
    "# Question 45: Extract all words with length > 5 from \"Python programming is amazing and powerful\"\n",
    "print(\"\\nQuestion 45: Extract all words with length > 5 from 'Python programming is amazing and powerful'\")\n",
    "# Your code here\n",
    "\n",
    "# Question 46: Convert \"hello world\" to Pig Latin\n",
    "print(\"\\nQuestion 46: Convert 'hello world' to Pig Latin\")\n",
    "# Your code here\n",
    "\n",
    "# Question 47: Check if string is a valid IPv4 address: \"192.168.1.1\"\n",
    "print(\"\\nQuestion 47: Check if string is a valid IPv4 address: '192.168.1.1'\")\n",
    "# Your code here\n",
    "\n",
    "# Question 48: Find all substrings of \"abc\"\n",
    "print(\"\\nQuestion 48: Find all substrings of 'abc'\")\n",
    "# Your code here\n",
    "\n",
    "# Question 49: Convert \"hello world\" to ROT13 encoding\n",
    "print(\"\\nQuestion 49: Convert 'hello world' to ROT13 encoding\")\n",
    "# Your code here\n",
    "\n",
    "# Question 50: Check if string is a valid credit card number: \"4532015112830366\"\n",
    "print(\"\\nQuestion 50: Check if string is a valid credit card number: '4532015112830366'\")\n",
    "# Your code here "
   ]
  },
  {
   "cell_type": "code",
   "execution_count": 1,
   "id": "b6b38247",
   "metadata": {},
   "outputs": [
    {
     "name": "stdout",
     "output_type": "stream",
     "text": [
      "Question 1: Reverse the string 'Python Programming'\n",
      "Reversed: gnimmargorP nohtyP\n"
     ]
    }
   ],
   "source": [
    "print(\"Question 1: Reverse the string 'Python Programming'\")\n",
    "text = \"Python Programming\"\n",
    "reversed_text = text[::-1]\n",
    "print(\"Reversed:\", reversed_text)"
   ]
  },
  {
   "cell_type": "code",
   "execution_count": 2,
   "id": "c58ffc05",
   "metadata": {},
   "outputs": [
    {
     "name": "stdout",
     "output_type": "stream",
     "text": [
      "\n",
      "Question 2: Check if 'racecar' is a palindrome\n",
      "Is palindrome? True\n"
     ]
    }
   ],
   "source": [
    "print(\"\\nQuestion 2: Check if 'racecar' is a palindrome\")\n",
    "word = \"racecar\"\n",
    "is_palindrome = word == word[::-1]\n",
    "print(\"Is palindrome?\", is_palindrome)"
   ]
  },
  {
   "cell_type": "code",
   "execution_count": 3,
   "id": "545764fa",
   "metadata": {},
   "outputs": [
    {
     "name": "stdout",
     "output_type": "stream",
     "text": [
      "\n",
      "Question 3: Count the number of words in 'Python is a great programming language'\n",
      "Word count: 6\n"
     ]
    }
   ],
   "source": [
    "print(\"\\nQuestion 3: Count the number of words in 'Python is a great programming language'\")\n",
    "sentence = \"Python is a great programming language\"\n",
    "word_count = len(sentence.split())\n",
    "print(\"Word count:\", word_count)"
   ]
  },
  {
   "cell_type": "code",
   "execution_count": 4,
   "id": "f12ae9d6",
   "metadata": {},
   "outputs": [
    {
     "name": "stdout",
     "output_type": "stream",
     "text": [
      "\n",
      "Question 4: Convert 'hello world' to title case\n",
      "Title case: Hello World\n"
     ]
    }
   ],
   "source": [
    "print(\"\\nQuestion 4: Convert 'hello world' to title case\")\n",
    "text = \"hello world\"\n",
    "title_case = text.title()\n",
    "print(\"Title case:\", title_case)"
   ]
  },
  {
   "cell_type": "code",
   "execution_count": 5,
   "id": "7d82d42c",
   "metadata": {},
   "outputs": [
    {
     "name": "stdout",
     "output_type": "stream",
     "text": [
      "\n",
      "Question 5: Find the length of string 'Data Science'\n",
      "Length: 12\n"
     ]
    }
   ],
   "source": [
    "print(\"\\nQuestion 5: Find the length of string 'Data Science'\")\n",
    "text = \"Data Science\"\n",
    "length = len(text)\n",
    "print(\"Length:\", length)"
   ]
  },
  {
   "cell_type": "code",
   "execution_count": 6,
   "id": "a536ad1f",
   "metadata": {},
   "outputs": [
    {
     "name": "stdout",
     "output_type": "stream",
     "text": [
      "\n",
      "Question 6: Replace all spaces with underscores in 'Machine Learning'\n",
      "With underscores: Machine_Learning\n"
     ]
    }
   ],
   "source": [
    "print(\"\\nQuestion 6: Replace all spaces with underscores in 'Machine Learning'\")\n",
    "text = \"Machine Learning\"\n",
    "replaced = text.replace(\" \", \"_\")\n",
    "print(\"With underscores:\", replaced)"
   ]
  },
  {
   "cell_type": "code",
   "execution_count": 8,
   "id": "f5317bf4",
   "metadata": {},
   "outputs": [
    {
     "name": "stdout",
     "output_type": "stream",
     "text": [
      "\n",
      "Question 7: Check if 'python' is in 'Python Programming Language'\n",
      "Contains 'python'? ->  True\n"
     ]
    }
   ],
   "source": [
    "print(\"\\nQuestion 7: Check if 'python' is in 'Python Programming Language'\")\n",
    "text = \"Python Programming Language\"\n",
    "is_present = \"python\" in text.lower()\n",
    "print(\"Contains 'python'? -> \", is_present)"
   ]
  },
  {
   "cell_type": "code",
   "execution_count": 9,
   "id": "c58efa4e",
   "metadata": {},
   "outputs": [
    {
     "name": "stdout",
     "output_type": "stream",
     "text": [
      "\n",
      "Question 8: Extract the first 5 characters from 'Artificial Intelligence'\n",
      "First 5 characters: Artif\n"
     ]
    }
   ],
   "source": [
    "print(\"\\nQuestion 8: Extract the first 5 characters from 'Artificial Intelligence'\")\n",
    "text = \"Artificial Intelligence\"\n",
    "first_five = text[:5]\n",
    "print(\"First 5 characters:\", first_five)"
   ]
  },
  {
   "cell_type": "code",
   "execution_count": 10,
   "id": "3d77a5e7",
   "metadata": {},
   "outputs": [
    {
     "name": "stdout",
     "output_type": "stream",
     "text": [
      "\n",
      "Question 9: Convert 'UPPERCASE' to lowercase\n",
      "Lowercase: uppercase\n"
     ]
    }
   ],
   "source": [
    "print(\"\\nQuestion 9: Convert 'UPPERCASE' to lowercase\")\n",
    "text = \"UPPERCASE\"\n",
    "lowercase = text.lower()\n",
    "print(\"Lowercase:\", lowercase)"
   ]
  },
  {
   "cell_type": "code",
   "execution_count": 11,
   "id": "c9770a53",
   "metadata": {},
   "outputs": [
    {
     "name": "stdout",
     "output_type": "stream",
     "text": [
      "Without vowels: Cmptr Scnc\n"
     ]
    }
   ],
   "source": [
    "text = \"Computer Science\"\n",
    "vowels = \"aeiouAEIOU\"\n",
    "result = \"\"\n",
    "\n",
    "for char in text:\n",
    "    if char not in vowels:\n",
    "        result += char\n",
    "\n",
    "print(\"Without vowels:\", result)"
   ]
  },
  {
   "cell_type": "code",
   "execution_count": 16,
   "id": "188caa46",
   "metadata": {},
   "outputs": [
    {
     "name": "stdout",
     "output_type": "stream",
     "text": [
      "\n",
      "Question 11: Find the most frequent character in 'mississippi'\n",
      "('i', 4)\n",
      "Most frequent character: i → 4 times\n"
     ]
    }
   ],
   "source": [
    "print(\"\\nQuestion 11: Find the most frequent character in 'mississippi'\")\n",
    "from collections import Counter\n",
    "text = \"mississippi\"\n",
    "counter = Counter(text)\n",
    "most_frequent = counter.most_common(1)[0]\n",
    "print(most_frequent)\n",
    "print(\"Most frequent character:\", most_frequent[0], \"→\", most_frequent[1], \"times\")"
   ]
  },
  {
   "cell_type": "code",
   "execution_count": 17,
   "id": "0c7a4b9e",
   "metadata": {},
   "outputs": [
    {
     "name": "stdout",
     "output_type": "stream",
     "text": [
      "\n",
      "Question 12: Check if two strings are anagrams: 'listen' and 'silent'\n",
      "Are anagrams? True\n"
     ]
    }
   ],
   "source": [
    "print(\"\\nQuestion 12: Check if two strings are anagrams: 'listen' and 'silent'\")\n",
    "str1 = \"listen\"\n",
    "str2 = \"silent\"\n",
    "is_anagram = sorted(str1) == sorted(str2)\n",
    "print(\"Are anagrams?\", is_anagram)"
   ]
  },
  {
   "cell_type": "code",
   "execution_count": 18,
   "id": "57506ffd",
   "metadata": {},
   "outputs": [
    {
     "name": "stdout",
     "output_type": "stream",
     "text": [
      "\n",
      "Question 13: Capitalize first letter of each word in 'python programming language'\n",
      "Capitalized: Python Programming Language\n"
     ]
    }
   ],
   "source": [
    "print(\"\\nQuestion 13: Capitalize first letter of each word in 'python programming language'\")\n",
    "text = \"python programming language\"\n",
    "capitalized = text.title()\n",
    "print(\"Capitalized:\", capitalized)"
   ]
  },
  {
   "cell_type": "code",
   "execution_count": 19,
   "id": "967f3819",
   "metadata": {},
   "outputs": [
    {
     "name": "stdout",
     "output_type": "stream",
     "text": [
      "Consonant count: 7\n"
     ]
    }
   ],
   "source": [
    "text = \"Hello World\"\n",
    "vowels = \"aeiouAEIOU\"\n",
    "\n",
    "count = 0\n",
    "for ch in text:\n",
    "    if ch.isalpha() and ch not in vowels:\n",
    "        count += 1\n",
    "\n",
    "print(\"Consonant count:\", count)"
   ]
  },
  {
   "cell_type": "code",
   "execution_count": 20,
   "id": "ac9d1107",
   "metadata": {},
   "outputs": [
    {
     "name": "stdout",
     "output_type": "stream",
     "text": [
      "\n",
      "Question 15: Find the longest word in 'Python is a programming language'\n",
      "Longest word: programming\n"
     ]
    }
   ],
   "source": [
    "print(\"\\nQuestion 15: Find the longest word in 'Python is a programming language'\")\n",
    "text = \"Python is a programming language\"\n",
    "words = text.split()\n",
    "longest = max(words, key=len)\n",
    "print(\"Longest word:\", longest)"
   ]
  },
  {
   "cell_type": "code",
   "execution_count": 21,
   "id": "45818540",
   "metadata": {},
   "outputs": [
    {
     "name": "stdout",
     "output_type": "stream",
     "text": [
      "Without punctuation: Hello World How are you\n"
     ]
    }
   ],
   "source": [
    "import string\n",
    "\n",
    "text = \"Hello, World! How are you?\"\n",
    "result = \"\"\n",
    "\n",
    "for ch in text:\n",
    "    if ch not in string.punctuation:\n",
    "        result += ch\n",
    "\n",
    "print(\"Without punctuation:\", result)"
   ]
  },
  {
   "cell_type": "code",
   "execution_count": 22,
   "id": "f87799a2",
   "metadata": {},
   "outputs": [
    {
     "name": "stdout",
     "output_type": "stream",
     "text": [
      "\n",
      "Question 17: Check if string starts with 'Python'\n",
      "Starts with 'Python'? True\n"
     ]
    }
   ],
   "source": [
    "print(\"\\nQuestion 17: Check if string starts with 'Python'\")\n",
    "text = \"Python is amazing\"\n",
    "starts_with = text.startswith(\"Python\")\n",
    "print(\"Starts with 'Python'?\", starts_with)"
   ]
  },
  {
   "cell_type": "code",
   "execution_count": 23,
   "id": "1fce1dd1",
   "metadata": {},
   "outputs": [
    {
     "name": "stdout",
     "output_type": "stream",
     "text": [
      "\n",
      "Question 18: Find the index of first occurrence of 'o' in 'Hello World'\n",
      "First index of 'o': 4\n"
     ]
    }
   ],
   "source": [
    "print(\"\\nQuestion 18: Find the index of first occurrence of 'o' in 'Hello World'\")\n",
    "text = \"Hello World\"\n",
    "index = text.find('o')\n",
    "print(\"First index of 'o':\", index)"
   ]
  },
  {
   "cell_type": "code",
   "execution_count": 24,
   "id": "08f35501",
   "metadata": {},
   "outputs": [
    {
     "name": "stdout",
     "output_type": "stream",
     "text": [
      "\n",
      "Question 19: Split string 'apple,banana,orange' by comma\n",
      "Split list: ['apple', 'banana', 'orange']\n"
     ]
    }
   ],
   "source": [
    "print(\"\\nQuestion 19: Split string 'apple,banana,orange' by comma\")\n",
    "text = \"apple,banana,orange\"\n",
    "fruits = text.split(\",\")\n",
    "print(\"Split list:\", fruits)"
   ]
  },
  {
   "cell_type": "code",
   "execution_count": 25,
   "id": "57a97657",
   "metadata": {},
   "outputs": [
    {
     "name": "stdout",
     "output_type": "stream",
     "text": [
      "\n",
      "Question 20: Join list ['Python', 'is', 'awesome'] with spaces\n",
      "Joined string: Python is awesome\n"
     ]
    }
   ],
   "source": [
    "print(\"\\nQuestion 20: Join list ['Python', 'is', 'awesome'] with spaces\")\n",
    "words = ['Python', 'is', 'awesome']\n",
    "joined = \" \".join(words)\n",
    "print(\"Joined string:\", joined)"
   ]
  },
  {
   "cell_type": "code",
   "execution_count": null,
   "id": "3e6dbbdc",
   "metadata": {},
   "outputs": [],
   "source": []
  }
 ],
 "metadata": {
  "kernelspec": {
   "display_name": "Python 3",
   "language": "python",
   "name": "python3"
  },
  "language_info": {
   "codemirror_mode": {
    "name": "ipython",
    "version": 3
   },
   "file_extension": ".py",
   "mimetype": "text/x-python",
   "name": "python",
   "nbconvert_exporter": "python",
   "pygments_lexer": "ipython3",
   "version": "3.13.2"
  }
 },
 "nbformat": 4,
 "nbformat_minor": 5
}
