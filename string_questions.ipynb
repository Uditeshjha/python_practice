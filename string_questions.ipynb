{
 "cells": [
  {
   "cell_type": "markdown",
   "id": "8280c64e",
   "metadata": {},
   "source": [
    "# STRING DATATYPE ASSIGNMENT - 50 QUESTIONS\n",
    "# ========================================\n",
    "\n",
    "# SOLVED EXAMPLE\n",
    "# --------------\n",
    "# Question: Count vowels in the string \"Hello World\"\n",
    "print(\"SOLVED EXAMPLE:\")\n",
    "print(\"Count vowels in the string 'Hello World'\")\n",
    "text = \"Hello World\"\n",
    "vowels = \"aeiouAEIOU\"\n",
    "count = sum(1 for char in text if char in vowels)\n",
    "print(f\"String: {text}\")\n",
    "print(f\"Number of vowels: {count}\")\n",
    "print(\"-\" * 50)\n",
    "\n",
    "# ASSIGNMENT QUESTIONS (50 QUESTIONS)\n",
    "# ==================================\n",
    "\n",
    "# Question 1: Reverse the string \"Python Programming\"\n",
    "print(\"Question 1: Reverse the string 'Python Programming'\")\n",
    "# Your code here\n",
    "\n",
    "# Question 2: Check if \"racecar\" is a palindrome\n",
    "print(\"\\nQuestion 2: Check if 'racecar' is a palindrome\")\n",
    "# Your code here\n",
    "\n",
    "# Question 3: Count the number of words in \"Python is a great programming language\"\n",
    "print(\"\\nQuestion 3: Count the number of words in 'Python is a great programming language'\")\n",
    "# Your code here\n",
    "\n",
    "# Question 4: Convert \"hello world\" to title case\n",
    "print(\"\\nQuestion 4: Convert 'hello world' to title case\")\n",
    "# Your code here\n",
    "\n",
    "# Question 5: Find the length of string \"Data Science\"\n",
    "print(\"\\nQuestion 5: Find the length of string 'Data Science'\")\n",
    "# Your code here\n",
    "\n",
    "# Question 6: Replace all spaces with underscores in \"Machine Learning\"\n",
    "print(\"\\nQuestion 6: Replace all spaces with underscores in 'Machine Learning'\")\n",
    "# Your code here\n",
    "\n",
    "# Question 7: Check if \"python\" is in \"Python Programming Language\"\n",
    "print(\"\\nQuestion 7: Check if 'python' is in 'Python Programming Language'\")\n",
    "# Your code here\n",
    "\n",
    "# Question 8: Extract the first 5 characters from \"Artificial Intelligence\"\n",
    "print(\"\\nQuestion 8: Extract the first 5 characters from 'Artificial Intelligence'\")\n",
    "# Your code here\n",
    "\n",
    "# Question 9: Convert \"UPPERCASE\" to lowercase\n",
    "print(\"\\nQuestion 9: Convert 'UPPERCASE' to lowercase\")\n",
    "# Your code here\n",
    "\n",
    "# Question 10: Remove all vowels from \"Computer Science\"\n",
    "print(\"\\nQuestion 10: Remove all vowels from 'Computer Science'\")\n",
    "# Your code here\n",
    "\n",
    "# Question 11: Find the most frequent character in \"mississippi\"\n",
    "print(\"\\nQuestion 11: Find the most frequent character in 'mississippi'\")\n",
    "# Your code here\n",
    "\n",
    "# Question 12: Check if two strings are anagrams: \"listen\" and \"silent\"\n",
    "print(\"\\nQuestion 12: Check if two strings are anagrams: 'listen' and 'silent'\")\n",
    "# Your code here\n",
    "\n",
    "# Question 13: Capitalize first letter of each word in \"python programming language\"\n",
    "print(\"\\nQuestion 13: Capitalize first letter of each word in 'python programming language'\")\n",
    "# Your code here\n",
    "\n",
    "# Question 14: Count consonants in \"Hello World\"\n",
    "print(\"\\nQuestion 14: Count consonants in 'Hello World'\")\n",
    "# Your code here\n",
    "\n",
    "# Question 15: Find the longest word in \"Python is a programming language\"\n",
    "print(\"\\nQuestion 15: Find the longest word in 'Python is a programming language'\")\n",
    "# Your code here\n",
    "\n",
    "# Question 16: Remove all punctuation from \"Hello, World! How are you?\"\n",
    "print(\"\\nQuestion 16: Remove all punctuation from 'Hello, World! How are you?'\")\n",
    "# Your code here\n",
    "\n",
    "# Question 17: Check if string starts with \"Python\"\n",
    "print(\"\\nQuestion 17: Check if string starts with 'Python'\")\n",
    "# Your code here\n",
    "\n",
    "# Question 18: Find the index of first occurrence of 'o' in \"Hello World\"\n",
    "print(\"\\nQuestion 18: Find the index of first occurrence of 'o' in 'Hello World'\")\n",
    "# Your code here\n",
    "\n",
    "# Question 19: Split string \"apple,banana,orange\" by comma\n",
    "print(\"\\nQuestion 19: Split string 'apple,banana,orange' by comma\")\n",
    "# Your code here\n",
    "\n",
    "# Question 20: Join list ['Python', 'is', 'awesome'] with spaces\n",
    "print(\"\\nQuestion 20: Join list ['Python', 'is', 'awesome'] with spaces\")\n",
    "# Your code here\n",
    "\n",
    "# Question 21: Check if string contains only digits: \"12345\"\n",
    "print(\"\\nQuestion 21: Check if string contains only digits: '12345'\")\n",
    "# Your code here\n",
    "\n",
    "# Question 22: Check if string contains only letters: \"HelloWorld\"\n",
    "print(\"\\nQuestion 22: Check if string contains only letters: 'HelloWorld'\")\n",
    "# Your code here\n",
    "\n",
    "# Question 23: Convert \"hello world\" to \"hElLo WoRlD\" (alternating case)\n",
    "print(\"\\nQuestion 23: Convert 'hello world' to 'hElLo WoRlD' (alternating case)\")\n",
    "# Your code here\n",
    "\n",
    "# Question 24: Find all positions of 'a' in \"banana\"\n",
    "print(\"\\nQuestion 24: Find all positions of 'a' in 'banana'\")\n",
    "# Your code here\n",
    "\n",
    "# Question 25: Remove leading and trailing whitespace from \"  Hello World  \"\n",
    "print(\"\\nQuestion 25: Remove leading and trailing whitespace from '  Hello World  '\")\n",
    "# Your code here\n",
    "\n",
    "# Question 26: Check if string ends with \"ing\": \"programming\"\n",
    "print(\"\\nQuestion 26: Check if string ends with 'ing': 'programming'\")\n",
    "# Your code here\n",
    "\n",
    "# Question 27: Replace first occurrence of 'o' with '0' in \"Hello World\"\n",
    "print(\"\\nQuestion 27: Replace first occurrence of 'o' with '0' in 'Hello World'\")\n",
    "# Your code here\n",
    "\n",
    "# Question 28: Find the shortest word in \"Python is a programming language\"\n",
    "print(\"\\nQuestion 28: Find the shortest word in 'Python is a programming language'\")\n",
    "# Your code here\n",
    "\n",
    "# Question 29: Count words that start with 'p' in \"Python programming is powerful\"\n",
    "print(\"\\nQuestion 29: Count words that start with 'p' in 'Python programming is powerful'\")\n",
    "# Your code here\n",
    "\n",
    "# Question 30: Reverse words in \"Hello World Python\"\n",
    "print(\"\\nQuestion 30: Reverse words in 'Hello World Python'\")\n",
    "# Your code here\n",
    "\n",
    "# Question 31: Check if string is a valid email format: \"user@example.com\"\n",
    "print(\"\\nQuestion 31: Check if string is a valid email format: 'user@example.com'\")\n",
    "# Your code here\n",
    "\n",
    "# Question 32: Extract domain from \"https://www.example.com/path\"\n",
    "print(\"\\nQuestion 32: Extract domain from 'https://www.example.com/path'\")\n",
    "# Your code here\n",
    "\n",
    "# Question 33: Count lines in multi-line string\n",
    "print(\"\\nQuestion 33: Count lines in multi-line string\")\n",
    "# Your code here\n",
    "\n",
    "# Question 34: Find common characters between \"hello\" and \"world\"\n",
    "print(\"\\nQuestion 34: Find common characters between 'hello' and 'world'\")\n",
    "# Your code here\n",
    "\n",
    "# Question 35: Check if string is a valid phone number: \"+1-555-123-4567\"\n",
    "print(\"\\nQuestion 35: Check if string is a valid phone number: '+1-555-123-4567'\")\n",
    "# Your code here\n",
    "\n",
    "# Question 36: Extract numbers from \"abc123def456ghi789\"\n",
    "print(\"\\nQuestion 36: Extract numbers from 'abc123def456ghi789'\")\n",
    "# Your code here\n",
    "\n",
    "# Question 37: Convert \"snake_case\" to \"camelCase\"\n",
    "print(\"\\nQuestion 37: Convert 'snake_case' to 'camelCase'\")\n",
    "# Your code here\n",
    "\n",
    "# Question 38: Check if string is a valid palindrome ignoring case: \"A man a plan a canal Panama\"\n",
    "print(\"\\nQuestion 38: Check if string is a valid palindrome ignoring case: 'A man a plan a canal Panama'\")\n",
    "# Your code here\n",
    "\n",
    "# Question 39: Find the most common word in \"the quick brown fox jumps over the lazy dog\"\n",
    "print(\"\\nQuestion 39: Find the most common word in 'the quick brown fox jumps over the lazy dog'\")\n",
    "# Your code here\n",
    "\n",
    "# Question 40: Generate acronym from \"National Aeronautics and Space Administration\"\n",
    "print(\"\\nQuestion 40: Generate acronym from 'National Aeronautics and Space Administration'\")\n",
    "# Your code here\n",
    "\n",
    "# Question 41: Check if string contains balanced parentheses: \"((()))\"\n",
    "print(\"\\nQuestion 41: Check if string contains balanced parentheses: '((()))'\")\n",
    "# Your code here\n",
    "\n",
    "# Question 42: Convert \"hello world\" to Morse code\n",
    "print(\"\\nQuestion 42: Convert 'hello world' to Morse code\")\n",
    "# Your code here\n",
    "\n",
    "# Question 43: Find the longest common substring between \"programming\" and \"grammar\"\n",
    "print(\"\\nQuestion 43: Find the longest common substring between 'programming' and 'grammar'\")\n",
    "# Your code here\n",
    "\n",
    "# Question 44: Check if string is a valid URL: \"https://www.google.com\"\n",
    "print(\"\\nQuestion 44: Check if string is a valid URL: 'https://www.google.com'\")\n",
    "# Your code here\n",
    "\n",
    "# Question 45: Extract all words with length > 5 from \"Python programming is amazing and powerful\"\n",
    "print(\"\\nQuestion 45: Extract all words with length > 5 from 'Python programming is amazing and powerful'\")\n",
    "# Your code here\n",
    "\n",
    "# Question 46: Convert \"hello world\" to Pig Latin\n",
    "print(\"\\nQuestion 46: Convert 'hello world' to Pig Latin\")\n",
    "# Your code here\n",
    "\n",
    "# Question 47: Check if string is a valid IPv4 address: \"192.168.1.1\"\n",
    "print(\"\\nQuestion 47: Check if string is a valid IPv4 address: '192.168.1.1'\")\n",
    "# Your code here\n",
    "\n",
    "# Question 48: Find all substrings of \"abc\"\n",
    "print(\"\\nQuestion 48: Find all substrings of 'abc'\")\n",
    "# Your code here\n",
    "\n",
    "# Question 49: Convert \"hello world\" to ROT13 encoding\n",
    "print(\"\\nQuestion 49: Convert 'hello world' to ROT13 encoding\")\n",
    "# Your code here\n",
    "\n",
    "# Question 50: Check if string is a valid credit card number: \"4532015112830366\"\n",
    "print(\"\\nQuestion 50: Check if string is a valid credit card number: '4532015112830366'\")\n",
    "# Your code here "
   ]
  },
  {
   "cell_type": "code",
   "execution_count": 1,
   "id": "b6b38247",
   "metadata": {},
   "outputs": [
    {
     "name": "stdout",
     "output_type": "stream",
     "text": [
      "Question 1: Reverse the string 'Python Programming'\n",
      "Reversed: gnimmargorP nohtyP\n"
     ]
    }
   ],
   "source": [
    "print(\"Question 1: Reverse the string 'Python Programming'\")\n",
    "text = \"Python Programming\"\n",
    "reversed_text = text[::-1]\n",
    "print(\"Reversed:\", reversed_text)"
   ]
  },
  {
   "cell_type": "code",
   "execution_count": 2,
   "id": "c58ffc05",
   "metadata": {},
   "outputs": [
    {
     "name": "stdout",
     "output_type": "stream",
     "text": [
      "\n",
      "Question 2: Check if 'racecar' is a palindrome\n",
      "Is palindrome? True\n"
     ]
    }
   ],
   "source": [
    "print(\"\\nQuestion 2: Check if 'racecar' is a palindrome\")\n",
    "word = \"racecar\"\n",
    "is_palindrome = word == word[::-1]\n",
    "print(\"Is palindrome?\", is_palindrome)"
   ]
  },
  {
   "cell_type": "code",
   "execution_count": 3,
   "id": "545764fa",
   "metadata": {},
   "outputs": [
    {
     "name": "stdout",
     "output_type": "stream",
     "text": [
      "\n",
      "Question 3: Count the number of words in 'Python is a great programming language'\n",
      "Word count: 6\n"
     ]
    }
   ],
   "source": [
    "print(\"\\nQuestion 3: Count the number of words in 'Python is a great programming language'\")\n",
    "sentence = \"Python is a great programming language\"\n",
    "word_count = len(sentence.split())\n",
    "print(\"Word count:\", word_count)"
   ]
  },
  {
   "cell_type": "code",
   "execution_count": 4,
   "id": "f12ae9d6",
   "metadata": {},
   "outputs": [
    {
     "name": "stdout",
     "output_type": "stream",
     "text": [
      "\n",
      "Question 4: Convert 'hello world' to title case\n",
      "Title case: Hello World\n"
     ]
    }
   ],
   "source": [
    "print(\"\\nQuestion 4: Convert 'hello world' to title case\")\n",
    "text = \"hello world\"\n",
    "title_case = text.title()\n",
    "print(\"Title case:\", title_case)"
   ]
  },
  {
   "cell_type": "code",
   "execution_count": 5,
   "id": "7d82d42c",
   "metadata": {},
   "outputs": [
    {
     "name": "stdout",
     "output_type": "stream",
     "text": [
      "\n",
      "Question 5: Find the length of string 'Data Science'\n",
      "Length: 12\n"
     ]
    }
   ],
   "source": [
    "print(\"\\nQuestion 5: Find the length of string 'Data Science'\")\n",
    "text = \"Data Science\"\n",
    "length = len(text)\n",
    "print(\"Length:\", length)"
   ]
  },
  {
   "cell_type": "code",
   "execution_count": 6,
   "id": "a536ad1f",
   "metadata": {},
   "outputs": [
    {
     "name": "stdout",
     "output_type": "stream",
     "text": [
      "\n",
      "Question 6: Replace all spaces with underscores in 'Machine Learning'\n",
      "With underscores: Machine_Learning\n"
     ]
    }
   ],
   "source": [
    "print(\"\\nQuestion 6: Replace all spaces with underscores in 'Machine Learning'\")\n",
    "text = \"Machine Learning\"\n",
    "replaced = text.replace(\" \", \"_\")\n",
    "print(\"With underscores:\", replaced)"
   ]
  },
  {
   "cell_type": "code",
   "execution_count": 8,
   "id": "f5317bf4",
   "metadata": {},
   "outputs": [
    {
     "name": "stdout",
     "output_type": "stream",
     "text": [
      "\n",
      "Question 7: Check if 'python' is in 'Python Programming Language'\n",
      "Contains 'python'? ->  True\n"
     ]
    }
   ],
   "source": [
    "print(\"\\nQuestion 7: Check if 'python' is in 'Python Programming Language'\")\n",
    "text = \"Python Programming Language\"\n",
    "is_present = \"python\" in text.lower()\n",
    "print(\"Contains 'python'? -> \", is_present)"
   ]
  },
  {
   "cell_type": "code",
   "execution_count": 9,
   "id": "c58efa4e",
   "metadata": {},
   "outputs": [
    {
     "name": "stdout",
     "output_type": "stream",
     "text": [
      "\n",
      "Question 8: Extract the first 5 characters from 'Artificial Intelligence'\n",
      "First 5 characters: Artif\n"
     ]
    }
   ],
   "source": [
    "print(\"\\nQuestion 8: Extract the first 5 characters from 'Artificial Intelligence'\")\n",
    "text = \"Artificial Intelligence\"\n",
    "first_five = text[:5]\n",
    "print(\"First 5 characters:\", first_five)"
   ]
  },
  {
   "cell_type": "code",
   "execution_count": 10,
   "id": "3d77a5e7",
   "metadata": {},
   "outputs": [
    {
     "name": "stdout",
     "output_type": "stream",
     "text": [
      "\n",
      "Question 9: Convert 'UPPERCASE' to lowercase\n",
      "Lowercase: uppercase\n"
     ]
    }
   ],
   "source": [
    "print(\"\\nQuestion 9: Convert 'UPPERCASE' to lowercase\")\n",
    "text = \"UPPERCASE\"\n",
    "lowercase = text.lower()\n",
    "print(\"Lowercase:\", lowercase)"
   ]
  },
  {
   "cell_type": "code",
   "execution_count": 11,
   "id": "c9770a53",
   "metadata": {},
   "outputs": [
    {
     "name": "stdout",
     "output_type": "stream",
     "text": [
      "Without vowels: Cmptr Scnc\n"
     ]
    }
   ],
   "source": [
    "text = \"Computer Science\"\n",
    "vowels = \"aeiouAEIOU\"\n",
    "result = \"\"\n",
    "\n",
    "for char in text:\n",
    "    if char not in vowels:\n",
    "        result += char\n",
    "\n",
    "print(\"Without vowels:\", result)"
   ]
  },
  {
   "cell_type": "code",
   "execution_count": 16,
   "id": "188caa46",
   "metadata": {},
   "outputs": [
    {
     "name": "stdout",
     "output_type": "stream",
     "text": [
      "\n",
      "Question 11: Find the most frequent character in 'mississippi'\n",
      "('i', 4)\n",
      "Most frequent character: i → 4 times\n"
     ]
    }
   ],
   "source": [
    "print(\"\\nQuestion 11: Find the most frequent character in 'mississippi'\")\n",
    "from collections import Counter\n",
    "text = \"mississippi\"\n",
    "counter = Counter(text)\n",
    "most_frequent = counter.most_common(1)[0]\n",
    "print(most_frequent)\n",
    "print(\"Most frequent character:\", most_frequent[0], \"→\", most_frequent[1], \"times\")"
   ]
  },
  {
   "cell_type": "code",
   "execution_count": 17,
   "id": "0c7a4b9e",
   "metadata": {},
   "outputs": [
    {
     "name": "stdout",
     "output_type": "stream",
     "text": [
      "\n",
      "Question 12: Check if two strings are anagrams: 'listen' and 'silent'\n",
      "Are anagrams? True\n"
     ]
    }
   ],
   "source": [
    "print(\"\\nQuestion 12: Check if two strings are anagrams: 'listen' and 'silent'\")\n",
    "str1 = \"listen\"\n",
    "str2 = \"silent\"\n",
    "is_anagram = sorted(str1) == sorted(str2)\n",
    "print(\"Are anagrams?\", is_anagram)"
   ]
  },
  {
   "cell_type": "code",
   "execution_count": 18,
   "id": "57506ffd",
   "metadata": {},
   "outputs": [
    {
     "name": "stdout",
     "output_type": "stream",
     "text": [
      "\n",
      "Question 13: Capitalize first letter of each word in 'python programming language'\n",
      "Capitalized: Python Programming Language\n"
     ]
    }
   ],
   "source": [
    "print(\"\\nQuestion 13: Capitalize first letter of each word in 'python programming language'\")\n",
    "text = \"python programming language\"\n",
    "capitalized = text.title()\n",
    "print(\"Capitalized:\", capitalized)"
   ]
  },
  {
   "cell_type": "code",
   "execution_count": 19,
   "id": "967f3819",
   "metadata": {},
   "outputs": [
    {
     "name": "stdout",
     "output_type": "stream",
     "text": [
      "Consonant count: 7\n"
     ]
    }
   ],
   "source": [
    "text = \"Hello World\"\n",
    "vowels = \"aeiouAEIOU\"\n",
    "\n",
    "count = 0\n",
    "for ch in text:\n",
    "    if ch.isalpha() and ch not in vowels:\n",
    "        count += 1\n",
    "\n",
    "print(\"Consonant count:\", count)"
   ]
  },
  {
   "cell_type": "code",
   "execution_count": 20,
   "id": "ac9d1107",
   "metadata": {},
   "outputs": [
    {
     "name": "stdout",
     "output_type": "stream",
     "text": [
      "\n",
      "Question 15: Find the longest word in 'Python is a programming language'\n",
      "Longest word: programming\n"
     ]
    }
   ],
   "source": [
    "print(\"\\nQuestion 15: Find the longest word in 'Python is a programming language'\")\n",
    "text = \"Python is a programming language\"\n",
    "words = text.split()\n",
    "longest = max(words, key=len)\n",
    "print(\"Longest word:\", longest)"
   ]
  },
  {
   "cell_type": "code",
   "execution_count": 21,
   "id": "45818540",
   "metadata": {},
   "outputs": [
    {
     "name": "stdout",
     "output_type": "stream",
     "text": [
      "Without punctuation: Hello World How are you\n"
     ]
    }
   ],
   "source": [
    "import string\n",
    "\n",
    "text = \"Hello, World! How are you?\"\n",
    "result = \"\"\n",
    "\n",
    "for ch in text:\n",
    "    if ch not in string.punctuation:\n",
    "        result += ch\n",
    "\n",
    "print(\"Without punctuation:\", result)"
   ]
  },
  {
   "cell_type": "code",
   "execution_count": 22,
   "id": "f87799a2",
   "metadata": {},
   "outputs": [
    {
     "name": "stdout",
     "output_type": "stream",
     "text": [
      "\n",
      "Question 17: Check if string starts with 'Python'\n",
      "Starts with 'Python'? True\n"
     ]
    }
   ],
   "source": [
    "print(\"\\nQuestion 17: Check if string starts with 'Python'\")\n",
    "text = \"Python is amazing\"\n",
    "starts_with = text.startswith(\"Python\")\n",
    "print(\"Starts with 'Python'?\", starts_with)"
   ]
  },
  {
   "cell_type": "code",
   "execution_count": 23,
   "id": "1fce1dd1",
   "metadata": {},
   "outputs": [
    {
     "name": "stdout",
     "output_type": "stream",
     "text": [
      "\n",
      "Question 18: Find the index of first occurrence of 'o' in 'Hello World'\n",
      "First index of 'o': 4\n"
     ]
    }
   ],
   "source": [
    "print(\"\\nQuestion 18: Find the index of first occurrence of 'o' in 'Hello World'\")\n",
    "text = \"Hello World\"\n",
    "index = text.find('o')\n",
    "print(\"First index of 'o':\", index)"
   ]
  },
  {
   "cell_type": "code",
   "execution_count": 24,
   "id": "08f35501",
   "metadata": {},
   "outputs": [
    {
     "name": "stdout",
     "output_type": "stream",
     "text": [
      "\n",
      "Question 19: Split string 'apple,banana,orange' by comma\n",
      "Split list: ['apple', 'banana', 'orange']\n"
     ]
    }
   ],
   "source": [
    "print(\"\\nQuestion 19: Split string 'apple,banana,orange' by comma\")\n",
    "text = \"apple,banana,orange\"\n",
    "fruits = text.split(\",\")\n",
    "print(\"Split list:\", fruits)"
   ]
  },
  {
   "cell_type": "code",
   "execution_count": 25,
   "id": "57a97657",
   "metadata": {},
   "outputs": [
    {
     "name": "stdout",
     "output_type": "stream",
     "text": [
      "\n",
      "Question 20: Join list ['Python', 'is', 'awesome'] with spaces\n",
      "Joined string: Python is awesome\n"
     ]
    }
   ],
   "source": [
    "print(\"\\nQuestion 20: Join list ['Python', 'is', 'awesome'] with spaces\")\n",
    "words = ['Python', 'is', 'awesome']\n",
    "joined = \" \".join(words)\n",
    "print(\"Joined string:\", joined)"
   ]
  },
  {
   "cell_type": "code",
   "execution_count": 26,
   "id": "3e6dbbdc",
   "metadata": {},
   "outputs": [
    {
     "name": "stdout",
     "output_type": "stream",
     "text": [
      "\n",
      "Question 21: Check if string contains only digits: '12345'\n",
      "True\n"
     ]
    }
   ],
   "source": [
    "print(\"\\nQuestion 21: Check if string contains only digits: '12345'\")\n",
    "print(\"12345\".isdigit())"
   ]
  },
  {
   "cell_type": "code",
   "execution_count": 27,
   "id": "9cae5e0a",
   "metadata": {},
   "outputs": [
    {
     "name": "stdout",
     "output_type": "stream",
     "text": [
      "\n",
      "Question 22: Check if string contains only letters: 'HelloWorld'\n",
      "True\n"
     ]
    }
   ],
   "source": [
    "print(\"\\nQuestion 22: Check if string contains only letters: 'HelloWorld'\")\n",
    "print(\"HelloWorld\".isalpha())"
   ]
  },
  {
   "cell_type": "code",
   "execution_count": 28,
   "id": "0014559b",
   "metadata": {},
   "outputs": [
    {
     "name": "stdout",
     "output_type": "stream",
     "text": [
      "\n",
      "Question 22: Check if string contains only letters: 'HelloWorld'\n",
      "Only letters? True\n"
     ]
    }
   ],
   "source": [
    "print(\"\\nQuestion 22: Check if string contains only letters: 'HelloWorld'\")\n",
    "s = \"HelloWorld\"\n",
    "only_letters = True\n",
    "for ch in s:\n",
    "    if not ch.isalpha():\n",
    "        only_letters = False\n",
    "        break\n",
    "print(\"Only letters?\", only_letters)"
   ]
  },
  {
   "cell_type": "code",
   "execution_count": 33,
   "id": "a78c2593",
   "metadata": {},
   "outputs": [
    {
     "name": "stdout",
     "output_type": "stream",
     "text": [
      "\n",
      "Question 23: Convert 'hello world' to 'hElLo WoRlD' (alternating case)\n",
      "hElLo WoRlD\n"
     ]
    }
   ],
   "source": [
    "print(\"\\nQuestion 23: Convert 'hello world' to 'hElLo WoRlD' (alternating case)\")\n",
    "text = \"hello world\"\n",
    "result = \"\"\n",
    "i = 0\n",
    "for ch in text:\n",
    "    if ch.isalpha():\n",
    "        if i % 2 == 0:\n",
    "            result += ch.lower()\n",
    "        else:\n",
    "            result += ch.upper()\n",
    "        i += 1\n",
    "    else:\n",
    "        result += ch\n",
    "print(result)"
   ]
  },
  {
   "cell_type": "code",
   "execution_count": 35,
   "id": "449b8607",
   "metadata": {},
   "outputs": [
    {
     "name": "stdout",
     "output_type": "stream",
     "text": [
      "[1, 3, 5]\n"
     ]
    }
   ],
   "source": [
    "word = \"banana\"\n",
    "position = []\n",
    "for i in range(len(word)):\n",
    "    if(word[i] == 'a'):\n",
    "        position.append(i)\n",
    "print(position)"
   ]
  },
  {
   "cell_type": "code",
   "execution_count": 39,
   "id": "df8db5e0",
   "metadata": {},
   "outputs": [
    {
     "name": "stdout",
     "output_type": "stream",
     "text": [
      "  Hello World  \n",
      "Hello World\n"
     ]
    }
   ],
   "source": [
    "text = \"  Hello World  \"\n",
    "print(text)\n",
    "print(text.strip())"
   ]
  },
  {
   "cell_type": "code",
   "execution_count": 40,
   "id": "c5c17585",
   "metadata": {},
   "outputs": [
    {
     "name": "stdout",
     "output_type": "stream",
     "text": [
      "True\n"
     ]
    }
   ],
   "source": [
    "text = \"programming\"\n",
    "print(text.endswith(\"ing\"))"
   ]
  },
  {
   "cell_type": "code",
   "execution_count": null,
   "id": "b16c6887",
   "metadata": {},
   "outputs": [
    {
     "name": "stdout",
     "output_type": "stream",
     "text": [
      "Hell0 World\n"
     ]
    }
   ],
   "source": [
    "text = \"Hello World\"\n",
    "print(text.replace('o', '0', 1))"
   ]
  },
  {
   "cell_type": "code",
   "execution_count": 42,
   "id": "19a83e00",
   "metadata": {},
   "outputs": [
    {
     "name": "stdout",
     "output_type": "stream",
     "text": [
      "a\n"
     ]
    }
   ],
   "source": [
    "sentence = \"Python is a programming language\"\n",
    "words = sentence.split()\n",
    "shortest = words[0]\n",
    "for word in words:\n",
    "    if len(word) < len(shortest):\n",
    "        shortest = word\n",
    "print(shortest)"
   ]
  },
  {
   "cell_type": "markdown",
   "id": "0ddd1ac8",
   "metadata": {},
   "source": []
  },
  {
   "cell_type": "code",
   "execution_count": 43,
   "id": "44b90e9b",
   "metadata": {},
   "outputs": [
    {
     "name": "stdout",
     "output_type": "stream",
     "text": [
      "3\n"
     ]
    }
   ],
   "source": [
    "sentence = \"Python programming is powerful\"\n",
    "words = sentence.split()\n",
    "count = 0\n",
    "for word in words:\n",
    "    if word.lower().startswith('p'):\n",
    "        count += 1\n",
    "print(count)"
   ]
  },
  {
   "cell_type": "code",
   "execution_count": 45,
   "id": "3c028b40",
   "metadata": {},
   "outputs": [
    {
     "name": "stdout",
     "output_type": "stream",
     "text": [
      "['Python', 'World', 'Hello']\n",
      "Python World Hello\n"
     ]
    }
   ],
   "source": [
    "sentence = \"Hello World Python\"\n",
    "words = sentence.split()\n",
    "words.reverse()\n",
    "print(words)\n",
    "print(\" \".join(words))"
   ]
  },
  {
   "cell_type": "code",
   "execution_count": 1,
   "id": "43a3bb64",
   "metadata": {},
   "outputs": [
    {
     "name": "stdout",
     "output_type": "stream",
     "text": [
      "Valid email\n"
     ]
    }
   ],
   "source": [
    "import re\n",
    "from collections import Counter\n",
    "\n",
    "# Question 31: Check if string is a valid email format\n",
    "email = \"user@example.com\"\n",
    "if re.match(r\"^[\\w\\.-]+@[\\w\\.-]+\\.\\w+$\", email):\n",
    "    print(\"Valid email\")\n",
    "else:\n",
    "    print(\"Invalid email\")"
   ]
  },
  {
   "cell_type": "code",
   "execution_count": 5,
   "metadata": {},
   "outputs": [
    {
     "name": "stdout",
     "output_type": "stream",
     "text": [
      "['https:', '', 'www.example.com', 'path']\n",
      "Domain: www.example.com\n"
     ]
    }
   ],
   "source": [
    "# Question 32: Extract domain from URL\n",
    "url = \"https://www.example.com/path\"\n",
    "parts = url.split(\"/\")\n",
    "print(parts)\n",
    "domain = parts[2]\n",
    "print(\"Domain:\", domain)"
   ]
  },
  {
   "cell_type": "code",
   "execution_count": 6,
   "id": "5a9baa5e",
   "metadata": {},
   "outputs": [
    {
     "name": "stdout",
     "output_type": "stream",
     "text": [
      "Number of lines: 3\n"
     ]
    }
   ],
   "source": [
    "# Question 33: Count lines in multi-line string\n",
    "text = \"\"\"Line one\n",
    "Line two\n",
    "Line three\"\"\"\n",
    "lines = text.split(\"\\n\")\n",
    "print(\"Number of lines:\", len(lines))"
   ]
  },
  {
   "cell_type": "code",
   "execution_count": 7,
   "id": "dbfbba9a",
   "metadata": {},
   "outputs": [
    {
     "name": "stdout",
     "output_type": "stream",
     "text": [
      "Common characters: {'l', 'o'}\n"
     ]
    }
   ],
   "source": [
    "# Question 34: Find common characters between two strings\n",
    "str1 = \"hello\"\n",
    "str2 = \"world\"\n",
    "common = set(str1) & set(str2)\n",
    "print(\"Common characters:\", common)"
   ]
  },
  {
   "cell_type": "code",
   "execution_count": 8,
   "id": "4b481226",
   "metadata": {},
   "outputs": [
    {
     "name": "stdout",
     "output_type": "stream",
     "text": [
      "Valid phone number\n"
     ]
    }
   ],
   "source": [
    "# Question 35: Check if string is a valid phone number\n",
    "phone = \"+1-555-123-4567\"\n",
    "if re.match(r\"^\\+\\d{1,3}-\\d{3}-\\d{3}-\\d{4}$\", phone):\n",
    "    print(\"Valid phone number\")\n",
    "else:\n",
    "    print(\"Invalid phone number\")"
   ]
  },
  {
   "cell_type": "code",
   "execution_count": 9,
   "id": "9ecd315c",
   "metadata": {},
   "outputs": [
    {
     "name": "stdout",
     "output_type": "stream",
     "text": [
      "Numbers: ['123', '456', '789']\n"
     ]
    }
   ],
   "source": [
    "# Question 36: Extract numbers from string\n",
    "text = \"abc123def456ghi789\"\n",
    "numbers = re.findall(r\"\\d+\", text)\n",
    "print(\"Numbers:\", numbers)"
   ]
  },
  {
   "cell_type": "code",
   "execution_count": 10,
   "id": "c7cf3dff",
   "metadata": {},
   "outputs": [
    {
     "name": "stdout",
     "output_type": "stream",
     "text": [
      "camelCase: thisIsASnakeCaseString\n"
     ]
    }
   ],
   "source": [
    "# Question 37: Convert snake_case to camelCase\n",
    "snake = \"this_is_a_snake_case_string\"\n",
    "\n",
    "# Step 1: Break the string into words\n",
    "words = snake.split(\"_\")\n",
    "\n",
    "# Step 2: Start camelCase with the first word exactly as it is\n",
    "camel = words[0]\n",
    "\n",
    "# Step 3: Loop through the remaining words, capitalizing each\n",
    "for word in words[1:]:\n",
    "    camel += word.capitalize()\n",
    "\n",
    "print(\"camelCase:\", camel)"
   ]
  },
  {
   "cell_type": "code",
   "execution_count": 12,
   "id": "f9b834fb",
   "metadata": {},
   "outputs": [
    {
     "name": "stdout",
     "output_type": "stream",
     "text": [
      "Palindrome\n"
     ]
    }
   ],
   "source": [
    "# Question 38: Palindrome check ignoring case and spaces\n",
    "sentence = \"A man a plan a canal Panama\"\n",
    "# Step 1: Remove spaces and make lowercase\n",
    "cleaned = sentence.replace(\" \", \"\").lower()\n",
    "\n",
    "# Step 2: Check if cleaned string equals its reverse\n",
    "if cleaned == cleaned[::-1]:\n",
    "    print(\"Palindrome\")\n",
    "else:\n",
    "    print(\"Not a palindrome\")"
   ]
  },
  {
   "cell_type": "code",
   "execution_count": 13,
   "id": "291b6de1",
   "metadata": {},
   "outputs": [
    {
     "name": "stdout",
     "output_type": "stream",
     "text": [
      "Counter({'the': 2, 'quick': 1, 'brown': 1, 'fox': 1, 'jumps': 1, 'over': 1, 'lazy': 1, 'dog': 1})\n",
      "Most common word: the\n"
     ]
    }
   ],
   "source": [
    "# Question 39: Most common word in a sentence\n",
    "sentence = \"the quick brown fox jumps over the lazy dog\"\n",
    "words = sentence.split()\n",
    "counter = Counter(words)\n",
    "print(counter)\n",
    "most_common_word = counter.most_common(1)[0][0]\n",
    "print(\"Most common word:\", most_common_word)"
   ]
  },
  {
   "cell_type": "code",
   "execution_count": 1,
   "id": "33c2d71e",
   "metadata": {},
   "outputs": [
    {
     "name": "stdout",
     "output_type": "stream",
     "text": [
      "\n",
      "Question 40: Generate acronym from 'National Aeronautics and Space Administration'\n",
      "Acronym: NAASA\n"
     ]
    }
   ],
   "source": [
    "# Question 40: Generate acronym from \"National Aeronautics and Space Administration\"\n",
    "print(\"\\nQuestion 40: Generate acronym from 'National Aeronautics and Space Administration'\")\n",
    "\n",
    "phrase = \"National Aeronautics and Space Administration\"\n",
    "acronym = \"\"\n",
    "for word in phrase.split():\n",
    "    acronym += word[0].upper()\n",
    "print(\"Acronym:\", acronym)"
   ]
  },
  {
   "cell_type": "code",
   "execution_count": 4,
   "id": "e181e93c",
   "metadata": {},
   "outputs": [
    {
     "name": "stdout",
     "output_type": "stream",
     "text": [
      "\n",
      "Question 41: Check if string contains balanced parentheses: '((()))'\n",
      "True\n"
     ]
    }
   ],
   "source": [
    "# Question 41: Check if string contains balanced parentheses: \"((()))\"\n",
    "print(\"\\nQuestion 41: Check if string contains balanced parentheses: '((()))'\")\n",
    "\n",
    "parentheses = '((()))'\n",
    "stack = []\n",
    "balanced = True\n",
    "for ch in parentheses:\n",
    "    if ch == '(':\n",
    "        stack.append(ch)\n",
    "    elif ch == ')':\n",
    "        if not stack:\n",
    "            balanced = False\n",
    "            break\n",
    "        stack.pop()\n",
    "if balanced and not stack:\n",
    "    print(True)\n",
    "else:\n",
    "    print(False)\n"
   ]
  },
  {
   "cell_type": "code",
   "execution_count": 5,
   "id": "a2c71fad",
   "metadata": {},
   "outputs": [
    {
     "name": "stdout",
     "output_type": "stream",
     "text": [
      "\n",
      "Question 42: Convert 'hello world' to Morse code\n",
      ".... . .-.. .-.. --- / .-- --- .-. .-.. -..\n"
     ]
    }
   ],
   "source": [
    "# Question 42: Convert \"hello world\" to Morse code\n",
    "print(\"\\nQuestion 42: Convert 'hello world' to Morse code\")\n",
    "morse_code_dict = {\n",
    "    'a': '.-', 'b': '-...', 'c': '-.-.', 'd': '-..', 'e': '.',\n",
    "    'f': '..-.', 'g': '--.', 'h': '....', 'i': '..', 'j': '.---',\n",
    "    'k': '-.-', 'l': '.-..', 'm': '--', 'n': '-.', 'o': '---',\n",
    "    'p': '.--.', 'q': '--.-', 'r': '.-.', 's': '...', 't': '-',\n",
    "    'u': '..-', 'v': '...-', 'w': '.--', 'x': '-..-', 'y': '-.--',\n",
    "    'z': '--..', ' ': '/'\n",
    "}\n",
    "text = \"hello world\"\n",
    "morse = \" \".join(morse_code_dict[ch] for ch in text.lower())\n",
    "print(morse)\n"
   ]
  },
  {
   "cell_type": "code",
   "execution_count": 6,
   "id": "dc0ea5b2",
   "metadata": {},
   "outputs": [
    {
     "name": "stdout",
     "output_type": "stream",
     "text": [
      "\n",
      "Question 43: Find the longest common substring between 'programming' and 'grammar'\n"
     ]
    },
    {
     "data": {
      "text/plain": [
       "'gramm'"
      ]
     },
     "execution_count": 6,
     "metadata": {},
     "output_type": "execute_result"
    }
   ],
   "source": [
    "# Question 43: Find the longest common substring between \"programming\" and \"grammar\"\n",
    "print(\"\\nQuestion 43: Find the longest common substring between 'programming' and 'grammar'\")\n",
    "# Your code here\n",
    "\n",
    "\n",
    "def longest_common_substring_bruteforce(a, b):\n",
    "    # make sure we iterate over the shorter string (fewer substrings)\n",
    "    if len(a) <= len(b):\n",
    "        shorter, longer = a, b\n",
    "    else:\n",
    "        shorter, longer = b, a\n",
    "\n",
    "    best = \"\"  # store the best (longest) common substring found so far\n",
    "\n",
    "    # enumerate all substrings of `shorter`\n",
    "    for start in range(len(shorter)):\n",
    "        for end in range(start + 1, len(shorter) + 1):\n",
    "            sub = shorter[start:end]          # substring from start to end-1\n",
    "            if sub in longer and len(sub) > len(best):\n",
    "                best = sub                    # update best if sub appears in `longer`\n",
    "\n",
    "    return best\n",
    "longest_common_substring_bruteforce('programming','grammar')"
   ]
  },
  {
   "cell_type": "code",
   "execution_count": 7,
   "id": "7f436973",
   "metadata": {},
   "outputs": [
    {
     "name": "stdout",
     "output_type": "stream",
     "text": [
      "\n",
      "Question 44: Check if string is a valid URL: 'https://www.google.com'\n",
      "True\n"
     ]
    }
   ],
   "source": [
    "# Question 44: Check if string is a valid URL: \"https://www.google.com\"\n",
    "print(\"\\nQuestion 44: Check if string is a valid URL: 'https://www.google.com'\")\n",
    "import re\n",
    "url = \"https://www.google.com\"\n",
    "pattern = re.compile(r'^(https?|ftp)://[^\\s/$.?#].[^\\s]*$')\n",
    "print(bool(pattern.match(url)))"
   ]
  },
  {
   "cell_type": "code",
   "execution_count": 10,
   "id": "70d12165",
   "metadata": {},
   "outputs": [
    {
     "name": "stdout",
     "output_type": "stream",
     "text": [
      "\n",
      "Question 45: Extract all words with length > 5 from 'Python programming is amazing and powerful'\n",
      "['Python', 'programming', 'amazing', 'powerful']\n"
     ]
    }
   ],
   "source": [
    "# Question 45: Extract all words with length > 5 from \"Python programming is amazing and powerful\"\n",
    "print(\"\\nQuestion 45: Extract all words with length > 5 from 'Python programming is amazing and powerful'\")\n",
    "str45 = 'Python programming is amazing and powerful'\n",
    "\n",
    "new_list = []\n",
    "count = 0\n",
    "for w in str45.split():\n",
    "    if len(w) > 5:\n",
    "        new_list.append(w)\n",
    "print(new_list)\n",
    "\n",
    "# words = [w for w in sentence.split() if len(w) > 5]"
   ]
  },
  {
   "cell_type": "code",
   "execution_count": 11,
   "id": "5d482d46",
   "metadata": {},
   "outputs": [
    {
     "name": "stdout",
     "output_type": "stream",
     "text": [
      "\n",
      "Question 46: Convert 'hello world' to Pig Latin\n",
      "ellohay orldway\n"
     ]
    }
   ],
   "source": [
    "print(\"\\nQuestion 46: Convert 'hello world' to Pig Latin\")\n",
    "\n",
    "def pig_latin(word):\n",
    "    vowels = \"aeiou\"\n",
    "    \n",
    "    # Check if first letter is a vowel\n",
    "    if word[0].lower() in vowels:\n",
    "        return word + \"way\"\n",
    "    else:\n",
    "        # Find the index of first vowel\n",
    "        for i, letter in enumerate(word):\n",
    "            if letter.lower() in vowels:\n",
    "                # Move consonants before first vowel to the end + \"ay\"\n",
    "                return word[i:] + word[:i] + \"ay\"\n",
    "        # If no vowel found, just add \"ay\" at the end\n",
    "        return word + \"ay\"\n",
    "\n",
    "# Input sentence\n",
    "sentence = \"hello world\"\n",
    "# Split sentence into words, convert each word, then join back\n",
    "pig_latin_sentence = \" \".join(pig_latin(word) for word in sentence.split())\n",
    "\n",
    "print(pig_latin_sentence)"
   ]
  },
  {
   "cell_type": "code",
   "execution_count": 14,
   "id": "7095ff52",
   "metadata": {},
   "outputs": [
    {
     "name": "stdout",
     "output_type": "stream",
     "text": [
      "\n",
      "Question 47: Check if string is a valid IPv4 address: '192.168.1.1'\n",
      "parts: 192\n",
      "parts: 168\n",
      "parts: 1\n",
      "parts: 1\n",
      "True\n"
     ]
    }
   ],
   "source": [
    "print(\"\\nQuestion 47: Check if string is a valid IPv4 address: '192.168.1.1'\")\n",
    "\n",
    "def is_valid_ipv4(ip):\n",
    "    parts = ip.split(\".\")  # Split string by '.'\n",
    "    \n",
    "    # Must have exactly 4 parts\n",
    "    if len(parts) != 4:\n",
    "        return False\n",
    "    \n",
    "    for part in parts:\n",
    "        print(f\"parts: {part}\")\n",
    "        # Check if part is numeric\n",
    "        if not part.isdigit():\n",
    "            return False\n",
    "        \n",
    "        # Convert to integer and check range 0-255\n",
    "        num = int(part)\n",
    "        if num < 0 or num > 255:\n",
    "            return False\n",
    "        \n",
    "        # Optional: Prevent leading zeros unless the number is just \"0\"\n",
    "        if part != \"0\" and part.startswith(\"0\"):\n",
    "            return False\n",
    "    \n",
    "    return True\n",
    "\n",
    "ip_address = \"192.168.1.1\"\n",
    "print(is_valid_ipv4(ip_address))"
   ]
  },
  {
   "cell_type": "code",
   "execution_count": 15,
   "id": "08b8c3de",
   "metadata": {},
   "outputs": [
    {
     "name": "stdout",
     "output_type": "stream",
     "text": [
      "\n",
      "Question 48: Find all substrings of 'abc'\n",
      "['a', 'ab', 'abc', 'b', 'bc', 'c']\n"
     ]
    }
   ],
   "source": [
    "print(\"\\nQuestion 48: Find all substrings of 'abc'\")\n",
    "\n",
    "text = \"abc\"\n",
    "\n",
    "substrings = []  # To store results\n",
    "\n",
    "# Outer loop: choose starting index\n",
    "for start in range(len(text)):\n",
    "    # Inner loop: choose ending index\n",
    "    for end in range(start + 1, len(text) + 1):\n",
    "        substrings.append(text[start:end])\n",
    "\n",
    "print(substrings)"
   ]
  },
  {
   "cell_type": "code",
   "execution_count": 16,
   "id": "7e6558f4",
   "metadata": {},
   "outputs": [
    {
     "name": "stdout",
     "output_type": "stream",
     "text": [
      "\n",
      "Question 49: Convert 'hello world' to ROT13 encoding\n",
      "uryyb jbeyq\n"
     ]
    }
   ],
   "source": [
    "# Question 49: Convert \"hello world\" to ROT13 encoding\n",
    "print(\"\\nQuestion 49: Convert 'hello world' to ROT13 encoding\")\n",
    "import codecs\n",
    "print(codecs.encode(\"hello world\", \"rot_13\"))"
   ]
  },
  {
   "cell_type": "code",
   "execution_count": null,
   "id": "e039419f",
   "metadata": {},
   "outputs": [],
   "source": [
    "# Question 50: Check if string is a valid credit card number (Luhn's algorithm)\n",
    "print(\"\\nQuestion 50: Check if string is a valid credit card number: '4532015112830366'\")\n",
    "\n",
    "# Luhn’s algorithm is a simple checksum formula used to validate credit card numbers (and some other ID numbers).\n",
    "# It’s not encryption — it’s just a way to check if a number is likely valid (not guaranteed real).\n",
    "\n",
    "# Steps:\n",
    "\n",
    "# Starting from the rightmost digit (the check digit), move left.\n",
    "\n",
    "# Double the value of every second digit.\n",
    "\n",
    "# If doubling results in a number greater than 9, subtract 9 from it.\n",
    "# (This is the same as adding the digits together: e.g., 12 → 1+2 = 3)\n",
    "\n",
    "# Add all the digits together.\n",
    "\n",
    "# If the total sum is divisible by 10 → the number is valid.\n",
    "\n",
    "def is_valid_credit_card(number):\n",
    "    # Remove spaces if any\n",
    "    number = number.replace(\" \", \"\")\n",
    "    \n",
    "    # Must be all digits\n",
    "    if not number.isdigit():\n",
    "        return False\n",
    "    \n",
    "    total = 0\n",
    "    reverse_digits = number[::-1]  # Reverse for easier position checking\n",
    "    \n",
    "    for i, digit in enumerate(reverse_digits):\n",
    "        n = int(digit)\n",
    "        \n",
    "        # Double every second digit (odd index in reversed list)\n",
    "        if i % 2 == 1:\n",
    "            n *= 2\n",
    "            if n > 9:\n",
    "                n -= 9\n",
    "        \n",
    "        total += n\n",
    "    \n",
    "    # Valid if total is multiple of 10\n",
    "    return total % 10 == 0\n",
    "\n",
    "card_number = \"4532015112830366\"\n",
    "print(is_valid_credit_card(card_number))"
   ]
  }
 ],
 "metadata": {
  "kernelspec": {
   "display_name": "Python 3",
   "language": "python",
   "name": "python3"
  },
  "language_info": {
   "codemirror_mode": {
    "name": "ipython",
    "version": 3
   },
   "file_extension": ".py",
   "mimetype": "text/x-python",
   "name": "python",
   "nbconvert_exporter": "python",
   "pygments_lexer": "ipython3",
   "version": "3.13.2"
  }
 },
 "nbformat": 4,
 "nbformat_minor": 5
}
