{
 "cells": [
  {
   "cell_type": "code",
   "execution_count": 1,
   "id": "c11004ef",
   "metadata": {},
   "outputs": [
    {
     "name": "stdout",
     "output_type": "stream",
     "text": [
      "SOLVED EXAMPLE:\n",
      "Find the maximum and minimum values in a list\n",
      "List: [23, 45, 12, 67, 34, 89, 56]\n",
      "Maximum: 89\n",
      "Minimum: 12\n",
      "--------------------------------------------------\n"
     ]
    }
   ],
   "source": [
    "print(\"SOLVED EXAMPLE:\")\n",
    "print(\"Find the maximum and minimum values in a list\")\n",
    "numbers = [23, 45, 12, 67, 34, 89, 56]\n",
    "max_val = max(numbers)\n",
    "min_val = min(numbers)\n",
    "print(f\"List: {numbers}\")\n",
    "print(f\"Maximum: {max_val}\")\n",
    "print(f\"Minimum: {min_val}\")\n",
    "print(\"-\" * 50)"
   ]
  },
  {
   "cell_type": "code",
   "execution_count": 2,
   "id": "f23f7b7f",
   "metadata": {},
   "outputs": [
    {
     "name": "stdout",
     "output_type": "stream",
     "text": [
      "Question 1: Create a list of first 10 square numbers\n",
      "[1, 4, 9, 16, 25, 36, 49, 64, 81, 100]\n"
     ]
    }
   ],
   "source": [
    "print(\"Question 1: Create a list of first 10 square numbers\")\n",
    "squares = []\n",
    "for i in range(1, 11):\n",
    "    squares.append(i * i)\n",
    "print(squares)"
   ]
  },
  {
   "cell_type": "code",
   "execution_count": 4,
   "id": "11303b85",
   "metadata": {},
   "outputs": [
    {
     "name": "stdout",
     "output_type": "stream",
     "text": [
      "\n",
      "Question 2: Find the sum of all even numbers in [1, 2, 3, 4, 5, 6, 7, 8, 9, 10]\n",
      "even sum: 30\n"
     ]
    }
   ],
   "source": [
    "print(\"\\nQuestion 2: Find the sum of all even numbers in [1, 2, 3, 4, 5, 6, 7, 8, 9, 10]\")\n",
    "numbers = [1, 2, 3, 4, 5, 6, 7, 8, 9, 10]\n",
    "even_sum = 0\n",
    "for num in numbers:\n",
    "    if num % 2 == 0:\n",
    "        even_sum += num\n",
    "print(f\"even sum: {even_sum}\")"
   ]
  },
  {
   "cell_type": "code",
   "execution_count": 5,
   "id": "120d78dc",
   "metadata": {},
   "outputs": [
    {
     "name": "stdout",
     "output_type": "stream",
     "text": [
      "\n",
      "Question 3: Remove duplicates from [1, 2, 2, 3, 4, 4, 5, 6, 6, 7]\n",
      "[1, 2, 3, 4, 5, 6, 7]\n"
     ]
    }
   ],
   "source": [
    "print(\"\\nQuestion 3: Remove duplicates from [1, 2, 2, 3, 4, 4, 5, 6, 6, 7]\")\n",
    "list_with_dupes = [1, 2, 2, 3, 4, 4, 5, 6, 6, 7]\n",
    "no_dupes = []\n",
    "for num in list_with_dupes:\n",
    "    if num not in no_dupes:\n",
    "        no_dupes.append(num)\n",
    "print(no_dupes)"
   ]
  },
  {
   "cell_type": "code",
   "execution_count": 7,
   "id": "1bb95a9a",
   "metadata": {},
   "outputs": [
    {
     "name": "stdout",
     "output_type": "stream",
     "text": [
      "\n",
      "Question 4: Sort the list [64, 34, 25, 12, 22, 11, 90] in descending order\n",
      "[90, 64, 34, 25, 22, 12, 11]\n"
     ]
    }
   ],
   "source": [
    "print(\"\\nQuestion 4: Sort the list [64, 34, 25, 12, 22, 11, 90] in descending order\")\n",
    "nums = [64, 34, 25, 12, 22, 11, 90]\n",
    "nums.sort(reverse=True)\n",
    "print(nums)"
   ]
  },
  {
   "cell_type": "code",
   "execution_count": 8,
   "id": "5029a1c3",
   "metadata": {},
   "outputs": [
    {
     "name": "stdout",
     "output_type": "stream",
     "text": [
      "\n",
      "Question 5: Find the average of numbers in [15, 23, 31, 42, 56, 78, 91]\n",
      "48.0\n"
     ]
    }
   ],
   "source": [
    "print(\"\\nQuestion 5: Find the average of numbers in [15, 23, 31, 42, 56, 78, 91]\")\n",
    "data = [15, 23, 31, 42, 56, 78, 91]\n",
    "total = 0\n",
    "for num in data:\n",
    "    total += num\n",
    "average = total / len(data)\n",
    "print(average)"
   ]
  },
  {
   "cell_type": "code",
   "execution_count": 9,
   "id": "d8f696b3",
   "metadata": {},
   "outputs": [
    {
     "name": "stdout",
     "output_type": "stream",
     "text": [
      "\n",
      "Question 6: Create a list of first 15 Fibonacci numbers\n",
      "[0, 1, 1, 2, 3, 5, 8, 13, 21, 34, 55, 89, 144, 233, 377]\n"
     ]
    }
   ],
   "source": [
    "print(\"\\nQuestion 6: Create a list of first 15 Fibonacci numbers\")\n",
    "fibonacci = [0, 1]\n",
    "while len(fibonacci) < 15:\n",
    "    next_num = fibonacci[-1] + fibonacci[-2]\n",
    "    fibonacci.append(next_num)\n",
    "print(fibonacci)"
   ]
  },
  {
   "cell_type": "code",
   "execution_count": 11,
   "id": "48859b8c",
   "metadata": {},
   "outputs": [
    {
     "name": "stdout",
     "output_type": "stream",
     "text": [
      "\n",
      "Question 7: Find the second largest number in [45, 67, 23, 89, 12, 34, 78]\n",
      "[89, 78, 67, 45, 34, 23, 12]\n",
      "78\n"
     ]
    }
   ],
   "source": [
    "print(\"\\nQuestion 7: Find the second largest number in [45, 67, 23, 89, 12, 34, 78]\")\n",
    "nums = [45, 67, 23, 89, 12, 34, 78]\n",
    "nums.sort(reverse=True)\n",
    "print(nums)\n",
    "second_largest = nums[1]\n",
    "print(second_largest)"
   ]
  },
  {
   "cell_type": "code",
   "execution_count": 12,
   "id": "43e484e9",
   "metadata": {},
   "outputs": [
    {
     "name": "stdout",
     "output_type": "stream",
     "text": [
      "\n",
      "Question 8: Reverse the list [1, 2, 3, 4, 5, 6, 7, 8, 9, 10]\n",
      "[10, 9, 8, 7, 6, 5, 4, 3, 2, 1]\n"
     ]
    }
   ],
   "source": [
    "print(\"\\nQuestion 8: Reverse the list [1, 2, 3, 4, 5, 6, 7, 8, 9, 10]\")\n",
    "nums = [1, 2, 3, 4, 5, 6, 7, 8, 9, 10]\n",
    "nums.reverse()\n",
    "print(nums)"
   ]
  },
  {
   "cell_type": "code",
   "execution_count": 13,
   "id": "b536ee0b",
   "metadata": {},
   "outputs": [
    {
     "name": "stdout",
     "output_type": "stream",
     "text": [
      "\n",
      "Question 9: Count how many times 5 appears in [1, 5, 2, 5, 3, 5, 4, 5, 6]\n",
      "4\n"
     ]
    }
   ],
   "source": [
    "print(\"\\nQuestion 9: Count how many times 5 appears in [1, 5, 2, 5, 3, 5, 4, 5, 6]\")\n",
    "nums = [1, 5, 2, 5, 3, 5, 4, 5, 6]\n",
    "count_5 = 0\n",
    "for num in nums:\n",
    "    if num == 5:\n",
    "        count_5 += 1\n",
    "print(count_5)"
   ]
  },
  {
   "cell_type": "code",
   "execution_count": 14,
   "id": "97358f24",
   "metadata": {},
   "outputs": [
    {
     "name": "stdout",
     "output_type": "stream",
     "text": [
      "\n",
      "Question 10: Create a list of prime numbers between 1 and 50\n",
      "[2, 3, 5, 7, 11, 13, 17, 19, 23, 29, 31, 37, 41, 43, 47]\n"
     ]
    }
   ],
   "source": [
    "print(\"\\nQuestion 10: Create a list of prime numbers between 1 and 50\")\n",
    "primes = []\n",
    "for num in range(2, 51):\n",
    "    is_prime = True\n",
    "    for i in range(2, int(num**0.5) + 1):\n",
    "        if num % i == 0:\n",
    "            is_prime = False\n",
    "            break\n",
    "    if is_prime:\n",
    "        primes.append(num)\n",
    "print(primes)"
   ]
  },
  {
   "cell_type": "code",
   "execution_count": 15,
   "id": "b693a88e",
   "metadata": {},
   "outputs": [
    {
     "name": "stdout",
     "output_type": "stream",
     "text": [
      "sublist : [1, 2, 3]\n",
      "sublist : [4, 5, 6]\n",
      "sublist : [7, 8, 9]\n",
      "[1, 2, 3, 4, 5, 6, 7, 8, 9]\n"
     ]
    }
   ],
   "source": [
    "# Question 11: Flatten nested list [[1, 2, 3], [4, 5, 6], [7, 8, 9]]\n",
    "nested = [[1, 2, 3], [4, 5, 6], [7, 8, 9]]\n",
    "flat = []\n",
    "for sublist in nested:\n",
    "    print(f\"sublist : {sublist}\")\n",
    "    for item in sublist:\n",
    "        flat.append(item)\n",
    "print(flat)"
   ]
  },
  {
   "cell_type": "code",
   "execution_count": 16,
   "id": "5cf1c7d7",
   "metadata": {},
   "outputs": [
    {
     "name": "stdout",
     "output_type": "stream",
     "text": [
      "[4, 5]\n"
     ]
    }
   ],
   "source": [
    "# Question 12: Find common elements between [1, 2, 3, 4, 5] and [4, 5, 6, 7, 8]\n",
    "list1 = [1, 2, 3, 4, 5]\n",
    "list2 = [4, 5, 6, 7, 8]\n",
    "common = []\n",
    "for item in list1:\n",
    "    if item in list2:\n",
    "        common.append(item)\n",
    "print(common)"
   ]
  },
  {
   "cell_type": "code",
   "execution_count": 17,
   "id": "1f806db6",
   "metadata": {},
   "outputs": [
    {
     "name": "stdout",
     "output_type": "stream",
     "text": [
      "[[1, 2], [3, 4], [5, 6]]\n"
     ]
    }
   ],
   "source": [
    "# Question 13: Create a list of lists: [[1, 2], [3, 4], [5, 6]]\n",
    "list_of_lists = [[1, 2], [3, 4], [5, 6]]\n",
    "print(list_of_lists)"
   ]
  },
  {
   "cell_type": "code",
   "execution_count": 18,
   "id": "932e5bfc",
   "metadata": {},
   "outputs": [
    {
     "name": "stdout",
     "output_type": "stream",
     "text": [
      "[6, 15, 24]\n"
     ]
    }
   ],
   "source": [
    "# Question 14: Find the sum of each sublist in [[1, 2, 3], [4, 5, 6], [7, 8, 9]]\n",
    "nested = [[1, 2, 3], [4, 5, 6], [7, 8, 9]]\n",
    "sums = []\n",
    "for sublist in nested:\n",
    "    sums.append(sum(sublist))\n",
    "print(sums)"
   ]
  },
  {
   "cell_type": "code",
   "execution_count": 22,
   "id": "5098f5f9",
   "metadata": {},
   "outputs": [
    {
     "name": "stdout",
     "output_type": "stream",
     "text": [
      "[[1, 4, 7], [2, 5, 8], [3, 6, 9]]\n"
     ]
    }
   ],
   "source": [
    "# Question 15: Transpose the matrix [[1, 2, 3], [4, 5, 6], [7, 8, 9]]\n",
    "matrix = [[1, 2, 3], [4, 5, 6], [7, 8, 9]]\n",
    "transpose = []\n",
    "for i in range(len(matrix[0])):\n",
    "    new_row = []\n",
    "    for row in matrix:\n",
    "        new_row.append(row[i])\n",
    "    transpose.append(new_row)\n",
    "print(transpose)"
   ]
  },
  {
   "cell_type": "code",
   "execution_count": 23,
   "id": "887ba9ca",
   "metadata": {},
   "outputs": [
    {
     "name": "stdout",
     "output_type": "stream",
     "text": [
      "[5, 9, 8]\n"
     ]
    }
   ],
   "source": [
    "# Question 16: Find the maximum value in each sublist of [[1, 5, 3], [9, 2, 7], [4, 8, 6]]\n",
    "nested = [[1, 5, 3], [9, 2, 7], [4, 8, 6]]\n",
    "max_values = []\n",
    "for sublist in nested:\n",
    "    max_values.append(max(sublist))\n",
    "print(max_values)"
   ]
  },
  {
   "cell_type": "code",
   "execution_count": 24,
   "id": "3e4a42a2",
   "metadata": {},
   "outputs": [
    {
     "name": "stdout",
     "output_type": "stream",
     "text": [
      "[[[1, 2], [3, 4]], [[5, 6], [7, 8]]]\n"
     ]
    }
   ],
   "source": [
    "# Question 17: Create a 3D list: [[[1, 2], [3, 4]], [[5, 6], [7, 8]]]\n",
    "three_d_list = [[[1, 2], [3, 4]], [[5, 6], [7, 8]]]\n",
    "print(three_d_list)"
   ]
  },
  {
   "cell_type": "code",
   "execution_count": 25,
   "id": "b5afec7a",
   "metadata": {},
   "outputs": [
    {
     "name": "stdout",
     "output_type": "stream",
     "text": [
      "36\n"
     ]
    }
   ],
   "source": [
    "# Question 18: Find the sum of all elements in 3D list [[[1, 2], [3, 4]], [[5, 6], [7, 8]]]\n",
    "three_d = [[[1, 2], [3, 4]], [[5, 6], [7, 8]]]\n",
    "total_sum = 0\n",
    "for two_d in three_d:\n",
    "    for one_d in two_d:\n",
    "        for num in one_d:\n",
    "            total_sum += num\n",
    "print(total_sum)"
   ]
  },
  {
   "cell_type": "code",
   "execution_count": 26,
   "id": "d3e4db7a",
   "metadata": {},
   "outputs": [
    {
     "name": "stdout",
     "output_type": "stream",
     "text": [
      "[2, 4, 6, 8]\n"
     ]
    }
   ],
   "source": [
    "# Question 19: Extract all even numbers from nested list [[1, 2, 3], [4, 5, 6], [7, 8, 9]]\n",
    "nested = [[1, 2, 3], [4, 5, 6], [7, 8, 9]]\n",
    "evens = []\n",
    "for sublist in nested:\n",
    "    for num in sublist:\n",
    "        if num % 2 == 0:\n",
    "            evens.append(num)\n",
    "print(evens)\n"
   ]
  },
  {
   "cell_type": "code",
   "execution_count": 27,
   "id": "3151d1c8",
   "metadata": {},
   "outputs": [
    {
     "name": "stdout",
     "output_type": "stream",
     "text": [
      "[1, 'hello', 3.14, True, [1, 2, 3]]\n"
     ]
    }
   ],
   "source": [
    "# Question 20: Create a list of mixed data types: [1, \"hello\", 3.14, True, [1, 2, 3]]\n",
    "mixed = [1, \"hello\", 3.14, True, [1, 2, 3]]\n",
    "print(mixed)"
   ]
  },
  {
   "cell_type": "code",
   "execution_count": 28,
   "id": "6c13ab70",
   "metadata": {},
   "outputs": [
    {
     "name": "stdout",
     "output_type": "stream",
     "text": [
      "\n",
      "Question 21: Find the length of each string in ['apple', 'banana', 'cherry', 'date']\n",
      "[5, 6, 6, 4]\n"
     ]
    }
   ],
   "source": [
    "# Question 21: Find the length of each string in [\"apple\", \"banana\", \"cherry\", \"date\"]\n",
    "print(\"\\nQuestion 21: Find the length of each string in ['apple', 'banana', 'cherry', 'date']\")\n",
    "words = [\"apple\", \"banana\", \"cherry\", \"date\"]\n",
    "lengths = [len(word) for word in words]\n",
    "print(lengths)"
   ]
  },
  {
   "cell_type": "code",
   "execution_count": 29,
   "id": "9896fab8",
   "metadata": {},
   "outputs": [
    {
     "name": "stdout",
     "output_type": "stream",
     "text": [
      "\n",
      "Question 22: Create a list of tuples: [(1, 'a'), (2, 'b'), (3, 'c')]\n",
      "[(1, 'a'), (2, 'b'), (3, 'c')]\n"
     ]
    }
   ],
   "source": [
    "# Question 22: Create a list of tuples: [(1, 'a'), (2, 'b'), (3, 'c')]\n",
    "print(\"\\nQuestion 22: Create a list of tuples: [(1, 'a'), (2, 'b'), (3, 'c')]\")\n",
    "tuples_list = [(1, 'a'), (2, 'b'), (3, 'c')]\n",
    "print(tuples_list)\n"
   ]
  },
  {
   "cell_type": "code",
   "execution_count": 30,
   "id": "09eab06b",
   "metadata": {},
   "outputs": [
    {
     "name": "stdout",
     "output_type": "stream",
     "text": [
      "\n",
      "Question 23: Extract first element from each tuple in [(1, 'a'), (2, 'b'), (3, 'c')]\n",
      "[1, 2, 3]\n"
     ]
    }
   ],
   "source": [
    "print(\"\\nQuestion 23: Extract first element from each tuple in [(1, 'a'), (2, 'b'), (3, 'c')]\")\n",
    "first_elements = [t[0] for t in tuples_list]\n",
    "print(first_elements)"
   ]
  },
  {
   "cell_type": "code",
   "execution_count": 31,
   "id": "021d0910",
   "metadata": {},
   "outputs": [
    {
     "name": "stdout",
     "output_type": "stream",
     "text": [
      "\n",
      "Question 24: Create a list of dictionaries: [{'name': 'Alice', 'age': 25}, {'name': 'Bob', 'age': 30}]\n",
      "[{'name': 'Alice', 'age': 25}, {'name': 'Bob', 'age': 30}]\n"
     ]
    }
   ],
   "source": [
    "print(\"\\nQuestion 24: Create a list of dictionaries: [{'name': 'Alice', 'age': 25}, {'name': 'Bob', 'age': 30}]\")\n",
    "people = [{'name': 'Alice', 'age': 25}, {'name': 'Bob', 'age': 30}]\n",
    "print(people)"
   ]
  },
  {
   "cell_type": "code",
   "execution_count": 33,
   "id": "281bf19a",
   "metadata": {},
   "outputs": [
    {
     "name": "stdout",
     "output_type": "stream",
     "text": [
      "\n",
      "Question 25: Extract all 'name' values from list of dictionaries\n",
      "Alice\n",
      "Bob\n"
     ]
    }
   ],
   "source": [
    "print(\"\\nQuestion 25: Extract all 'name' values from list of dictionaries\")\n",
    "\n",
    "for person in people:\n",
    "    print(person['name'])\n"
   ]
  },
  {
   "cell_type": "code",
   "execution_count": 35,
   "id": "57280387",
   "metadata": {},
   "outputs": [
    {
     "name": "stdout",
     "output_type": "stream",
     "text": [
      "\n",
      "Question 26: Find the person with maximum age in list of dictionaries\n",
      "30\n"
     ]
    }
   ],
   "source": [
    "print(\"\\nQuestion 26: Find the person with maximum age in list of dictionaries\")\n",
    "max_age = 0\n",
    "for person in people:\n",
    "    age = person['age']\n",
    "    if(age > max_age):\n",
    "        max_age = age\n",
    "\n",
    "print(max_age)"
   ]
  },
  {
   "cell_type": "code",
   "execution_count": 36,
   "id": "ba44b731",
   "metadata": {},
   "outputs": [
    {
     "name": "stdout",
     "output_type": "stream",
     "text": [
      "\n",
      "Question 27: Create a 4D list: [[[[1, 2], [3, 4]], [[5, 6], [7, 8]]], [[[9, 10], [11, 12]], [[13, 14], [15, 16]]]]\n",
      "[[[[1, 2], [3, 4]], [[5, 6], [7, 8]]], [[[9, 10], [11, 12]], [[13, 14], [15, 16]]]]\n"
     ]
    }
   ],
   "source": [
    "print(\"\\nQuestion 27: Create a 4D list: [[[[1, 2], [3, 4]], [[5, 6], [7, 8]]], [[[9, 10], [11, 12]], [[13, 14], [15, 16]]]]\")\n",
    "array_4d = [[[[1, 2], [3, 4]], [[5, 6], [7, 8]]], [[[9, 10], [11, 12]], [[13, 14], [15, 16]]]]\n",
    "print(array_4d)"
   ]
  },
  {
   "cell_type": "code",
   "execution_count": null,
   "id": "6007c3a7",
   "metadata": {},
   "outputs": [
    {
     "name": "stdout",
     "output_type": "stream",
     "text": [
      "\n",
      "Question 28: Find the maximum value in 4D list\n",
      "16\n"
     ]
    }
   ],
   "source": [
    "print(\"\\nQuestion 28: Find the maximum value in 4D list\")\n",
    "max_val = 0\n",
    "for i in array_4d:\n",
    "    for j in i:\n",
    "        for k in j:\n",
    "            for p in k:\n",
    "                if(p > max_val):\n",
    "                    max_val = p\n",
    "print(p)\n",
    "\n",
    "# import numpy as np\n",
    "\n",
    "# array_4d_np = np.array(array_4d)\n",
    "# print(array_4d_np.max())"
   ]
  },
  {
   "cell_type": "code",
   "execution_count": 42,
   "id": "9af4ee22",
   "metadata": {},
   "outputs": [
    {
     "name": "stdout",
     "output_type": "stream",
     "text": [
      "\n",
      "Question 29: Create a list of sets: [{1, 2, 3}, {4, 5, 6}, {7, 8, 9}]\n",
      "[{1, 2, 3}, {4, 5, 6}, {8, 9, 7}]\n"
     ]
    }
   ],
   "source": [
    "print(\"\\nQuestion 29: Create a list of sets: [{1, 2, 3}, {4, 5, 6}, {7, 8, 9}]\")\n",
    "list_of_sets = [{1, 2, 3}, {4, 5, 6}, {7, 8, 9}]\n",
    "print(list_of_sets)"
   ]
  },
  {
   "cell_type": "code",
   "execution_count": 43,
   "id": "469916d6",
   "metadata": {},
   "outputs": [
    {
     "name": "stdout",
     "output_type": "stream",
     "text": [
      "\n",
      "Question 30: Find the union of all sets in list of sets\n",
      "{1, 2, 3, 4, 5, 6, 7, 8, 9}\n"
     ]
    }
   ],
   "source": [
    "print(\"\\nQuestion 30: Find the union of all sets in list of sets\")\n",
    "union_set = set()\n",
    "for s in list_of_sets:\n",
    "    union_set |= s\n",
    "print(union_set)"
   ]
  },
  {
   "cell_type": "code",
   "execution_count": 2,
   "id": "8d178e2d",
   "metadata": {},
   "outputs": [
    {
     "name": "stdout",
     "output_type": "stream",
     "text": [
      "\n",
      "Question 31: Create a list of complex numbers: [1+2j, 3+4j, 5+6j]\n",
      "[(1+2j), (3+4j), (5+6j)]\n"
     ]
    }
   ],
   "source": [
    "print(\"\\nQuestion 31: Create a list of complex numbers: [1+2j, 3+4j, 5+6j]\")\n",
    "complex_list = [1+2j, 3+4j, 5+6j]\n",
    "print(complex_list) "
   ]
  },
  {
   "cell_type": "code",
   "execution_count": 3,
   "id": "77e15a37",
   "metadata": {},
   "outputs": [
    {
     "name": "stdout",
     "output_type": "stream",
     "text": [
      "\n",
      "Question 32: Find the magnitude of each complex number in list\n",
      "[2.23606797749979, 5.0, 7.810249675906654]\n"
     ]
    }
   ],
   "source": [
    "print(\"\\nQuestion 32: Find the magnitude of each complex number in list\")\n",
    "\n",
    "# magnitude means absolute value -> ex. for 3 + 4j => sqrt(3^2 + 4 ^2)\n",
    "\n",
    "# list comprehension syntax \n",
    "# always creates a new list containing the results\n",
    "magnitude = [abs(c) for c in complex_list]\n",
    "print(magnitude)"
   ]
  },
  {
   "cell_type": "code",
   "execution_count": 4,
   "id": "b7e2c781",
   "metadata": {},
   "outputs": [
    {
     "name": "stdout",
     "output_type": "stream",
     "text": [
      "\n",
      "Question 33: Create a nested list with different levels: [1, [2, 3], [4, [5, 6]], 7]\n",
      "[1, [2, 3], [4, [5, 6]], 7]\n"
     ]
    }
   ],
   "source": [
    "print(\"\\nQuestion 33: Create a nested list with different levels: [1, [2, 3], [4, [5, 6]], 7]\")\n",
    "nested_list = [1, [2, 3], [4, [5, 6]], 7]\n",
    "print(nested_list)\n",
    "\n"
   ]
  },
  {
   "cell_type": "code",
   "execution_count": 10,
   "id": "2020cc70",
   "metadata": {},
   "outputs": [
    {
     "name": "stdout",
     "output_type": "stream",
     "text": [
      "\n",
      "Question 34: Count the depth of nesting in [1, [2, 3], [4, [5, 6]], 7]\n",
      "3\n"
     ]
    }
   ],
   "source": [
    "print(\"\\nQuestion 34: Count the depth of nesting in [1, [2, 3], [4, [5, 6]], 7]\")\n",
    "\n",
    "def count_depth(x):\n",
    "    if not isinstance(x, list):\n",
    "        return 0\n",
    "    max_child = 0\n",
    "    for item in x:\n",
    "        d = count_depth(item)\n",
    "        if d > max_child:\n",
    "            max_child = d\n",
    "    return 1 + max_child\n",
    "print(count_depth(nested_list))"
   ]
  },
  {
   "cell_type": "code",
   "execution_count": null,
   "id": "c53f5479",
   "metadata": {},
   "outputs": [
    {
     "name": "stdout",
     "output_type": "stream",
     "text": [
      "\n",
      "Question 35: Create a list of functions: [len, str, int, float]\n",
      "[<built-in function len>, <class 'str'>, <class 'int'>, <class 'float'>]\n"
     ]
    }
   ],
   "source": [
    "print(\"\\nQuestion 35: Create a list of functions: [len, str, int, float]\")\n",
    "func_list = [len, str, int, float]  \n",
    "print(func_list)"
   ]
  },
  {
   "cell_type": "code",
   "execution_count": 12,
   "id": "a0f551e3",
   "metadata": {},
   "outputs": [
    {
     "name": "stdout",
     "output_type": "stream",
     "text": [
      "\n",
      "Question 36: Apply each function in list to string '123'\n",
      "[3, '123', 123, 123.0]\n"
     ]
    }
   ],
   "source": [
    "print(\"\\nQuestion 36: Apply each function in list to string '123'\")\n",
    "\n",
    "input_string = '123'\n",
    "result_output = []\n",
    "for f in func_list:\n",
    "    result_output.append(f(input_string))\n",
    "print(result_output)"
   ]
  },
  {
   "cell_type": "code",
   "execution_count": 13,
   "id": "16f70b33",
   "metadata": {},
   "outputs": [
    {
     "name": "stdout",
     "output_type": "stream",
     "text": [
      "\n",
      "Question 37: Create a list of lambda functions: [lambda x: x*2, lambda x: x**2, lambda x: x+1]\n",
      "[<function <lambda> at 0x0000027A09150A40>, <function <lambda> at 0x0000027A09150AE0>, <function <lambda> at 0x0000027A09150B80>]\n"
     ]
    }
   ],
   "source": [
    "print(\"\\nQuestion 37: Create a list of lambda functions: [lambda x: x*2, lambda x: x**2, lambda x: x+1]\")\n",
    "lambda_list = [\n",
    "    lambda x: x * 2,\n",
    "    lambda x: x ** 2,\n",
    "    lambda x: x + 1\n",
    "]\n",
    "print(lambda_list)"
   ]
  },
  {
   "cell_type": "code",
   "execution_count": 14,
   "id": "4f44662e",
   "metadata": {},
   "outputs": [
    {
     "name": "stdout",
     "output_type": "stream",
     "text": [
      "\n",
      "Question 38: Apply each lambda function to 5\n",
      "[10, 25, 6]\n"
     ]
    }
   ],
   "source": [
    "print(\"\\nQuestion 38: Apply each lambda function to 5\")\n",
    "outputs_for_38 = []\n",
    "for fn in lambda_list:\n",
    "    outputs_for_38.append(fn(5))\n",
    "print(outputs_for_38)"
   ]
  },
  {
   "cell_type": "code",
   "execution_count": 15,
   "id": "189b1775",
   "metadata": {},
   "outputs": [
    {
     "name": "stdout",
     "output_type": "stream",
     "text": [
      "\n",
      "Question 39: Create a list of classes: [list, dict, set, tuple]\n",
      "[<class 'list'>, <class 'dict'>, <class 'set'>, <class 'tuple'>]\n"
     ]
    }
   ],
   "source": [
    "print(\"\\nQuestion 39: Create a list of classes: [list, dict, set, tuple]\")\n",
    "class_list = [list, dict, set, tuple]\n",
    "print(class_list)"
   ]
  },
  {
   "cell_type": "code",
   "execution_count": 16,
   "id": "66b50ac1",
   "metadata": {},
   "outputs": [
    {
     "name": "stdout",
     "output_type": "stream",
     "text": [
      "\n",
      "Question 40: Create instances of each class in list\n",
      "[[], {}, set(), ()]\n"
     ]
    }
   ],
   "source": [
    "print(\"\\nQuestion 40: Create instances of each class in list\")\n",
    "instances = []\n",
    "for cls in class_list:\n",
    "    instances.append(cls())\n",
    "print(instances)"
   ]
  },
  {
   "cell_type": "code",
   "execution_count": 17,
   "id": "a83ea021",
   "metadata": {},
   "outputs": [
    {
     "name": "stdout",
     "output_type": "stream",
     "text": [
      "\n",
      "Question 41: Create a list of None values: [None, None, None, None]\n",
      "[None, None, None, None]\n"
     ]
    }
   ],
   "source": [
    "print(\"\\nQuestion 41: Create a list of None values: [None, None, None, None]\")\n",
    "none_list = [None, None, None, None]\n",
    "print(none_list)"
   ]
  },
  {
   "cell_type": "code",
   "execution_count": 19,
   "id": "0f7f456d",
   "metadata": {},
   "outputs": [
    {
     "name": "stdout",
     "output_type": "stream",
     "text": [
      "\n",
      "Question 42: Replace all None values with 0 in list\n",
      "[0, 0, 0, 0]\n"
     ]
    }
   ],
   "source": [
    "print(\"\\nQuestion 42: Replace all None values with 0 in list\")\n",
    "\n",
    "replaced = []\n",
    "for none_obj in none_list:\n",
    "    if none_obj is None:\n",
    "        replaced.append(0)\n",
    "    else:\n",
    "        replaced.append[none_obj]\n",
    "none_list = replaced\n",
    "print(none_list)"
   ]
  },
  {
   "cell_type": "code",
   "execution_count": 20,
   "id": "8897df65",
   "metadata": {},
   "outputs": [
    {
     "name": "stdout",
     "output_type": "stream",
     "text": [
      "\n",
      "Question 43: Create a list of boolean values: [True, False, True, False]\n",
      "[True, False, True, False]\n"
     ]
    }
   ],
   "source": [
    "print(\"\\nQuestion 43: Create a list of boolean values: [True, False, True, False]\")\n",
    "bool_list = [True, False, True, False]\n",
    "print(bool_list)"
   ]
  },
  {
   "cell_type": "code",
   "execution_count": 21,
   "id": "5a608353",
   "metadata": {},
   "outputs": [
    {
     "name": "stdout",
     "output_type": "stream",
     "text": [
      "\n",
      "Question 44: Count True values in boolean list\n",
      "2\n"
     ]
    }
   ],
   "source": [
    "print(\"\\nQuestion 44: Count True values in boolean list\")\n",
    "\n",
    "true_count = 0\n",
    "for i in bool_list:\n",
    "    if i is True:\n",
    "        true_count += 1\n",
    "\n",
    "print(true_count)"
   ]
  },
  {
   "cell_type": "code",
   "execution_count": 28,
   "id": "ac468531",
   "metadata": {},
   "outputs": [
    {
     "name": "stdout",
     "output_type": "stream",
     "text": [
      "\n",
      "Question 45: Create a list of ranges: [range(3), range(5), range(2)]\n",
      "[range(0, 3), range(0, 5), range(0, 2)]\n"
     ]
    }
   ],
   "source": [
    "print(\"\\nQuestion 45: Create a list of ranges: [range(3), range(5), range(2)]\")\n",
    "del range\n",
    "range_list = [range(3), range(5), range(2)]\n",
    "print(range_list)"
   ]
  },
  {
   "cell_type": "code",
   "execution_count": 29,
   "id": "c1e1805f",
   "metadata": {},
   "outputs": [
    {
     "name": "stdout",
     "output_type": "stream",
     "text": [
      "\n",
      "Question 46: Convert each range to list\n",
      "[0, 1, 2]\n",
      "[0, 1, 2, 3, 4]\n",
      "[0, 1]\n"
     ]
    }
   ],
   "source": [
    "print(\"\\nQuestion 46: Convert each range to list\")\n",
    "\n",
    "for r in range_list:\n",
    "    print(list(r))\n"
   ]
  },
  {
   "cell_type": "code",
   "execution_count": 31,
   "id": "3f06093b",
   "metadata": {},
   "outputs": [
    {
     "name": "stdout",
     "output_type": "stream",
     "text": [
      "\n",
      "Question 46: Convert each range to list\n",
      "[[0, 1, 2], [0, 1, 2, 3, 4]]\n"
     ]
    }
   ],
   "source": [
    "print(\"\\nQuestion 46: Convert each range to list\")\n",
    "ranges = [range(3), range(5)]\n",
    "lists_from_ranges = [list(r) for r in ranges]\n",
    "print(lists_from_ranges) "
   ]
  },
  {
   "cell_type": "code",
   "execution_count": 32,
   "id": "e9f74d78",
   "metadata": {},
   "outputs": [
    {
     "name": "stdout",
     "output_type": "stream",
     "text": [
      "\n",
      "Question 47: Create a list of generators: [(x for x in range(3)), (x for x in range(5))]\n",
      "[<generator object <genexpr> at 0x0000027A091D0DC0>, <generator object <genexpr> at 0x0000027A091D0880>]\n"
     ]
    }
   ],
   "source": [
    "print(\"\\nQuestion 47: Create a list of generators: [(x for x in range(3)), (x for x in range(5))]\")\n",
    "generators = [(x for x in range(3)), (x for x in range(5))]\n",
    "print(generators)"
   ]
  },
  {
   "cell_type": "code",
   "execution_count": 33,
   "id": "8b22890b",
   "metadata": {},
   "outputs": [
    {
     "name": "stdout",
     "output_type": "stream",
     "text": [
      "\n",
      "Question 48: Convert each generator to list\n",
      "[[0, 1, 2], [0, 1, 2, 3, 4]]\n"
     ]
    }
   ],
   "source": [
    "print(\"\\nQuestion 48: Convert each generator to list\")\n",
    "lists_from_generators = [list(g) for g in generators]\n",
    "print(lists_from_generators) "
   ]
  },
  {
   "cell_type": "code",
   "execution_count": 34,
   "id": "978c8a2b",
   "metadata": {},
   "outputs": [
    {
     "name": "stdout",
     "output_type": "stream",
     "text": [
      "\n",
      "Question 49: Create a list of iterators: [iter([1, 2, 3]), iter([4, 5, 6])]\n",
      "[<list_iterator object at 0x0000027A08CA9360>, <list_iterator object at 0x0000027A08CB19F0>]\n"
     ]
    }
   ],
   "source": [
    "print(\"\\nQuestion 49: Create a list of iterators: [iter([1, 2, 3]), iter([4, 5, 6])]\")\n",
    "iterators = [iter([1, 2, 3]), iter([4, 5, 6])]\n",
    "print(iterators)"
   ]
  },
  {
   "cell_type": "code",
   "execution_count": 35,
   "id": "f1f3bb41",
   "metadata": {},
   "outputs": [
    {
     "name": "stdout",
     "output_type": "stream",
     "text": [
      "\n",
      "Question 50: Extract all elements from each iterator\n",
      "[[1, 2, 3], [4, 5, 6]]\n"
     ]
    }
   ],
   "source": [
    "print(\"\\nQuestion 50: Extract all elements from each iterator\")\n",
    "lists_from_iterators = [list(it) for it in iterators]\n",
    "print(lists_from_iterators)"
   ]
  },
  {
   "cell_type": "code",
   "execution_count": null,
   "id": "9f3f5a02",
   "metadata": {},
   "outputs": [],
   "source": []
  }
 ],
 "metadata": {
  "kernelspec": {
   "display_name": "Python 3",
   "language": "python",
   "name": "python3"
  },
  "language_info": {
   "codemirror_mode": {
    "name": "ipython",
    "version": 3
   },
   "file_extension": ".py",
   "mimetype": "text/x-python",
   "name": "python",
   "nbconvert_exporter": "python",
   "pygments_lexer": "ipython3",
   "version": "3.13.2"
  }
 },
 "nbformat": 4,
 "nbformat_minor": 5
}
