{
 "cells": [
  {
   "cell_type": "code",
   "execution_count": 1,
   "id": "c11004ef",
   "metadata": {},
   "outputs": [
    {
     "name": "stdout",
     "output_type": "stream",
     "text": [
      "SOLVED EXAMPLE:\n",
      "Find the maximum and minimum values in a list\n",
      "List: [23, 45, 12, 67, 34, 89, 56]\n",
      "Maximum: 89\n",
      "Minimum: 12\n",
      "--------------------------------------------------\n"
     ]
    }
   ],
   "source": [
    "print(\"SOLVED EXAMPLE:\")\n",
    "print(\"Find the maximum and minimum values in a list\")\n",
    "numbers = [23, 45, 12, 67, 34, 89, 56]\n",
    "max_val = max(numbers)\n",
    "min_val = min(numbers)\n",
    "print(f\"List: {numbers}\")\n",
    "print(f\"Maximum: {max_val}\")\n",
    "print(f\"Minimum: {min_val}\")\n",
    "print(\"-\" * 50)"
   ]
  },
  {
   "cell_type": "code",
   "execution_count": 2,
   "id": "f23f7b7f",
   "metadata": {},
   "outputs": [
    {
     "name": "stdout",
     "output_type": "stream",
     "text": [
      "Question 1: Create a list of first 10 square numbers\n",
      "[1, 4, 9, 16, 25, 36, 49, 64, 81, 100]\n"
     ]
    }
   ],
   "source": [
    "print(\"Question 1: Create a list of first 10 square numbers\")\n",
    "squares = []\n",
    "for i in range(1, 11):\n",
    "    squares.append(i * i)\n",
    "print(squares)"
   ]
  },
  {
   "cell_type": "code",
   "execution_count": 4,
   "id": "11303b85",
   "metadata": {},
   "outputs": [
    {
     "name": "stdout",
     "output_type": "stream",
     "text": [
      "\n",
      "Question 2: Find the sum of all even numbers in [1, 2, 3, 4, 5, 6, 7, 8, 9, 10]\n",
      "even sum: 30\n"
     ]
    }
   ],
   "source": [
    "print(\"\\nQuestion 2: Find the sum of all even numbers in [1, 2, 3, 4, 5, 6, 7, 8, 9, 10]\")\n",
    "numbers = [1, 2, 3, 4, 5, 6, 7, 8, 9, 10]\n",
    "even_sum = 0\n",
    "for num in numbers:\n",
    "    if num % 2 == 0:\n",
    "        even_sum += num\n",
    "print(f\"even sum: {even_sum}\")"
   ]
  },
  {
   "cell_type": "code",
   "execution_count": 5,
   "id": "120d78dc",
   "metadata": {},
   "outputs": [
    {
     "name": "stdout",
     "output_type": "stream",
     "text": [
      "\n",
      "Question 3: Remove duplicates from [1, 2, 2, 3, 4, 4, 5, 6, 6, 7]\n",
      "[1, 2, 3, 4, 5, 6, 7]\n"
     ]
    }
   ],
   "source": [
    "print(\"\\nQuestion 3: Remove duplicates from [1, 2, 2, 3, 4, 4, 5, 6, 6, 7]\")\n",
    "list_with_dupes = [1, 2, 2, 3, 4, 4, 5, 6, 6, 7]\n",
    "no_dupes = []\n",
    "for num in list_with_dupes:\n",
    "    if num not in no_dupes:\n",
    "        no_dupes.append(num)\n",
    "print(no_dupes)"
   ]
  },
  {
   "cell_type": "code",
   "execution_count": 7,
   "id": "1bb95a9a",
   "metadata": {},
   "outputs": [
    {
     "name": "stdout",
     "output_type": "stream",
     "text": [
      "\n",
      "Question 4: Sort the list [64, 34, 25, 12, 22, 11, 90] in descending order\n",
      "[90, 64, 34, 25, 22, 12, 11]\n"
     ]
    }
   ],
   "source": [
    "print(\"\\nQuestion 4: Sort the list [64, 34, 25, 12, 22, 11, 90] in descending order\")\n",
    "nums = [64, 34, 25, 12, 22, 11, 90]\n",
    "nums.sort(reverse=True)\n",
    "print(nums)"
   ]
  },
  {
   "cell_type": "code",
   "execution_count": 8,
   "id": "5029a1c3",
   "metadata": {},
   "outputs": [
    {
     "name": "stdout",
     "output_type": "stream",
     "text": [
      "\n",
      "Question 5: Find the average of numbers in [15, 23, 31, 42, 56, 78, 91]\n",
      "48.0\n"
     ]
    }
   ],
   "source": [
    "print(\"\\nQuestion 5: Find the average of numbers in [15, 23, 31, 42, 56, 78, 91]\")\n",
    "data = [15, 23, 31, 42, 56, 78, 91]\n",
    "total = 0\n",
    "for num in data:\n",
    "    total += num\n",
    "average = total / len(data)\n",
    "print(average)"
   ]
  },
  {
   "cell_type": "code",
   "execution_count": 9,
   "id": "d8f696b3",
   "metadata": {},
   "outputs": [
    {
     "name": "stdout",
     "output_type": "stream",
     "text": [
      "\n",
      "Question 6: Create a list of first 15 Fibonacci numbers\n",
      "[0, 1, 1, 2, 3, 5, 8, 13, 21, 34, 55, 89, 144, 233, 377]\n"
     ]
    }
   ],
   "source": [
    "print(\"\\nQuestion 6: Create a list of first 15 Fibonacci numbers\")\n",
    "fibonacci = [0, 1]\n",
    "while len(fibonacci) < 15:\n",
    "    next_num = fibonacci[-1] + fibonacci[-2]\n",
    "    fibonacci.append(next_num)\n",
    "print(fibonacci)"
   ]
  },
  {
   "cell_type": "code",
   "execution_count": 11,
   "id": "48859b8c",
   "metadata": {},
   "outputs": [
    {
     "name": "stdout",
     "output_type": "stream",
     "text": [
      "\n",
      "Question 7: Find the second largest number in [45, 67, 23, 89, 12, 34, 78]\n",
      "[89, 78, 67, 45, 34, 23, 12]\n",
      "78\n"
     ]
    }
   ],
   "source": [
    "print(\"\\nQuestion 7: Find the second largest number in [45, 67, 23, 89, 12, 34, 78]\")\n",
    "nums = [45, 67, 23, 89, 12, 34, 78]\n",
    "nums.sort(reverse=True)\n",
    "print(nums)\n",
    "second_largest = nums[1]\n",
    "print(second_largest)"
   ]
  },
  {
   "cell_type": "code",
   "execution_count": 12,
   "id": "43e484e9",
   "metadata": {},
   "outputs": [
    {
     "name": "stdout",
     "output_type": "stream",
     "text": [
      "\n",
      "Question 8: Reverse the list [1, 2, 3, 4, 5, 6, 7, 8, 9, 10]\n",
      "[10, 9, 8, 7, 6, 5, 4, 3, 2, 1]\n"
     ]
    }
   ],
   "source": [
    "print(\"\\nQuestion 8: Reverse the list [1, 2, 3, 4, 5, 6, 7, 8, 9, 10]\")\n",
    "nums = [1, 2, 3, 4, 5, 6, 7, 8, 9, 10]\n",
    "nums.reverse()\n",
    "print(nums)"
   ]
  },
  {
   "cell_type": "code",
   "execution_count": 13,
   "id": "b536ee0b",
   "metadata": {},
   "outputs": [
    {
     "name": "stdout",
     "output_type": "stream",
     "text": [
      "\n",
      "Question 9: Count how many times 5 appears in [1, 5, 2, 5, 3, 5, 4, 5, 6]\n",
      "4\n"
     ]
    }
   ],
   "source": [
    "print(\"\\nQuestion 9: Count how many times 5 appears in [1, 5, 2, 5, 3, 5, 4, 5, 6]\")\n",
    "nums = [1, 5, 2, 5, 3, 5, 4, 5, 6]\n",
    "count_5 = 0\n",
    "for num in nums:\n",
    "    if num == 5:\n",
    "        count_5 += 1\n",
    "print(count_5)"
   ]
  },
  {
   "cell_type": "code",
   "execution_count": 14,
   "id": "97358f24",
   "metadata": {},
   "outputs": [
    {
     "name": "stdout",
     "output_type": "stream",
     "text": [
      "\n",
      "Question 10: Create a list of prime numbers between 1 and 50\n",
      "[2, 3, 5, 7, 11, 13, 17, 19, 23, 29, 31, 37, 41, 43, 47]\n"
     ]
    }
   ],
   "source": [
    "print(\"\\nQuestion 10: Create a list of prime numbers between 1 and 50\")\n",
    "primes = []\n",
    "for num in range(2, 51):\n",
    "    is_prime = True\n",
    "    for i in range(2, int(num**0.5) + 1):\n",
    "        if num % i == 0:\n",
    "            is_prime = False\n",
    "            break\n",
    "    if is_prime:\n",
    "        primes.append(num)\n",
    "print(primes)"
   ]
  },
  {
   "cell_type": "code",
   "execution_count": 15,
   "id": "b693a88e",
   "metadata": {},
   "outputs": [
    {
     "name": "stdout",
     "output_type": "stream",
     "text": [
      "sublist : [1, 2, 3]\n",
      "sublist : [4, 5, 6]\n",
      "sublist : [7, 8, 9]\n",
      "[1, 2, 3, 4, 5, 6, 7, 8, 9]\n"
     ]
    }
   ],
   "source": [
    "# Question 11: Flatten nested list [[1, 2, 3], [4, 5, 6], [7, 8, 9]]\n",
    "nested = [[1, 2, 3], [4, 5, 6], [7, 8, 9]]\n",
    "flat = []\n",
    "for sublist in nested:\n",
    "    print(f\"sublist : {sublist}\")\n",
    "    for item in sublist:\n",
    "        flat.append(item)\n",
    "print(flat)"
   ]
  },
  {
   "cell_type": "code",
   "execution_count": 16,
   "id": "5cf1c7d7",
   "metadata": {},
   "outputs": [
    {
     "name": "stdout",
     "output_type": "stream",
     "text": [
      "[4, 5]\n"
     ]
    }
   ],
   "source": [
    "# Question 12: Find common elements between [1, 2, 3, 4, 5] and [4, 5, 6, 7, 8]\n",
    "list1 = [1, 2, 3, 4, 5]\n",
    "list2 = [4, 5, 6, 7, 8]\n",
    "common = []\n",
    "for item in list1:\n",
    "    if item in list2:\n",
    "        common.append(item)\n",
    "print(common)"
   ]
  },
  {
   "cell_type": "code",
   "execution_count": 17,
   "id": "1f806db6",
   "metadata": {},
   "outputs": [
    {
     "name": "stdout",
     "output_type": "stream",
     "text": [
      "[[1, 2], [3, 4], [5, 6]]\n"
     ]
    }
   ],
   "source": [
    "# Question 13: Create a list of lists: [[1, 2], [3, 4], [5, 6]]\n",
    "list_of_lists = [[1, 2], [3, 4], [5, 6]]\n",
    "print(list_of_lists)"
   ]
  },
  {
   "cell_type": "code",
   "execution_count": 18,
   "id": "932e5bfc",
   "metadata": {},
   "outputs": [
    {
     "name": "stdout",
     "output_type": "stream",
     "text": [
      "[6, 15, 24]\n"
     ]
    }
   ],
   "source": [
    "# Question 14: Find the sum of each sublist in [[1, 2, 3], [4, 5, 6], [7, 8, 9]]\n",
    "nested = [[1, 2, 3], [4, 5, 6], [7, 8, 9]]\n",
    "sums = []\n",
    "for sublist in nested:\n",
    "    sums.append(sum(sublist))\n",
    "print(sums)"
   ]
  },
  {
   "cell_type": "code",
   "execution_count": 22,
   "id": "5098f5f9",
   "metadata": {},
   "outputs": [
    {
     "name": "stdout",
     "output_type": "stream",
     "text": [
      "[[1, 4, 7], [2, 5, 8], [3, 6, 9]]\n"
     ]
    }
   ],
   "source": [
    "# Question 15: Transpose the matrix [[1, 2, 3], [4, 5, 6], [7, 8, 9]]\n",
    "matrix = [[1, 2, 3], [4, 5, 6], [7, 8, 9]]\n",
    "transpose = []\n",
    "for i in range(len(matrix[0])):\n",
    "    new_row = []\n",
    "    for row in matrix:\n",
    "        new_row.append(row[i])\n",
    "    transpose.append(new_row)\n",
    "print(transpose)"
   ]
  },
  {
   "cell_type": "code",
   "execution_count": 23,
   "id": "887ba9ca",
   "metadata": {},
   "outputs": [
    {
     "name": "stdout",
     "output_type": "stream",
     "text": [
      "[5, 9, 8]\n"
     ]
    }
   ],
   "source": [
    "# Question 16: Find the maximum value in each sublist of [[1, 5, 3], [9, 2, 7], [4, 8, 6]]\n",
    "nested = [[1, 5, 3], [9, 2, 7], [4, 8, 6]]\n",
    "max_values = []\n",
    "for sublist in nested:\n",
    "    max_values.append(max(sublist))\n",
    "print(max_values)"
   ]
  },
  {
   "cell_type": "code",
   "execution_count": 24,
   "id": "3e4a42a2",
   "metadata": {},
   "outputs": [
    {
     "name": "stdout",
     "output_type": "stream",
     "text": [
      "[[[1, 2], [3, 4]], [[5, 6], [7, 8]]]\n"
     ]
    }
   ],
   "source": [
    "# Question 17: Create a 3D list: [[[1, 2], [3, 4]], [[5, 6], [7, 8]]]\n",
    "three_d_list = [[[1, 2], [3, 4]], [[5, 6], [7, 8]]]\n",
    "print(three_d_list)"
   ]
  },
  {
   "cell_type": "code",
   "execution_count": 25,
   "id": "b5afec7a",
   "metadata": {},
   "outputs": [
    {
     "name": "stdout",
     "output_type": "stream",
     "text": [
      "36\n"
     ]
    }
   ],
   "source": [
    "# Question 18: Find the sum of all elements in 3D list [[[1, 2], [3, 4]], [[5, 6], [7, 8]]]\n",
    "three_d = [[[1, 2], [3, 4]], [[5, 6], [7, 8]]]\n",
    "total_sum = 0\n",
    "for two_d in three_d:\n",
    "    for one_d in two_d:\n",
    "        for num in one_d:\n",
    "            total_sum += num\n",
    "print(total_sum)"
   ]
  },
  {
   "cell_type": "code",
   "execution_count": 26,
   "id": "d3e4db7a",
   "metadata": {},
   "outputs": [
    {
     "name": "stdout",
     "output_type": "stream",
     "text": [
      "[2, 4, 6, 8]\n"
     ]
    }
   ],
   "source": [
    "# Question 19: Extract all even numbers from nested list [[1, 2, 3], [4, 5, 6], [7, 8, 9]]\n",
    "nested = [[1, 2, 3], [4, 5, 6], [7, 8, 9]]\n",
    "evens = []\n",
    "for sublist in nested:\n",
    "    for num in sublist:\n",
    "        if num % 2 == 0:\n",
    "            evens.append(num)\n",
    "print(evens)\n"
   ]
  },
  {
   "cell_type": "code",
   "execution_count": 27,
   "id": "3151d1c8",
   "metadata": {},
   "outputs": [
    {
     "name": "stdout",
     "output_type": "stream",
     "text": [
      "[1, 'hello', 3.14, True, [1, 2, 3]]\n"
     ]
    }
   ],
   "source": [
    "# Question 20: Create a list of mixed data types: [1, \"hello\", 3.14, True, [1, 2, 3]]\n",
    "mixed = [1, \"hello\", 3.14, True, [1, 2, 3]]\n",
    "print(mixed)"
   ]
  },
  {
   "cell_type": "code",
   "execution_count": 28,
   "id": "6c13ab70",
   "metadata": {},
   "outputs": [
    {
     "name": "stdout",
     "output_type": "stream",
     "text": [
      "\n",
      "Question 21: Find the length of each string in ['apple', 'banana', 'cherry', 'date']\n",
      "[5, 6, 6, 4]\n"
     ]
    }
   ],
   "source": [
    "# Question 21: Find the length of each string in [\"apple\", \"banana\", \"cherry\", \"date\"]\n",
    "print(\"\\nQuestion 21: Find the length of each string in ['apple', 'banana', 'cherry', 'date']\")\n",
    "words = [\"apple\", \"banana\", \"cherry\", \"date\"]\n",
    "lengths = [len(word) for word in words]\n",
    "print(lengths)"
   ]
  },
  {
   "cell_type": "code",
   "execution_count": 29,
   "id": "9896fab8",
   "metadata": {},
   "outputs": [
    {
     "name": "stdout",
     "output_type": "stream",
     "text": [
      "\n",
      "Question 22: Create a list of tuples: [(1, 'a'), (2, 'b'), (3, 'c')]\n",
      "[(1, 'a'), (2, 'b'), (3, 'c')]\n"
     ]
    }
   ],
   "source": [
    "# Question 22: Create a list of tuples: [(1, 'a'), (2, 'b'), (3, 'c')]\n",
    "print(\"\\nQuestion 22: Create a list of tuples: [(1, 'a'), (2, 'b'), (3, 'c')]\")\n",
    "tuples_list = [(1, 'a'), (2, 'b'), (3, 'c')]\n",
    "print(tuples_list)\n"
   ]
  },
  {
   "cell_type": "code",
   "execution_count": null,
   "id": "09eab06b",
   "metadata": {},
   "outputs": [],
   "source": []
  }
 ],
 "metadata": {
  "kernelspec": {
   "display_name": "Python 3",
   "language": "python",
   "name": "python3"
  },
  "language_info": {
   "codemirror_mode": {
    "name": "ipython",
    "version": 3
   },
   "file_extension": ".py",
   "mimetype": "text/x-python",
   "name": "python",
   "nbconvert_exporter": "python",
   "pygments_lexer": "ipython3",
   "version": "3.13.2"
  }
 },
 "nbformat": 4,
 "nbformat_minor": 5
}
