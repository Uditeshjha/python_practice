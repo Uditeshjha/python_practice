{
 "cells": [
  {
   "cell_type": "code",
   "execution_count": 1,
   "id": "1fee2ba5",
   "metadata": {},
   "outputs": [
    {
     "name": "stdout",
     "output_type": "stream",
     "text": [
      "Question 1: Create complex number 5 + 3j\n",
      "(5+3j)\n"
     ]
    }
   ],
   "source": [
    "# Question 1: Create complex number 5 + 3j\n",
    "print(\"Question 1: Create complex number 5 + 3j\")\n",
    "complex_num = 5 + 3j\n",
    "print(complex_num)"
   ]
  },
  {
   "cell_type": "code",
   "execution_count": 2,
   "id": "273aafdb",
   "metadata": {},
   "outputs": [
    {
     "name": "stdout",
     "output_type": "stream",
     "text": [
      "\n",
      "Question 2: Find the real part of complex number 7 - 2j\n",
      "7.0\n"
     ]
    }
   ],
   "source": [
    "# Question 2: Find the real part of complex number 7 - 2j\n",
    "print(\"\\nQuestion 2: Find the real part of complex number 7 - 2j\")\n",
    "complex2 = 7 - 2j\n",
    "print(complex2.real)"
   ]
  },
  {
   "cell_type": "code",
   "execution_count": 3,
   "id": "fee35c62",
   "metadata": {},
   "outputs": [
    {
     "name": "stdout",
     "output_type": "stream",
     "text": [
      "\n",
      "Question 3: Find the imaginary part of complex number 4 + 6j\n",
      "6.0\n"
     ]
    }
   ],
   "source": [
    "# Question 3: Find the imaginary part of complex number 4 + 6j\n",
    "print(\"\\nQuestion 3: Find the imaginary part of complex number 4 + 6j\")\n",
    "complex3 = 4 + 6j\n",
    "print(complex3.imag)"
   ]
  },
  {
   "cell_type": "code",
   "execution_count": 4,
   "id": "6f6d7609",
   "metadata": {},
   "outputs": [
    {
     "name": "stdout",
     "output_type": "stream",
     "text": [
      "\n",
      "Question 4: Add two complex numbers: (3 + 2j) and (1 + 4j)\n",
      "(4+6j)\n"
     ]
    }
   ],
   "source": [
    "# Question 4: Add two complex numbers: (3 + 2j) and (1 + 4j)\n",
    "print(\"\\nQuestion 4: Add two complex numbers: (3 + 2j) and (1 + 4j)\")\n",
    "complex_num1 = 3 + 2j\n",
    "complex_num2 = 1 + 4j\n",
    "complex_sum = complex_num1 + complex_num2\n",
    "print(complex_sum)\n"
   ]
  },
  {
   "cell_type": "code",
   "execution_count": 6,
   "id": "9a5569c7",
   "metadata": {},
   "outputs": [
    {
     "name": "stdout",
     "output_type": "stream",
     "text": [
      "\n",
      "Question 5: Multiply two complex numbers: (2 + 3j) and (1 + 2j)\n",
      "(-4+7j)\n"
     ]
    }
   ],
   "source": [
    "# Question 5: Multiply two complex numbers: (2 + 3j) and (1 + 2j)\n",
    "print(\"\\nQuestion 5: Multiply two complex numbers: (2 + 3j) and (1 + 2j)\")\n",
    "complex_num1 = 2 + 3j\n",
    "complex_num2 = 1 + 2j\n",
    "complex_mul = complex_num1 * complex_num2\n",
    "print(complex_mul)"
   ]
  },
  {
   "cell_type": "code",
   "execution_count": 7,
   "id": "0e18ffd1",
   "metadata": {},
   "outputs": [
    {
     "name": "stdout",
     "output_type": "stream",
     "text": [
      "\n",
      "Question 6: Find the magnitude of complex number 6 + 8j\n",
      "10.0\n"
     ]
    }
   ],
   "source": [
    "# Question 6: Find the magnitude of complex number 6 + 8j\n",
    "print(\"\\nQuestion 6: Find the magnitude of complex number 6 + 8j\")\n",
    "\n",
    "complex6 = 6 + 8j\n",
    "print(abs(complex6))"
   ]
  },
  {
   "cell_type": "code",
   "execution_count": 8,
   "id": "d9d53d0b",
   "metadata": {},
   "outputs": [
    {
     "name": "stdout",
     "output_type": "stream",
     "text": [
      "\n",
      "Question 7: Find the conjugate of complex number 5 - 7j\n",
      "(5+7j)\n"
     ]
    }
   ],
   "source": [
    "# Question 7: Find the conjugate of complex number 5 - 7j\n",
    "print(\"\\nQuestion 7: Find the conjugate of complex number 5 - 7j\")\n",
    "complex7 = 5 - 7j\n",
    "print(complex7.conjugate())"
   ]
  },
  {
   "cell_type": "code",
   "execution_count": 9,
   "id": "ce8c8f1c",
   "metadata": {},
   "outputs": [
    {
     "name": "stdout",
     "output_type": "stream",
     "text": [
      "\n",
      "Question 8: Subtract complex numbers: (10 + 5j) - (3 + 2j)\n",
      "(7+3j)\n"
     ]
    }
   ],
   "source": [
    "# Question 8: Subtract complex numbers: (10 + 5j) - (3 + 2j)\n",
    "print(\"\\nQuestion 8: Subtract complex numbers: (10 + 5j) - (3 + 2j)\")\n",
    "complex1 = 10 + 5j\n",
    "complex2 = 3 + 2j\n",
    "print(complex1 - complex2)"
   ]
  },
  {
   "cell_type": "code",
   "execution_count": 10,
   "id": "9b70f39a",
   "metadata": {},
   "outputs": [
    {
     "name": "stdout",
     "output_type": "stream",
     "text": [
      "\n",
      "Question 9: Divide complex numbers: (8 + 6j) / (2 + 1j)\n",
      "(4.4+0.8j)\n"
     ]
    }
   ],
   "source": [
    "# Question 9: Divide complex numbers: (8 + 6j) / (2 + 1j)\n",
    "print(\"\\nQuestion 9: Divide complex numbers: (8 + 6j) / (2 + 1j)\")\n",
    "complex1 = 8 + 6j\n",
    "complex2 = 2 + 1j\n",
    "print(complex1 / complex2)"
   ]
  },
  {
   "cell_type": "code",
   "execution_count": 11,
   "id": "b03a742e",
   "metadata": {},
   "outputs": [
    {
     "name": "stdout",
     "output_type": "stream",
     "text": [
      "\n",
      "Question 10: Find the phase angle of complex number 1 + 1j\n",
      "Phase angle in radians: 0.7853981633974483\n"
     ]
    }
   ],
   "source": [
    "# Question 10: Find the phase angle of complex number 1 + 1j\n",
    "print(\"\\nQuestion 10: Find the phase angle of complex number 1 + 1j\")\n",
    "import cmath\n",
    "num = 1 + 1j\n",
    "phase_angle = cmath.phase(num)  # returns angle in radians\n",
    "print(\"Phase angle in radians:\", phase_angle)"
   ]
  },
  {
   "cell_type": "code",
   "execution_count": null,
   "id": "59ea68ef",
   "metadata": {},
   "outputs": [],
   "source": []
  }
 ],
 "metadata": {
  "kernelspec": {
   "display_name": "Python 3",
   "language": "python",
   "name": "python3"
  },
  "language_info": {
   "codemirror_mode": {
    "name": "ipython",
    "version": 3
   },
   "file_extension": ".py",
   "mimetype": "text/x-python",
   "name": "python",
   "nbconvert_exporter": "python",
   "pygments_lexer": "ipython3",
   "version": "3.13.2"
  }
 },
 "nbformat": 4,
 "nbformat_minor": 5
}
